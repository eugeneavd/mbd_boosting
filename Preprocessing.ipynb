{
 "cells": [
  {
   "cell_type": "markdown",
   "metadata": {
    "id": "FbgTK8tXSoZJ"
   },
   "source": [
    "## Imports"
   ]
  },
  {
   "cell_type": "markdown",
   "metadata": {},
   "source": [
    "Set up Spark session"
   ]
  },
  {
   "cell_type": "code",
   "execution_count": 1,
   "metadata": {
    "executionInfo": {
     "elapsed": 1238,
     "status": "ok",
     "timestamp": 1738091275047,
     "user": {
      "displayName": "Eugene O'Leary",
      "userId": "15546787906852777125"
     },
     "user_tz": -180
    },
    "id": "hc5umizRVo_5"
   },
   "outputs": [],
   "source": [
    "import pyspark.sql.types as pst\n",
    "import pyspark.sql.functions as F\n",
    "from pyspark.sql import Window"
   ]
  },
  {
   "cell_type": "code",
   "execution_count": 2,
   "metadata": {
    "executionInfo": {
     "elapsed": 31273,
     "status": "ok",
     "timestamp": 1738091306315,
     "user": {
      "displayName": "Eugene O'Leary",
      "userId": "15546787906852777125"
     },
     "user_tz": -180
    },
    "id": "c9ScGchJS08L"
   },
   "outputs": [],
   "source": [
    "import pyspark\n",
    "from pyspark.sql import SparkSession\n",
    "from pyspark import SparkContext, SparkConf\n",
    "\n",
    "conf = SparkConf().set('spark.ui.port', '4050').set('spark.serializer', 'org.apache.spark.serializer.KryoSerializer')\\\n",
    "                  .set('spark.dynamicAllocation.enabled', 'true')\\\n",
    "                  .set('spark.shuffle.service.enabled', 'true')\n",
    "sc = SparkContext(conf=conf)\n",
    "ss = SparkSession.builder.master('local[*]').getOrCreate()"
   ]
  },
  {
   "cell_type": "code",
   "execution_count": 3,
   "metadata": {
    "colab": {
     "base_uri": "https://localhost:8080/",
     "height": 219
    },
    "executionInfo": {
     "elapsed": 4368,
     "status": "ok",
     "timestamp": 1738091310680,
     "user": {
      "displayName": "Eugene O'Leary",
      "userId": "15546787906852777125"
     },
     "user_tz": -180
    },
    "id": "nb1dIDOsCBUE",
    "outputId": "c5c6a689-a1ca-4e61-b6d5-5aa4bbe1c194"
   },
   "outputs": [
    {
     "data": {
      "text/html": [
       "\n",
       "            <div>\n",
       "                <p><b>SparkSession - in-memory</b></p>\n",
       "                \n",
       "        <div>\n",
       "            <p><b>SparkContext</b></p>\n",
       "\n",
       "            <p><a href=\"http://c48f0355198a:4050\">Spark UI</a></p>\n",
       "\n",
       "            <dl>\n",
       "              <dt>Version</dt>\n",
       "                <dd><code>v3.5.4</code></dd>\n",
       "              <dt>Master</dt>\n",
       "                <dd><code>local[*]</code></dd>\n",
       "              <dt>AppName</dt>\n",
       "                <dd><code>pyspark-shell</code></dd>\n",
       "            </dl>\n",
       "        </div>\n",
       "        \n",
       "            </div>\n",
       "        "
      ],
      "text/plain": [
       "<pyspark.sql.session.SparkSession at 0x791f84bf2350>"
      ]
     },
     "execution_count": 3,
     "metadata": {},
     "output_type": "execute_result"
    }
   ],
   "source": [
    "ss"
   ]
  },
  {
   "cell_type": "code",
   "execution_count": 4,
   "metadata": {
    "executionInfo": {
     "elapsed": 703,
     "status": "ok",
     "timestamp": 1738091311380,
     "user": {
      "displayName": "Eugene O'Leary",
      "userId": "15546787906852777125"
     },
     "user_tz": -180
    },
    "id": "-1GaELVlv-lk"
   },
   "outputs": [],
   "source": [
    "from tqdm.auto import tqdm\n",
    "\n",
    "import pandas as pd\n",
    "import numpy as np\n",
    "import matplotlib.pyplot as plt\n",
    "\n",
    "plt.rcParams.update({\n",
    "    'axes.grid': True,\n",
    "    'figure.figsize': [6, 4],\n",
    "})"
   ]
  },
  {
   "cell_type": "code",
   "execution_count": null,
   "metadata": {
    "colab": {
     "base_uri": "https://localhost:8080/"
    },
    "executionInfo": {
     "elapsed": 28420,
     "status": "ok",
     "timestamp": 1737905733840,
     "user": {
      "displayName": "Eugene O'Leary",
      "userId": "15546787906852777125"
     },
     "user_tz": -180
    },
    "id": "gVTMXbavNaLQ",
    "outputId": "bd703836-9a3e-49d1-ccd4-6f126efe4bf6"
   },
   "outputs": [
    {
     "name": "stdout",
     "output_type": "stream",
     "text": [
      "Mounted at /content/drive/\n"
     ]
    }
   ],
   "source": [
    "from google.colab import drive\n",
    "drive.mount('/content/drive/')"
   ]
  },
  {
   "cell_type": "markdown",
   "metadata": {
    "id": "XwWx9CEbSmo_"
   },
   "source": [
    "## EDA"
   ]
  },
  {
   "cell_type": "markdown",
   "metadata": {
    "id": "UtnsU-vgWfTu"
   },
   "source": [
    "### targets"
   ]
  },
  {
   "cell_type": "code",
   "execution_count": 5,
   "metadata": {
    "executionInfo": {
     "elapsed": 736,
     "status": "ok",
     "timestamp": 1738091312113,
     "user": {
      "displayName": "Eugene O'Leary",
      "userId": "15546787906852777125"
     },
     "user_tz": -180
    },
    "id": "d6wBXfmoOvsS"
   },
   "outputs": [],
   "source": [
    "from huggingface_hub import snapshot_download, hf_hub_download"
   ]
  },
  {
   "cell_type": "code",
   "execution_count": 6,
   "metadata": {
    "colab": {
     "base_uri": "https://localhost:8080/",
     "height": 173,
     "referenced_widgets": [
      "f0cfa3a158f14522a194df7e91566021",
      "4a347f86dc97448c877f67a727115329",
      "c4f6ebf5256e45e399a02ca2de0037c2",
      "6519a30d393e46f9a8791d5c82416ce6",
      "4d3bf2fd94374f34b2ad36bad82fb2ee",
      "0abf3511d8ef4b4998631fe39dcb38e5",
      "b1e5912c361b411d8d8a8e3aeeb77fa1",
      "2587358146e04676806ee0c459430c0e",
      "4c72555580574d259752f2c03f639460",
      "434654afa0d14141a22f1aa5a6fd069d",
      "89c095be4f964ed982d5acfbe590a49d"
     ]
    },
    "executionInfo": {
     "elapsed": 2455,
     "status": "ok",
     "timestamp": 1738091314564,
     "user": {
      "displayName": "Eugene O'Leary",
      "userId": "15546787906852777125"
     },
     "user_tz": -180
    },
    "id": "kEyta1XMQ_xm",
    "outputId": "e56d7cea-b142-44a5-b884-778a1d8163d6"
   },
   "outputs": [
    {
     "name": "stderr",
     "output_type": "stream",
     "text": [
      "/usr/local/lib/python3.11/dist-packages/huggingface_hub/utils/_auth.py:94: UserWarning: \n",
      "The secret `HF_TOKEN` does not exist in your Colab secrets.\n",
      "To authenticate with the Hugging Face Hub, create a token in your settings tab (https://huggingface.co/settings/tokens), set it as secret in your Google Colab and restart your session.\n",
      "You will be able to reuse this secret in all of your notebooks.\n",
      "Please note that authentication is recommended but still optional to access public models or datasets.\n",
      "  warnings.warn(\n"
     ]
    },
    {
     "data": {
      "application/vnd.jupyter.widget-view+json": {
       "model_id": "f0cfa3a158f14522a194df7e91566021",
       "version_major": 2,
       "version_minor": 0
      },
      "text/plain": [
       "targets.tar.gz:   0%|          | 0.00/7.93M [00:00<?, ?B/s]"
      ]
     },
     "metadata": {},
     "output_type": "display_data"
    }
   ],
   "source": [
    "hf_hub_download(repo_id=\"ai-lab/MBD-mini\", filename=\"targets.tar.gz\", repo_type=\"dataset\", local_dir='data')\n",
    "!tar -xf ./data/targets.tar.gz"
   ]
  },
  {
   "cell_type": "code",
   "execution_count": 7,
   "metadata": {
    "executionInfo": {
     "elapsed": 6942,
     "status": "ok",
     "timestamp": 1738091321504,
     "user": {
      "displayName": "Eugene O'Leary",
      "userId": "15546787906852777125"
     },
     "user_tz": -180
    },
    "id": "Mv8AkpsmUZH0"
   },
   "outputs": [],
   "source": [
    "targets = ss.read.parquet('targets')"
   ]
  },
  {
   "cell_type": "code",
   "execution_count": 8,
   "metadata": {
    "colab": {
     "base_uri": "https://localhost:8080/"
    },
    "executionInfo": {
     "elapsed": 8800,
     "status": "ok",
     "timestamp": 1738091331381,
     "user": {
      "displayName": "Eugene O'Leary",
      "userId": "15546787906852777125"
     },
     "user_tz": -180
    },
    "id": "hWzlfAsDUBsW",
    "outputId": "f3b9bbe9-0d69-44eb-bf26-ff2dd32b6106"
   },
   "outputs": [
    {
     "data": {
      "text/plain": [
       "1202688"
      ]
     },
     "execution_count": 8,
     "metadata": {},
     "output_type": "execute_result"
    }
   ],
   "source": [
    "targets.count()"
   ]
  },
  {
   "cell_type": "code",
   "execution_count": null,
   "metadata": {
    "colab": {
     "base_uri": "https://localhost:8080/"
    },
    "executionInfo": {
     "elapsed": 7,
     "status": "ok",
     "timestamp": 1737739867246,
     "user": {
      "displayName": "Eugene O'Leary",
      "userId": "15546787906852777125"
     },
     "user_tz": -180
    },
    "id": "vv8zzIy8Ui_l",
    "outputId": "5974e060-23ea-4189-99c8-c7ff24ec780e"
   },
   "outputs": [
    {
     "name": "stdout",
     "output_type": "stream",
     "text": [
      "root\n",
      " |-- client_id: string (nullable = true)\n",
      " |-- mon: string (nullable = true)\n",
      " |-- bcard_target: integer (nullable = true)\n",
      " |-- cred_target: integer (nullable = true)\n",
      " |-- zp_target: integer (nullable = true)\n",
      " |-- acquiring_target: integer (nullable = true)\n",
      " |-- trans_count: integer (nullable = true)\n",
      " |-- diff_trans_date: double (nullable = true)\n",
      " |-- __index_level_0__: long (nullable = true)\n",
      " |-- fold: integer (nullable = true)\n",
      "\n"
     ]
    }
   ],
   "source": [
    "targets.printSchema()"
   ]
  },
  {
   "cell_type": "markdown",
   "metadata": {
    "id": "WT7eIA7T7b-V"
   },
   "source": [
    "Distribution of number of transactions for client in report month"
   ]
  },
  {
   "cell_type": "code",
   "execution_count": null,
   "metadata": {
    "colab": {
     "base_uri": "https://localhost:8080/",
     "height": 448
    },
    "id": "L3tED3g37hhf",
    "outputId": "f290cbf7-a9c1-40a4-e125-2d9a2b3893b9"
   },
   "outputs": [
    {
     "data": {
      "text/plain": [
       "<Axes: ylabel='Frequency'>"
      ]
     },
     "execution_count": 7,
     "metadata": {},
     "output_type": "execute_result"
    },
    {
     "data": {
      "image/png": "[encoded data removed]",
      "text/plain": [
       "<Figure size 640x480 with 1 Axes>"
      ]
     },
     "metadata": {},
     "output_type": "display_data"
    }
   ],
   "source": [
    "targets.toPandas()['trans_count'].plot(kind='hist', bins=50)"
   ]
  },
  {
   "cell_type": "markdown",
   "metadata": {},
   "source": [
    "Number of distinct clients"
   ]
  },
  {
   "cell_type": "code",
   "execution_count": null,
   "metadata": {
    "colab": {
     "base_uri": "https://localhost:8080/"
    },
    "executionInfo": {
     "elapsed": 6221,
     "status": "ok",
     "timestamp": 1737799224444,
     "user": {
      "displayName": "Eugene O'Leary",
      "userId": "15546787906852777125"
     },
     "user_tz": -180
    },
    "id": "u2NLLHky51Vd",
    "outputId": "a54f63b9-e4c6-4226-988f-4b5b2da5fa4c"
   },
   "outputs": [
    {
     "name": "stdout",
     "output_type": "stream",
     "text": [
      "+-------------------------+\n",
      "|count(DISTINCT client_id)|\n",
      "+-------------------------+\n",
      "|                   100224|\n",
      "+-------------------------+\n",
      "\n"
     ]
    }
   ],
   "source": [
    "targets\\\n",
    "    .select(F.countDistinct('client_id'))\\\n",
    "    .show()"
   ]
  },
  {
   "cell_type": "code",
   "execution_count": null,
   "metadata": {
    "colab": {
     "base_uri": "https://localhost:8080/"
    },
    "executionInfo": {
     "elapsed": 292,
     "status": "ok",
     "timestamp": 1737739960064,
     "user": {
      "displayName": "Eugene O'Leary",
      "userId": "15546787906852777125"
     },
     "user_tz": -180
    },
    "id": "Qc2BHCRYUr-s",
    "outputId": "b721cc7b-1d26-4815-af96-3ef1b5d1dc6b"
   },
   "outputs": [
    {
     "name": "stdout",
     "output_type": "stream",
     "text": [
      "+----------------------------------------------------------------+----------+------------+-----------+---------+----------------+-----------+---------------+-----------------+----+\n",
      "|client_id                                                       |mon       |bcard_target|cred_target|zp_target|acquiring_target|trans_count|diff_trans_date|__index_level_0__|fold|\n",
      "+----------------------------------------------------------------+----------+------------+-----------+---------+----------------+-----------+---------------+-----------------+----+\n",
      "|0000778662f0a7deffaedda7a66afcf008e9aaf6a2af110bf2a62e2572b2b8e4|2022-02-28|0           |0          |0        |0               |6          |10.0           |7200048          |3   |\n",
      "|0000778662f0a7deffaedda7a66afcf008e9aaf6a2af110bf2a62e2572b2b8e4|2022-03-31|0           |0          |0        |0               |12         |12.0           |7200049          |3   |\n",
      "|0000778662f0a7deffaedda7a66afcf008e9aaf6a2af110bf2a62e2572b2b8e4|2022-04-30|0           |0          |0        |0               |33         |0.0            |7200050          |3   |\n",
      "|0000778662f0a7deffaedda7a66afcf008e9aaf6a2af110bf2a62e2572b2b8e4|2022-05-31|0           |0          |0        |0               |39         |2.0            |7200051          |3   |\n",
      "|0000778662f0a7deffaedda7a66afcf008e9aaf6a2af110bf2a62e2572b2b8e4|2022-06-30|0           |0          |0        |0               |53         |0.0            |7200052          |3   |\n",
      "+----------------------------------------------------------------+----------+------------+-----------+---------+----------------+-----------+---------------+-----------------+----+\n",
      "only showing top 5 rows\n",
      "\n"
     ]
    }
   ],
   "source": [
    "targets.show(n=5, truncate=False)"
   ]
  },
  {
   "cell_type": "code",
   "execution_count": null,
   "metadata": {
    "id": "uw9K0xt6UyWD"
   },
   "outputs": [],
   "source": [
    "trgt_names = ['bcard_target', 'cred_target', 'zp_target', 'acquiring_target']"
   ]
  },
  {
   "cell_type": "markdown",
   "metadata": {
    "id": "zrBReSyRWEXh"
   },
   "source": [
    "Sum on all types of target. Class imbalance can be seen."
   ]
  },
  {
   "cell_type": "code",
   "execution_count": null,
   "metadata": {
    "colab": {
     "base_uri": "https://localhost:8080/"
    },
    "executionInfo": {
     "elapsed": 5106,
     "status": "ok",
     "timestamp": 1737739967458,
     "user": {
      "displayName": "Eugene O'Leary",
      "userId": "15546787906852777125"
     },
     "user_tz": -180
    },
    "id": "P8tsWjJXVPCJ",
    "outputId": "689c77cb-01d0-4abc-9b98-20922d06f145"
   },
   "outputs": [
    {
     "name": "stdout",
     "output_type": "stream",
     "text": [
      "+----------+-----------------+---------------+\n",
      "|       mon|count(sum_target)|sum(sum_target)|\n",
      "+----------+-----------------+---------------+\n",
      "|2022-02-28|          1000000|          10814|\n",
      "|2022-03-31|          1000000|          16866|\n",
      "|2022-04-30|          1000000|          17355|\n",
      "|2022-05-31|          1000000|          11687|\n",
      "|2022-06-30|          1000000|          12505|\n",
      "|2022-07-31|          1000000|          10642|\n",
      "|2022-08-31|          1000000|          12159|\n",
      "|2022-09-30|          1000000|          10450|\n",
      "|2022-10-31|          1000000|           8764|\n",
      "|2022-11-30|          1000000|           9096|\n",
      "|2022-12-31|          1000000|           8175|\n",
      "|2023-01-31|          1000000|           6616|\n",
      "+----------+-----------------+---------------+\n",
      "\n"
     ]
    }
   ],
   "source": [
    "targets\\\n",
    "    .withColumn('sum_target', F.expr(\"+\".join(trgt_names)))\\\n",
    "    .groupBy('mon')\\\n",
    "    .agg(F.count('sum_target'), F.sum('sum_target'))\\\n",
    "    .orderBy('mon')\\\n",
    "    .show()"
   ]
  },
  {
   "cell_type": "markdown",
   "metadata": {
    "id": "XEYiXsYBWIRT"
   },
   "source": [
    "Sum on each type of target"
   ]
  },
  {
   "cell_type": "code",
   "execution_count": null,
   "metadata": {
    "colab": {
     "base_uri": "https://localhost:8080/"
    },
    "executionInfo": {
     "elapsed": 4386,
     "status": "ok",
     "timestamp": 1737739971840,
     "user": {
      "displayName": "Eugene O'Leary",
      "userId": "15546787906852777125"
     },
     "user_tz": -180
    },
    "id": "BEfzFRlwVl0K",
    "outputId": "05ca14a4-a3e8-46e9-bcb2-e3ceefa5a1e3"
   },
   "outputs": [
    {
     "name": "stdout",
     "output_type": "stream",
     "text": [
      "+----------+-----------------+----------------+--------------+---------------------+\n",
      "|       mon|sum(bcard_target)|sum(cred_target)|sum(zp_target)|sum(acquiring_target)|\n",
      "+----------+-----------------+----------------+--------------+---------------------+\n",
      "|2022-02-28|             5391|             352|          2816|                 2255|\n",
      "|2022-03-31|             7169|             465|          6155|                 3077|\n",
      "|2022-04-30|             6250|             757|          6844|                 3504|\n",
      "|2022-05-31|             4723|             432|          4369|                 2163|\n",
      "|2022-06-30|             6338|             541|          3261|                 2365|\n",
      "|2022-07-31|             4649|             538|          3158|                 2297|\n",
      "|2022-08-31|             4623|             553|          4096|                 2887|\n",
      "|2022-09-30|             3368|             514|          4057|                 2511|\n",
      "|2022-10-31|             3174|             443|          2767|                 2380|\n",
      "|2022-11-30|             3343|             538|          2711|                 2504|\n",
      "|2022-12-31|             3026|             506|          2641|                 2002|\n",
      "|2023-01-31|             1720|             347|          2105|                 2444|\n",
      "+----------+-----------------+----------------+--------------+---------------------+\n",
      "\n"
     ]
    }
   ],
   "source": [
    "targets\\\n",
    "    .withColumn('sum_target', F.expr(\"+\".join(trgt_names)))\\\n",
    "    .groupBy('mon')\\\n",
    "    .agg(*[F.sum(nov) for nov in trgt_names])\\\n",
    "    .orderBy('mon')\\\n",
    "    .show()"
   ]
  },
  {
   "cell_type": "markdown",
   "metadata": {
    "id": "jF9ImuePWi9F"
   },
   "source": [
    "### Training data"
   ]
  },
  {
   "cell_type": "code",
   "execution_count": null,
   "metadata": {
    "colab": {
     "base_uri": "https://localhost:8080/",
     "height": 173,
     "referenced_widgets": [
      "e6f5086ee78841758a5cddb4923266b5",
      "acefc6bedece45bab8e5fbf8e1c2f268",
      "1a00a5a62ef3475eb8438be8743f1758",
      "eda732ea6f0247668070735ce00a66c6",
      "32f838a079ac49d3b8289c832807798f",
      "8059ec76b63b4fba91aecef3498605fc",
      "8375889c880e4899af8f6c69d167ae13",
      "79008c87971c422a843eb9238afba95c",
      "af9261f1c2b94d78a3e9fed0cb767597",
      "432d2d8b374c4b44811cde3e9e7e1bcb",
      "340aedd05e07463891df3f8e60c2b36e"
     ]
    },
    "executionInfo": {
     "elapsed": 220488,
     "status": "ok",
     "timestamp": 1738003031226,
     "user": {
      "displayName": "Eugene O'Leary",
      "userId": "15546787906852777125"
     },
     "user_tz": -180
    },
    "id": "Iacc4vmDWqxx",
    "outputId": "7065ec18-2bcf-4261-f5bd-03f8dabd3209"
   },
   "outputs": [
    {
     "name": "stderr",
     "output_type": "stream",
     "text": [
      "/usr/local/lib/python3.11/dist-packages/huggingface_hub/utils/_auth.py:94: UserWarning: \n",
      "The secret `HF_TOKEN` does not exist in your Colab secrets.\n",
      "To authenticate with the Hugging Face Hub, create a token in your settings tab (https://huggingface.co/settings/tokens), set it as secret in your Google Colab and restart your session.\n",
      "You will be able to reuse this secret in all of your notebooks.\n",
      "Please note that authentication is recommended but still optional to access public models or datasets.\n",
      "  warnings.warn(\n"
     ]
    },
    {
     "data": {
      "application/vnd.jupyter.widget-view+json": {
       "model_id": "e6f5086ee78841758a5cddb4923266b5",
       "version_major": 2,
       "version_minor": 0
      },
      "text/plain": [
       "detail.tar.gz:   0%|          | 0.00/1.97G [00:00<?, ?B/s]"
      ]
     },
     "metadata": {},
     "output_type": "display_data"
    }
   ],
   "source": [
    "hf_hub_download(repo_id=\"ai-lab/MBD-mini\", filename=\"detail.tar.gz\", repo_type=\"dataset\", local_dir='data')\n",
    "!tar -xf ./data/detail.tar.gz"
   ]
  },
  {
   "cell_type": "code",
   "execution_count": null,
   "metadata": {
    "colab": {
     "base_uri": "https://localhost:8080/"
    },
    "executionInfo": {
     "elapsed": 232,
     "status": "ok",
     "timestamp": 1737886551472,
     "user": {
      "displayName": "Eugene O'Leary",
      "userId": "15546787906852777125"
     },
     "user_tz": -180
    },
    "id": "-lBUKBckG143",
    "outputId": "208842bd-0af1-4a07-b7f8-3bd077e6efd0"
   },
   "outputs": [
    {
     "name": "stdout",
     "output_type": "stream",
     "text": [
      "644M\tdetail/dialog\n",
      "647M\tdetail/trx\n",
      "795M\tdetail/geo\n",
      "2.1G\tdetail\n"
     ]
    }
   ],
   "source": [
    "!du -h --max-depth=1 detail"
   ]
  },
  {
   "cell_type": "markdown",
   "metadata": {
    "id": "NsREbTxsfZWz"
   },
   "source": [
    "#### Transactions"
   ]
  },
  {
   "cell_type": "code",
   "execution_count": null,
   "metadata": {
    "id": "dfqKlMVEW3wj"
   },
   "outputs": [],
   "source": [
    "trx = ss.read.parquet('detail/trx')"
   ]
  },
  {
   "cell_type": "code",
   "execution_count": null,
   "metadata": {
    "colab": {
     "base_uri": "https://localhost:8080/"
    },
    "executionInfo": {
     "elapsed": 267,
     "status": "ok",
     "timestamp": 1737740007904,
     "user": {
      "displayName": "Eugene O'Leary",
      "userId": "15546787906852777125"
     },
     "user_tz": -180
    },
    "id": "QCIORVwOYA03",
    "outputId": "22fb8543-98e4-4a8b-8884-45c31351651f"
   },
   "outputs": [
    {
     "name": "stdout",
     "output_type": "stream",
     "text": [
      "root\n",
      " |-- client_id: string (nullable = true)\n",
      " |-- event_time: timestamp (nullable = true)\n",
      " |-- amount: float (nullable = true)\n",
      " |-- event_type: integer (nullable = true)\n",
      " |-- event_subtype: integer (nullable = true)\n",
      " |-- currency: integer (nullable = true)\n",
      " |-- src_type11: integer (nullable = true)\n",
      " |-- src_type12: integer (nullable = true)\n",
      " |-- dst_type11: integer (nullable = true)\n",
      " |-- dst_type12: integer (nullable = true)\n",
      " |-- src_type21: integer (nullable = true)\n",
      " |-- src_type22: integer (nullable = true)\n",
      " |-- src_type31: integer (nullable = true)\n",
      " |-- src_type32: integer (nullable = true)\n",
      " |-- fold: integer (nullable = true)\n",
      "\n"
     ]
    }
   ],
   "source": [
    "trx.printSchema()"
   ]
  },
  {
   "cell_type": "code",
   "execution_count": null,
   "metadata": {
    "id": "KIo7QX1g8Wvx"
   },
   "outputs": [],
   "source": [
    "trx\\\n",
    "    .groupBy('client_id')\\\n",
    "    .agg(F.count(\"*\").alias('trans_count'))\\\n",
    "    .write.parquet('trans_count.parquet', mode='overwrite')"
   ]
  },
  {
   "cell_type": "markdown",
   "metadata": {
    "id": "WZDN7bM39Q2a"
   },
   "source": [
    "Distribution of number of transactions for each client"
   ]
  },
  {
   "cell_type": "code",
   "execution_count": null,
   "metadata": {},
   "outputs": [],
   "source": [
    "trans_count_pd = pd.read_parquet('trans_count.parquet')"
   ]
  },
  {
   "cell_type": "code",
   "execution_count": null,
   "metadata": {
    "colab": {
     "base_uri": "https://localhost:8080/",
     "height": 335
    },
    "id": "IfV5T_0Y9tE0",
    "outputId": "1b3713f2-df2a-49f2-8967-bf25724505d5"
   },
   "outputs": [
    {
     "data": {
      "text/html": [
       "<div>\n",
       "<style scoped>\n",
       "    .dataframe tbody tr th:only-of-type {\n",
       "        vertical-align: middle;\n",
       "    }\n",
       "\n",
       "    .dataframe tbody tr th {\n",
       "        vertical-align: top;\n",
       "    }\n",
       "\n",
       "    .dataframe thead th {\n",
       "        text-align: right;\n",
       "    }\n",
       "</style>\n",
       "<table border=\"1\" class=\"dataframe\">\n",
       "  <thead>\n",
       "    <tr style=\"text-align: right;\">\n",
       "      <th></th>\n",
       "      <th>trans_count</th>\n",
       "    </tr>\n",
       "  </thead>\n",
       "  <tbody>\n",
       "    <tr>\n",
       "      <th>count</th>\n",
       "      <td>9.872100e+04</td>\n",
       "    </tr>\n",
       "    <tr>\n",
       "      <th>mean</th>\n",
       "      <td>3.926716e+02</td>\n",
       "    </tr>\n",
       "    <tr>\n",
       "      <th>std</th>\n",
       "      <td>3.717613e+03</td>\n",
       "    </tr>\n",
       "    <tr>\n",
       "      <th>min</th>\n",
       "      <td>1.000000e+00</td>\n",
       "    </tr>\n",
       "    <tr>\n",
       "      <th>25%</th>\n",
       "      <td>4.100000e+01</td>\n",
       "    </tr>\n",
       "    <tr>\n",
       "      <th>50%</th>\n",
       "      <td>1.700000e+02</td>\n",
       "    </tr>\n",
       "    <tr>\n",
       "      <th>75%</th>\n",
       "      <td>5.110000e+02</td>\n",
       "    </tr>\n",
       "    <tr>\n",
       "      <th>max</th>\n",
       "      <td>1.020773e+06</td>\n",
       "    </tr>\n",
       "  </tbody>\n",
       "</table>\n",
       "</div><br><label><b>dtype:</b> float64</label>"
      ],
      "text/plain": [
       "count    9.872100e+04\n",
       "mean     3.926716e+02\n",
       "std      3.717613e+03\n",
       "min      1.000000e+00\n",
       "25%      4.100000e+01\n",
       "50%      1.700000e+02\n",
       "75%      5.110000e+02\n",
       "max      1.020773e+06\n",
       "Name: trans_count, dtype: float64"
      ]
     },
     "execution_count": 22,
     "metadata": {},
     "output_type": "execute_result"
    }
   ],
   "source": [
    "trans_count_pd['trans_count'].describe()"
   ]
  },
  {
   "cell_type": "code",
   "execution_count": null,
   "metadata": {
    "colab": {
     "base_uri": "https://localhost:8080/",
     "height": 386
    },
    "id": "wlpjLRVZ9Kyx",
    "outputId": "201a42b4-1b32-4a6d-bcc6-d496921194a7"
   },
   "outputs": [
    {
     "data": {
      "text/plain": [
       "<Axes: ylabel='Frequency'>"
      ]
     },
     "execution_count": 24,
     "metadata": {},
     "output_type": "execute_result"
    },
    {
     "data": {
      "image/png": "[encoded data removed]",
      "text/plain": [
       "<Figure size 600x400 with 1 Axes>"
      ]
     },
     "metadata": {},
     "output_type": "display_data"
    }
   ],
   "source": [
    "trans_count_pd = pd.read_parquet('trans_count.parquet')\n",
    "\n",
    "# exclude outliers\n",
    "trans_count_pd.query(\"trans_count < 1e4\")['trans_count'].plot(kind='hist', bins=50)"
   ]
  },
  {
   "cell_type": "code",
   "execution_count": null,
   "metadata": {
    "colab": {
     "base_uri": "https://localhost:8080/"
    },
    "executionInfo": {
     "elapsed": 334,
     "status": "ok",
     "timestamp": 1737740036967,
     "user": {
      "displayName": "Eugene O'Leary",
      "userId": "15546787906852777125"
     },
     "user_tz": -180
    },
    "id": "l2yiL_k8YDap",
    "outputId": "59a0817c-f6b5-4e77-ae9a-f7c4f5c754a5"
   },
   "outputs": [
    {
     "name": "stdout",
     "output_type": "stream",
     "text": [
      "+--------------------+--------------------+---------+----------+-------------+--------+----------+----------+----------+----------+----------+----------+----------+----------+----+\n",
      "|           client_id|          event_time|   amount|event_type|event_subtype|currency|src_type11|src_type12|dst_type11|dst_type12|src_type21|src_type22|src_type31|src_type32|fold|\n",
      "+--------------------+--------------------+---------+----------+-------------+--------+----------+----------+----------+----------+----------+----------+----------+----------+----+\n",
      "|086a7ed4269224ff8...|2021-09-03 12:18:...|308.71454|        40|           52|      11|        22|        47|      1549|     16067|      5857|        15|       352|        67|   3|\n",
      "|086a7ed4269224ff8...|2022-04-30 21:43:...| 4844.122|        40|           37|      11|       134|       806|      1549|     16067|      5857|        15|       352|        67|   3|\n",
      "|086a7ed4269224ff8...|2022-07-16 14:42:...|2507.5642|        40|           37|      11|       134|       806|      1549|     16067|      5857|        15|       352|        67|   3|\n",
      "|086a7ed4269224ff8...|2021-07-28 12:04:...| 62.87168|        40|           52|      11|        22|        47|      1549|     16067|      5857|        15|       352|        67|   3|\n",
      "|086a7ed4269224ff8...|2022-06-13 02:30:...|  74.7849|        40|           37|      11|       134|       806|      1549|     16067|      5857|        15|       352|        67|   3|\n",
      "+--------------------+--------------------+---------+----------+-------------+--------+----------+----------+----------+----------+----------+----------+----------+----------+----+\n",
      "only showing top 5 rows\n",
      "\n"
     ]
    }
   ],
   "source": [
    "trx.show(5, True)"
   ]
  },
  {
   "cell_type": "code",
   "execution_count": null,
   "metadata": {
    "colab": {
     "base_uri": "https://localhost:8080/"
    },
    "executionInfo": {
     "elapsed": 11914,
     "status": "ok",
     "timestamp": 1737801812085,
     "user": {
      "displayName": "Eugene O'Leary",
      "userId": "15546787906852777125"
     },
     "user_tz": -180
    },
    "id": "XMyVWiBpDgeM",
    "outputId": "cb482f37-2d3d-4602-cc73-af92ef60ad37"
   },
   "outputs": [
    {
     "name": "stdout",
     "output_type": "stream",
     "text": [
      "event time spread\n",
      "+--------------------+--------------------+\n",
      "|     min(event_time)|     max(event_time)|\n",
      "+--------------------+--------------------+\n",
      "|2020-12-31 21:00:...|2022-12-31 20:59:...|\n",
      "+--------------------+--------------------+\n",
      "\n"
     ]
    }
   ],
   "source": [
    "print('event time spread')\n",
    "trx\\\n",
    "    .select(F.min('event_time'), F.max('event_time'))\\\n",
    "    .show()"
   ]
  },
  {
   "cell_type": "markdown",
   "metadata": {},
   "source": [
    "Transactions history starts more than one year before target period start and finshes one month before target period end"
   ]
  },
  {
   "cell_type": "code",
   "execution_count": null,
   "metadata": {
    "colab": {
     "base_uri": "https://localhost:8080/"
    },
    "executionInfo": {
     "elapsed": 32411,
     "status": "ok",
     "timestamp": 1737896699740,
     "user": {
      "displayName": "Eugene O'Leary",
      "userId": "15546787906852777125"
     },
     "user_tz": -180
    },
    "id": "djQTknlptdPu",
    "outputId": "57143dcc-b8c7-453a-adf9-883532bed845"
   },
   "outputs": [
    {
     "name": "stdout",
     "output_type": "stream",
     "text": [
      "+------------+-------------------------------------+-------------+\n",
      "| min(amount)|percentile_approx(amount, 0.5, 10000)|  max(amount)|\n",
      "+------------+-------------------------------------+-------------+\n",
      "|3.0218207E-6|                            18029.834|1.37018737E12|\n",
      "+------------+-------------------------------------+-------------+\n",
      "\n"
     ]
    }
   ],
   "source": [
    "trx\\\n",
    "    .select(F.min('amount'), F.percentile_approx('amount', 0.5), F.max('amount'))\\\n",
    "    .show()"
   ]
  },
  {
   "cell_type": "markdown",
   "metadata": {},
   "source": [
    "Number of categories for categorical variables"
   ]
  },
  {
   "cell_type": "code",
   "execution_count": null,
   "metadata": {
    "id": "Z86V6s_c_Tro"
   },
   "outputs": [],
   "source": [
    "cat_feats_trx = ['event_type', 'event_subtype', 'currency', 'src_type11', 'src_type12', 'dst_type11', 'dst_type12', 'src_type21', 'src_type22', 'src_type31', 'src_type32']"
   ]
  },
  {
   "cell_type": "code",
   "execution_count": null,
   "metadata": {
    "colab": {
     "base_uri": "https://localhost:8080/"
    },
    "executionInfo": {
     "elapsed": 72832,
     "status": "ok",
     "timestamp": 1737800911272,
     "user": {
      "displayName": "Eugene O'Leary",
      "userId": "15546787906852777125"
     },
     "user_tz": -180
    },
    "id": "E7Lq6fh__ktS",
    "outputId": "743ecf35-d3a4-4a23-9b04-125c5902e6f2"
   },
   "outputs": [
    {
     "name": "stdout",
     "output_type": "stream",
     "text": [
      "+----------+-------------+--------+----------+----------+----------+----------+----------+----------+----------+----------+\n",
      "|event_type|event_subtype|currency|src_type11|src_type12|dst_type11|dst_type12|src_type21|src_type22|src_type31|src_type32|\n",
      "+----------+-------------+--------+----------+----------+----------+----------+----------+----------+----------+----------+\n",
      "|        55|           60|      13|        60|       262|        66|       322|     10081|        85|      1722|        86|\n",
      "+----------+-------------+--------+----------+----------+----------+----------+----------+----------+----------+----------+\n",
      "\n"
     ]
    }
   ],
   "source": [
    "trx\\\n",
    "    .select(*[F.countDistinct(x).alias(x) for x in cat_feats_trx])\\\n",
    "    .show()"
   ]
  },
  {
   "cell_type": "markdown",
   "metadata": {},
   "source": [
    "`src_type22` and `src_type32` look like region index according to cardinality"
   ]
  },
  {
   "cell_type": "markdown",
   "metadata": {
    "id": "_3-OnZXOu9f2"
   },
   "source": [
    "Search for potential categorical features for ML model that will be built on transaction aggregates: analyze skewness of distribution in categorical sequences"
   ]
  },
  {
   "cell_type": "code",
   "execution_count": null,
   "metadata": {
    "colab": {
     "base_uri": "https://localhost:8080/",
     "height": 405
    },
    "executionInfo": {
     "elapsed": 4473,
     "status": "ok",
     "timestamp": 1737880607011,
     "user": {
      "displayName": "Eugene O'Leary",
      "userId": "15546787906852777125"
     },
     "user_tz": -180
    },
    "id": "kvhtf993vNHp",
    "outputId": "9254c3d0-4e8d-4569-9e5e-c50c25058437"
   },
   "outputs": [
    {
     "data": {
      "image/png": "[encoded data removed]",
      "text/plain": [
       "<Figure size 600x400 with 1 Axes>"
      ]
     },
     "metadata": {},
     "output_type": "display_data"
    }
   ],
   "source": [
    "fig, ax = plt.subplots()\n",
    "\n",
    "trx\\\n",
    "    .groupBy('currency')\\\n",
    "    .count()\\\n",
    "    .orderBy('currency')\\\n",
    "    .toPandas()\\\n",
    "    .set_index('currency')\\\n",
    "    .plot(kind='bar', ax=ax)\n",
    "\n",
    "ax.set_yscale('log')"
   ]
  },
  {
   "cell_type": "markdown",
   "metadata": {},
   "source": [
    "Currency looks too skewed. Intuitively, most of transactions may be conducted in Russia and currency will be RUR. Therefore, it isn't most frequent value of currency will be the same for most of the clients."
   ]
  },
  {
   "cell_type": "code",
   "execution_count": null,
   "metadata": {
    "colab": {
     "base_uri": "https://localhost:8080/",
     "height": 392
    },
    "executionInfo": {
     "elapsed": 4947,
     "status": "ok",
     "timestamp": 1737880658264,
     "user": {
      "displayName": "Eugene O'Leary",
      "userId": "15546787906852777125"
     },
     "user_tz": -180
    },
    "id": "DP2tM4oIwfzR",
    "outputId": "25e7ba40-0f3a-4120-b72c-c7dcb06c4706"
   },
   "outputs": [
    {
     "data": {
      "image/png": "[encoded data removed]",
      "text/plain": [
       "<Figure size 600x400 with 1 Axes>"
      ]
     },
     "metadata": {},
     "output_type": "display_data"
    }
   ],
   "source": [
    "nov = 'event_type'\n",
    "\n",
    "fig, ax = plt.subplots()\n",
    "\n",
    "trx\\\n",
    "    .groupBy(nov)\\\n",
    "    .count()\\\n",
    "    .orderBy(nov)\\\n",
    "    .toPandas()\\\n",
    "    .set_index(nov)\\\n",
    "    .plot(kind='bar', ax=ax)\n",
    "\n",
    "ax.set_yscale('log')"
   ]
  },
  {
   "cell_type": "code",
   "execution_count": null,
   "metadata": {
    "colab": {
     "base_uri": "https://localhost:8080/",
     "height": 405
    },
    "executionInfo": {
     "elapsed": 4817,
     "status": "ok",
     "timestamp": 1737880798513,
     "user": {
      "displayName": "Eugene O'Leary",
      "userId": "15546787906852777125"
     },
     "user_tz": -180
    },
    "id": "13d2DyAUxAzO",
    "outputId": "4a32c72d-996f-4967-f66a-7858de420bbd"
   },
   "outputs": [
    {
     "data": {
      "image/png": "[encoded data removed]",
      "text/plain": [
       "<Figure size 600x400 with 1 Axes>"
      ]
     },
     "metadata": {},
     "output_type": "display_data"
    }
   ],
   "source": [
    "nov = 'src_type22'\n",
    "\n",
    "fig, ax = plt.subplots()\n",
    "\n",
    "trx\\\n",
    "    .groupBy(nov)\\\n",
    "    .count()\\\n",
    "    .orderBy(nov)\\\n",
    "    .toPandas()\\\n",
    "    .set_index(nov)\\\n",
    "    .plot(kind='bar', ax=ax)\n",
    "\n",
    "ax.set_yscale('log')"
   ]
  },
  {
   "cell_type": "markdown",
   "metadata": {},
   "source": [
    "`event_type` and `src_type` look appropriate for categorical features"
   ]
  },
  {
   "cell_type": "code",
   "execution_count": null,
   "metadata": {
    "colab": {
     "base_uri": "https://localhost:8080/"
    },
    "executionInfo": {
     "elapsed": 16287,
     "status": "ok",
     "timestamp": 1737801645519,
     "user": {
      "displayName": "Eugene O'Leary",
      "userId": "15546787906852777125"
     },
     "user_tz": -180
    },
    "id": "4SUK5RWtDGhq",
    "outputId": "cafa835e-3c5d-44ef-ab3b-af07bf9122e6"
   },
   "outputs": [
    {
     "name": "stdout",
     "output_type": "stream",
     "text": [
      "+-------------------------+\n",
      "|count(DISTINCT client_id)|\n",
      "+-------------------------+\n",
      "|                    98721|\n",
      "+-------------------------+\n",
      "\n"
     ]
    }
   ],
   "source": [
    "trx\\\n",
    "    .select(F.countDistinct('client_id'))\\\n",
    "    .show()"
   ]
  },
  {
   "cell_type": "markdown",
   "metadata": {
    "id": "QgjidZl1YiuR"
   },
   "source": [
    "#### dialogs"
   ]
  },
  {
   "cell_type": "code",
   "execution_count": null,
   "metadata": {
    "id": "61rciQumfkUq"
   },
   "outputs": [],
   "source": [
    "dialog = ss.read.parquet('detail/dialog')"
   ]
  },
  {
   "cell_type": "code",
   "execution_count": null,
   "metadata": {
    "colab": {
     "base_uri": "https://localhost:8080/"
    },
    "executionInfo": {
     "elapsed": 263,
     "status": "ok",
     "timestamp": 1737742026111,
     "user": {
      "displayName": "Eugene O'Leary",
      "userId": "15546787906852777125"
     },
     "user_tz": -180
    },
    "id": "o7_gg7NifuTz",
    "outputId": "da1056bc-2835-4ced-c49d-0e439e72f458"
   },
   "outputs": [
    {
     "name": "stdout",
     "output_type": "stream",
     "text": [
      "root\n",
      " |-- client_id: string (nullable = true)\n",
      " |-- event_time: timestamp (nullable = true)\n",
      " |-- embedding: array (nullable = true)\n",
      " |    |-- element: float (containsNull = true)\n",
      " |-- fold: integer (nullable = true)\n",
      "\n"
     ]
    }
   ],
   "source": [
    "dialog.printSchema()"
   ]
  },
  {
   "cell_type": "code",
   "execution_count": null,
   "metadata": {
    "colab": {
     "base_uri": "https://localhost:8080/"
    },
    "collapsed": true,
    "executionInfo": {
     "elapsed": 907,
     "status": "ok",
     "timestamp": 1737742044034,
     "user": {
      "displayName": "Eugene O'Leary",
      "userId": "15546787906852777125"
     },
     "user_tz": -180
    },
    "id": "FXa-FG2bfwK3",
    "jupyter": {
     "outputs_hidden": true
    },
    "outputId": "719f1e05-5e6b-4c28-a883-c665ef128231"
   },
   "outputs": [
    {
     "name": "stdout",
     "output_type": "stream",
     "text": [
      "+----------------------------------------------------------------+--------------------------+-------------------------------------------------------------------------------------------------------------------------------------------------------------------------------------------------------------------------------------------------------------------------------------------------------------------------------------------------------------------------------------------------------------------------------------------------------------------------------------------------------------------------------------------------------------------------------------------------------------------------------------------------------------------------------------------------------------------------------------------------------------------------------------------------------------------------------------------------------------------------------------------------------------------------------------------------------------------------------------------------------------------------------------------------------------------------------------------------------------------------------------------------------------------------------------------------------------------------------------------------------------------------------------------------------------------------------------------------------------------------------------------------------------------------------------------------------------------------------------------------------------------------------------------------------------------------------------------------------------------------------------------------------------------------------------------------------------------------------------------------------------------------------------------------------------------------------------------------------------------------------------------------------------------------------------------------------------------------------------------------------------------------------------------------------------------------------------------------------------------------------------------------------------------------------------------------------------------------------------------------------------------------------------------------------------------------------------------------------------------------------------------------------------------------------------------------------------------------------------------------------------------------------------------------------------------------------------------------------------------------------------------------------------------------------------------------------------------------------------------------------------------------------------------------------------------------------------------------------------------------------------------------------------------------------------------------------------------------------------------------------------------------------------------------------------------------------------------------------------------------------------------------------------------------------------------------------------------------------------------------------------------------------------------------------------------------------------------------------------------------------------------------------------------------------------------------------------------------------------------------------------------------------------------------------------------------------------------------------------------------------------------------------------------------------------------------------------------------------------------------------------------------------------------------------------------------------------------------------------------------------------------------------------------------------------------------------------------------------------------------------------------------------------------------------------------------------------------------------------------------------------------------------------------------------------------------------------------------------------------------------------------------------------------------------------------------------------------------------------------------------------------------------------------------------------------------------------------------------------------------------------------------------------------------------------------------------------------------------------------------------------------------------------------------------------------------------------------------------------------------------------------------------------------------------------------------------------------------------------------------------------------------------------------------------------------------------------------------------------------------------------------------------------------------------------------------------------------------------------------------------------------------------------------------------------------------------------------------------------------------------------------------------------------------------------------------------------------------------------------------------------------------------------------------------------------------------------------------------------------------------------------------------------------------------------------------------------------------------------------------------------------------------------------------------------------------------------------------------------------------------------------------------------------------------------------------------------------------------------------------------------------------------------------------------------------------------------------------------------------------------------------------------------------------------------------------------------------------------------------------------------------------------------------------------------------------------------------------------------------------------------------------------------------------------------------------------------------------------------------------------------------------------------------------------------------------------------------------------------------------------------------------------------------------------------------------------------------------------------------------------------------------------------------------------------------------------------------------------------------------------------------------------------------------------------------------------------------------------------------------------------------------------------------------------------------------------------------------------------------------------------------------------------------------------------------------------------------------------------------------------------------------------------------------------------------------------------------------------------------------------------------------------------------------------------------------------------------------------------------------------------------------------------------------------------------------------------------------------------------------------------------------------------------------------------------------------------------------------------------------------------------------------------------------------------------------------------------------------------------------------------------------------------------------------------------------------------------------------------------------------------------------------------------------------------------------------------------------------------------------------------------------------------------------------------------------------------------------------------------------------------------------------------------------------------------------------------------------------------------------------------------------------------------------------------------------------------------------------------------------------------------------------------------------------------------------------------------------------------------------------------------------------------------------------------------------------------------------------------------------------------------------------------------------------------------------------------------------------------------------------------------------------------------------------------------------------------------------------------------------------------------------------------------------------------------------------------------------------------------------------------------------------------------------------------------------------------------------------------------------------------------------------------------------------------------------------------------------------------------------------------------------------------------------------------------------------------------------------------------------------------------------------------------------------------------------------------------------------------------------------------------------------------------------------------------------------------------------------------------------------------------------------------------------------------------------------------------------------------------------------------------------------------------------------------------------------------------------------------------------------------------------------------+----+\n",
      "|client_id                                                       |event_time                |embedding                                                                                                                                                                                                                                                                                                                                                                                                                                                                                                                                                                                                                                                                                                                                                                                                                                                                                                                                                                                                                                                                                                                                                                                                                                                                                                                                                                                                                                                                                                                                                                                                                                                                                                                                                                                                                                                                                                                                                                                                                                                                                                                                                                                                                                                                                                                                                                                                                                                                                                                                                                                                                                                                                                                                                                                                                                                                                                                                                                                                                                                                                                                                                                                                                                                                                                                                                                                                                                                                                                                                                                                                                                                                                                                                                                                                                                                                                                                                                                                                                                                                                                                                                                                                                                                                                                                                                                                                                                                                                                                                                                                                                                                                                                                                                                                                                                                                                                                                                                                                                                                                                                                                                                                                                                                                                                                                                                                                                                                                                                                                                                                                                                                                                                                                                                                                                                                                                                                                                                                                                                                                                                                                                                                                                                                                                                                                                                                                                                                                                                                                                                                                                                                                                                                                                                                                                                                                                                                                                                                                                                                                                                                                                                                                                                                                                                                                                                                                                                                                                                                                                                                                                                                                                                                                                                                                                                                                                                                                                                                                                                                                                                                                                                                                                                                                                                                                                                                                                                                                                                                                                                                                                                                                                                                                                                                                                                                                                                                                                                                                                                                                                                                                                                                                                                                                                                                                                                                                                                                                                                                                                                                                                                                                                                                                                                                                                                                                                                    |fold|\n",
      "+----------------------------------------------------------------+--------------------------+-------------------------------------------------------------------------------------------------------------------------------------------------------------------------------------------------------------------------------------------------------------------------------------------------------------------------------------------------------------------------------------------------------------------------------------------------------------------------------------------------------------------------------------------------------------------------------------------------------------------------------------------------------------------------------------------------------------------------------------------------------------------------------------------------------------------------------------------------------------------------------------------------------------------------------------------------------------------------------------------------------------------------------------------------------------------------------------------------------------------------------------------------------------------------------------------------------------------------------------------------------------------------------------------------------------------------------------------------------------------------------------------------------------------------------------------------------------------------------------------------------------------------------------------------------------------------------------------------------------------------------------------------------------------------------------------------------------------------------------------------------------------------------------------------------------------------------------------------------------------------------------------------------------------------------------------------------------------------------------------------------------------------------------------------------------------------------------------------------------------------------------------------------------------------------------------------------------------------------------------------------------------------------------------------------------------------------------------------------------------------------------------------------------------------------------------------------------------------------------------------------------------------------------------------------------------------------------------------------------------------------------------------------------------------------------------------------------------------------------------------------------------------------------------------------------------------------------------------------------------------------------------------------------------------------------------------------------------------------------------------------------------------------------------------------------------------------------------------------------------------------------------------------------------------------------------------------------------------------------------------------------------------------------------------------------------------------------------------------------------------------------------------------------------------------------------------------------------------------------------------------------------------------------------------------------------------------------------------------------------------------------------------------------------------------------------------------------------------------------------------------------------------------------------------------------------------------------------------------------------------------------------------------------------------------------------------------------------------------------------------------------------------------------------------------------------------------------------------------------------------------------------------------------------------------------------------------------------------------------------------------------------------------------------------------------------------------------------------------------------------------------------------------------------------------------------------------------------------------------------------------------------------------------------------------------------------------------------------------------------------------------------------------------------------------------------------------------------------------------------------------------------------------------------------------------------------------------------------------------------------------------------------------------------------------------------------------------------------------------------------------------------------------------------------------------------------------------------------------------------------------------------------------------------------------------------------------------------------------------------------------------------------------------------------------------------------------------------------------------------------------------------------------------------------------------------------------------------------------------------------------------------------------------------------------------------------------------------------------------------------------------------------------------------------------------------------------------------------------------------------------------------------------------------------------------------------------------------------------------------------------------------------------------------------------------------------------------------------------------------------------------------------------------------------------------------------------------------------------------------------------------------------------------------------------------------------------------------------------------------------------------------------------------------------------------------------------------------------------------------------------------------------------------------------------------------------------------------------------------------------------------------------------------------------------------------------------------------------------------------------------------------------------------------------------------------------------------------------------------------------------------------------------------------------------------------------------------------------------------------------------------------------------------------------------------------------------------------------------------------------------------------------------------------------------------------------------------------------------------------------------------------------------------------------------------------------------------------------------------------------------------------------------------------------------------------------------------------------------------------------------------------------------------------------------------------------------------------------------------------------------------------------------------------------------------------------------------------------------------------------------------------------------------------------------------------------------------------------------------------------------------------------------------------------------------------------------------------------------------------------------------------------------------------------------------------------------------------------------------------------------------------------------------------------------------------------------------------------------------------------------------------------------------------------------------------------------------------------------------------------------------------------------------------------------------------------------------------------------------------------------------------------------------------------------------------------------------------------------------------------------------------------------------------------------------------------------------------------------------------------------------------------------------------------------------------------------------------------------------------------------------------------------------------------------------------------------------------------------------------------------------------------------------------------------------------------------------------------------------------------------------------------------------------------------------------------------------------------------------------------------------------------------------------------------------------------------------------------------------------------------------------------------------------------------------------------------------------------------------------------------------------------------------------------------------------------------------------------------------------------------------------------------------------------------------------------------------------------------------------------------------------------------------------------------------------------------------------------------------------------------------------------------------------------------------------------------------------------------------------------------------------------------------+----+\n",
      "|154036a1eee5afebfb378429b6b8dc44110fb47ea94c9a4a04add92a9a138308|2021-12-11 05:59:48.745352|[0.3702981, -0.22884192, 0.5476342, -0.4243287, -0.27539113, 0.49895555, 0.33835655, 0.41936713, -0.5077239, 0.4247088, -0.39468625, -0.457125, -0.5119521, -0.4143767, 0.4360189, -0.31936985, 0.9355977, 0.3654775, 0.20927642, -0.583126, -0.9999356, -0.46523952, -0.4700114, -0.29976547, -0.44709197, 0.41238195, -0.34504113, 0.40476418, 0.4053662, -0.41190597, 0.35266814, -0.99989057, 0.9194288, 0.8509813, 0.36869746, -0.3511744, 0.2251979, 0.43065026, 0.3990545, -0.36858547, -0.4084524, 0.32740164, -0.55401087, 0.42768687, -0.35104153, -0.5292692, -0.2461987, 0.32234472, -0.34037477, 0.3537795, -0.2227807, 0.2126741, 0.6013351, 0.2153958, 0.37833518, 0.5732908, 0.5135207, 0.22194631, 0.4251284, -0.3401579, 0.38279894, 0.50418776, 0.5077204, -0.31643566, -0.48912412, -0.4574964, 0.54110193, -0.12887624, 0.6616188, -0.3668687, -0.4238808, -0.49818945, -0.32447124, 0.34681153, 0.4636367, -0.5264117, 0.44072095, 0.46049464, 0.33187902, -0.11403387, -0.4559429, -0.69018036, -0.28987622, 0.51256526, -0.28781936, 0.3535373, 0.5250225, -0.48407793, 0.41349977, -0.3666694, 0.29599237, 0.6232886, -0.36054802, 0.5132858, -0.7763337, -0.45052516, -0.9825846, -0.25528085, -0.45866728, -0.5293971, -0.4156595, 0.25601742, -0.2534656, -0.47337073, -0.28991583, -0.39074904, 0.24112993, 0.5635862, -0.35947195, 0.32866338, 0.16191615, -0.5055639, -0.32893807, 0.4125702, -0.38873774, 0.99964035, -0.36995682, 0.23467433, 0.58859444, -0.42774916, -0.6820259, 0.9999127, 0.37567094, -0.45664188, 0.44558957, 0.49198207, -0.75975305, 0.38371345, 0.336194, 0.56241786, 0.23693408, -0.55654687, -0.5355818, -0.3182811, -0.9771384, -0.43268356, -0.27049065, 0.29610753, -0.5557941, -0.23494497, 0.44829667, 0.5560684, 0.4588888, -0.4748419, -0.39470923, -0.23653634, 0.46306384, -0.45863253, 0.9999127, 0.8649965, -0.45605105, -0.44498345, 0.81749487, -0.71593297, -0.55718404, -0.3739587, -0.30123442, -0.653563, 0.20459469, 0.51306784, 0.29272398, -0.25146973, -0.20355567, -0.3878078, 0.45392296, -0.7432489, -0.48782018, 0.3437011, 0.40219316, 0.41211358, -0.31882444, 0.57595694, 0.24038482, -0.49479312, -0.33542156, 0.35743344, 0.37565002, -0.24473433, -0.47623873, -0.27152646, 0.38983297, -0.30940044, -0.64847094, 0.29265952, -0.43613926, -0.44558486, 0.28703636, -0.3127156, -0.25391468, 0.39936468, -0.20924576, 0.4757969, -0.25651032, 0.5998182, 0.51496327, 0.39840677, -0.48600283, 0.33718055, 0.48195934, 0.2892219, 0.56824756, 0.35404453, 0.31444037, 0.27390167, -0.18114838, -0.913248, 0.37300855, 0.25591576, 0.41078743, -0.47791857, -0.46521062, -0.41393852, 0.6923067, 0.55479443, -0.44032606, 0.5854567, 0.53674173, -0.24741429, -0.26812205, 0.2963634, -0.3651061, -0.4670127, -0.6153654, -0.34418038, -0.23090331, 0.2902327, 0.38137862, 0.55219454, 0.46648312, -0.37645775, -0.4289925, -0.33581334, 0.35887784, 0.3704443, -0.3951539, 0.9624016, -0.52860504, 0.5526053, -0.6222131, -0.20026955, 0.47717047, -0.44281274, 0.3537187, 0.99820185, 0.58442444, -0.4429117, 0.2988987, 0.35417715, 0.5789479, -0.45772347, 0.29789472, -0.69346386, 0.90477926, 0.3314765, 0.36685985, -0.9999191, 0.29382393, 0.504253, 0.47814888, 0.5504935, 0.51978165, 0.41735208, 0.2575553, 0.99046904, -0.5169005, -0.42579967, -0.38328487, -0.322473, -0.47822896, -0.044808064, -0.21142577, -0.3953704, -0.40824154, -0.26868153, -0.45808125, 0.5821564, 0.511826, -0.99995416, 0.9858921, 0.29518107, -0.21854194, 0.30538756, 0.30627126, -0.9999356, 0.571204, -0.4503045, -0.47867623, 0.4583941, -0.46647868, -0.4153455, 0.001560706, 0.49931103, 0.44823247, 0.5385256, 0.2562769, 0.5659523, -0.3374394, 0.37453747, 0.4654414, -0.2609297, 0.48236325, -0.39356396, 0.44562662, 0.46024743, -0.20011728, 0.25821128, -0.54034114, 0.38697162, 0.47416592, 0.2710084, 0.3673677, -0.23022112, 0.41862473, -0.95869696, 0.22408177, -0.49253115, -0.41033754, -0.3001768, 0.49656355, -0.3247248, -0.41120383, 0.31082588, -0.26915658, 0.99990517, 0.23675178, -0.2974031, -0.54526967, 0.5456578, 0.66774017, -0.337016, -0.939931, -0.44618627, 0.6764582, 0.49285105, 0.365817, 0.35708725, 0.31657037, 0.34039342, -0.44030407, -0.4692465, 0.41637492, -0.47563988, 0.47408283, -0.34680155, -0.5281144, 0.24712144, -0.347574, -0.24739498, -0.98745394, 0.55536366, 0.5827243, 0.42876488, 0.3376239, 0.30046332, -0.44585016, 0.504478, 0.36227646, -0.2953563, -0.2732982, -0.54057163, -0.4002753, 0.28688508, -0.3025442, -0.6444235, 0.34442222, -0.8503011, 0.43069583, -0.38064605, -0.3587713, -0.34563652, 0.41699496, -0.99955106, -0.5664298, 0.48920518, -0.4352354, 0.28076622, -0.48006234, -0.3706136, 0.44326827, 0.27806464, -0.21608292, 0.55542505, -0.23769343, 0.22817524, -0.30374503, 0.2770156, 0.955026, 0.40073097, 0.4649993, -0.5136698, 0.267534, -0.35770884, -0.44699517, 0.55618584, 0.30212325, -0.38893747, 0.41783017, 0.28983855, 0.25667778, -0.2878457, 0.22409232, -0.35012886, -0.45513257, 0.5025178, -0.46079066, -0.46624595, -0.36133146, 0.31937158, -0.5640051, 0.4992234, 0.2729275, 0.280149, 0.35766703, 0.41856715, -0.25419605, -0.49844378, -0.3432021, -0.281039, -0.45324805, -0.45773864, -0.25347814, 0.99968094, 0.513272, 0.2782524, -0.56675917, 0.28935063, 0.49253085, -0.41454554, 0.35402027, 0.56717885, 0.48112127, -0.4381705, 0.2795795, 0.2618364, 0.26003435, 0.5239159, 0.10608632, 0.744702, -0.46175352, 0.93930644, -0.43735936, -0.45109946, -0.99997956, 0.43528134, 0.43615708, -0.4149001, -0.8557798, 0.2280991, -0.37818167, 0.48962605, -0.35292804, 0.36273688, 0.40123358, -0.53284127, 0.36201197, -0.5779918, 0.9994731, -0.38875842, 0.47130007, 0.23293078, 0.30874237, -0.35438254, -0.31773221, -0.49624744, 0.5914965, -0.33818296, 0.32973024, -0.99755865, 0.46105275, 0.36527818, 0.52883, -0.30158216, 0.48888552, -0.5653697, 0.3095753, -0.4252654, -0.39348367, -0.4617511, 0.3315019, -0.56673414, 0.38399422, -0.49307042, 0.24635471, -0.4060567, 0.5730866, -0.3717968, 0.49954274, -0.5824904, 0.48957103, -0.43242806, -0.3783423, -0.46091968, 0.19461165, -0.4273002, 0.9999373, -0.20059188, 0.4402949, -0.2419908, 0.4769031, -0.33236417, 0.5996068, 0.8938213, -0.6191247, 0.47239378, 0.41456267, -0.869357, 0.31751353, -0.3601518, -0.981946, -0.38254198, 0.99871767, 0.5020985, 0.28318855, 0.56138456, 0.6441139, 0.3698533, -0.49608752, 0.1668566, 0.9890362, 0.37770608, 0.52526987, 0.38478017, 0.5960598, -0.47956014, -0.20452072, 0.99989134, 0.9993637, 0.4385121, 0.35996366, -0.31475657, -0.59674376, -0.40781003, 0.4516627, 0.41336623, 0.38521558, -0.43496382, 0.30864096, -0.49371025, -0.35629392, -0.40596658, -0.36221373, -0.46802422, 0.34217808, -0.21069719, 0.76289105, 0.50514907, 0.33872634, 0.5212089, 0.3541632, 0.32507905, -0.24598113, -0.5316104, 0.5598307, -0.4483044, -0.3214759, -0.55005115, 0.37872496, -0.9999356, -0.58856726, -0.3414543, -0.42176348, 0.42827174, 0.26859823, 0.3144054, -0.5113654, -0.42540124, -0.3290477, 0.43813348, 0.25900403, 0.21589749, -0.25291824, -0.559685, 0.3351537, -0.42291325, 0.34784785, -0.20166014, -0.4915125, -0.931598, -0.24804534, -0.30123535, 0.24566175, -0.21947329, -0.36969984, 0.27407625, 0.42301086, 0.45612705, -0.42590582, 0.44467562, -0.34179446, 0.595953, 0.5986996, 0.35835692, 0.4909636, -0.44843405, -0.3579129, -0.34493846, -0.33719444, -0.57312095, 0.3075662, -0.4661463, 0.30565277, -0.5172067, 0.30298367, -0.25627843, 0.3958733, 0.43699905, 0.3385916, -0.300473, 0.45032778, 0.5042546, -0.4085169, 0.5541117, 0.23027848, -0.4973017, -0.3945124, 0.99993503, 0.3910479, 0.5481094, 0.39413428, -0.43034077, 0.34643403, 0.4023062, 0.5412282, -0.28894332, 0.9912108, -0.34245098, 0.2343204, 0.34551737, 0.4137959, 0.20685296, 0.49925613, 0.56562084, 0.94473886, 0.523832, 0.37818152, 0.2480942, 0.5019544, 0.43333074, 0.51303643, 0.5736837, 0.4663655, 0.5486139, -0.22392498, 0.3169994, -0.30107114, -0.4018914, -0.5151602, -0.28098318, -0.28661954, 0.42619362, -0.3595377, -0.40794262, -0.3315168, 0.44792557, -0.31263018, 0.37258586, -0.59993744, -0.30625775, 0.6626824, -0.35727027, 0.33204076, -0.3761629, 0.42365018, -0.9735418, 0.27544332, -0.4688089, -0.48827556, -0.4430012, -0.7626844, 0.37048963, 0.35594454, -0.12810186, 0.5092506, -0.34269777, 0.2464144, -0.20508231, -0.3010454, 0.27585474, -0.9999202, 0.3242857, 0.38092664, -0.5454106, 0.45900762, 0.20462547, 0.25902122, 0.41798726, -0.4151546, -0.35285595, -0.20081238, 0.33269143, -0.307131, 0.051286507, 0.44997495, -0.49617308, -0.4750403, 0.29756463, -0.4532215, 0.2695494, 0.4063291, -0.34925246, 0.3668262, -0.47505563, 0.52335244, -0.3422285, 0.2158397, -0.48510623, -0.47860348, 0.36164048, -0.6234534, -0.5332893, -0.20009886, 0.37137553, -0.38461575, 0.32038832, 0.20001094, -0.42058218, 0.48588273, -0.24311557, 0.5013488, -0.58299077, 0.4893366, -0.9721628, -0.37033847, -0.4460599, -0.24780263, 0.33132452, 0.5927459, 0.46353272, 0.3228512, -0.37545055, 0.27640134, -0.57045, 0.4044251, 0.38259944, -0.32939732, 0.35568783, -0.49725813, 0.4490242, -0.56130904, 0.31437728, -0.99993527, -0.43349725, 0.28642824, 0.47916272, 0.38986322, -0.43844873, -0.36341578, -0.45118788, -0.35487673, 0.21800178, 0.33373258, 0.23439415, 0.521627, 0.41276884, -0.3135203, -0.597516, 0.98450226, -0.3927637, 0.46711892, 0.374237, 0.59874254, 0.98211056, 0.48773393, 0.2703505, 0.3149804, -0.4539006, 0.49893576, 0.59264255]                                                                                                                                                                                                                                                            |0   |\n",
      "|154036a1eee5afebfb378429b6b8dc44110fb47ea94c9a4a04add92a9a138308|2022-05-22 12:35:41.576598|[0.377805, -0.065043464, 0.5771449, -0.21109487, -0.2684209, 0.5238574, 0.34218237, 0.26100782, -0.528552, 0.47439623, -0.3956277, -0.46131665, -0.54630774, -0.24620144, 0.4393233, -0.21223275, 0.9476393, 0.38856936, 0.24283646, -0.24137364, -0.99994797, -0.48471272, -0.49330813, -0.3273475, -0.47150478, 0.47959805, -0.20083703, 0.2318391, 0.26286766, -0.39364144, 0.21531104, -0.99991703, 0.9269644, 0.86557263, 0.22459434, -0.35100055, 0.24874042, 0.47119662, 0.22228162, -0.39280272, -0.45475078, 0.36122552, -0.2198344, 0.44488427, -0.2095436, -0.3829871, -0.29744855, 0.391571, -0.34726322, 0.38085142, -0.047374222, 0.08158605, 0.6539491, 0.06914462, 0.22126172, 0.23361574, 0.5569457, 0.22809441, 0.4749269, -0.34703642, 0.2091545, 0.52333707, 0.5661243, -0.36921003, -0.50938106, -0.49502188, 0.3660037, -0.16273578, 0.6958778, -0.38455397, -0.2537729, -0.52935183, -0.3728127, 0.36821708, 0.5118429, -0.547415, 0.49278405, 0.5114992, 0.3660926, -0.13564584, -0.4632483, -0.7166706, -0.3072412, 0.5206375, -0.3474877, 0.38562292, 0.52949536, -0.52199423, 0.25403398, -0.2057641, 0.30184126, 0.66433287, -0.25782913, 0.55793965, -0.5903219, -0.4516112, -0.9866122, -0.29639092, -0.5032686, -0.5332331, -0.4463897, 0.25013933, -0.3177135, -0.50444955, -0.32023153, -0.39114654, 0.29211605, 0.20511095, -0.2128674, 0.349151, 0.17101304, -0.51850605, -0.34026876, 0.44372433, -0.22759886, 0.99974936, -0.38788795, 0.27929607, 0.22376515, -0.43110117, -0.6942471, 0.99993205, 0.39710832, -0.46310654, 0.47303173, 0.51036024, -0.41445208, 0.23450662, 0.3535971, 0.36451754, 0.29666418, -0.21147506, -0.5721744, -0.37410715, -0.9819133, -0.44611114, -0.3151856, 0.32363504, -0.5744362, -0.31290144, 0.44865465, 0.5920849, 0.50407404, -0.5290301, -0.19562346, -0.25200412, 0.48209763, -0.4851077, 0.99993557, 0.8702241, -0.49675483, -0.2689906, 0.6365478, -0.73790205, -0.20833598, -0.20144139, -0.36849236, -0.6895947, 0.2592364, 0.51278925, 0.2530587, -0.32593268, -0.27346897, -0.22628917, 0.4556938, -0.5890464, -0.50090253, 0.37162662, 0.44593707, 0.4461859, -0.35841632, 0.22214808, 0.30036443, -0.53154176, -0.38723436, 0.39019814, 0.39608645, -0.29645568, -0.5029575, -0.32513285, 0.22244857, -0.340249, -0.47970903, 0.316269, -0.46538582, -0.46875653, 0.321334, -0.3030652, -0.27685472, 0.032837335, -0.23460265, 0.48299906, -0.2853474, 0.22918724, 0.52997273, 0.24811886, -0.50736254, 0.37800196, 0.5142642, 0.35438126, 0.23642834, 0.37173405, 0.2017789, 0.3207088, -0.15117334, -0.9182325, 0.20105998, 0.278634, 0.24806158, -0.47278717, -0.5029827, -0.2520109, 0.7184973, 0.575788, -0.49000964, 0.20937829, 0.53089786, -0.05049895, -0.3039955, 0.28710324, -0.2031108, -0.49205026, -0.66996515, -0.36609864, -0.2497923, 0.3022447, 0.20139502, 0.5721003, 0.49633, -0.18905671, -0.4665562, -0.38567182, 0.37400556, 0.35404113, -0.24587877, 0.9695517, -0.5472847, 0.5361458, -0.4613213, -0.059923816, 0.48781845, -0.47180265, 0.20659141, 0.9986273, 0.22299846, -0.4849533, 0.33146214, 0.38654885, 0.22117676, -0.48115647, 0.32514188, -0.71697706, 0.9159787, 0.20091401, 0.34551564, -0.9999371, 0.31683186, 0.50227803, 0.5100998, 0.573786, 0.5413641, 0.23934586, 0.27722743, 0.9926356, -0.5463591, -0.46094853, -0.3987525, -0.357118, -0.52848905, -0.28332394, -0.24603064, -0.048587326, -0.226023, -0.29291856, -0.482494, 0.22995116, 0.5558363, -0.99997413, 0.989202, 0.28772023, -0.22598599, 0.316923, 0.34422305, -0.9999495, 0.21307941, -0.46683428, -0.51388294, 0.5016485, -0.525458, -0.44889265, 0.05216359, 0.5217191, 0.4455949, 0.5676456, 0.32488382, 0.42508763, -0.32423988, 0.3948712, 0.27778456, -0.09503828, 0.52276236, -0.03559758, 0.4471453, 0.5182785, -0.21409906, 0.28413478, -0.5588928, 0.20333646, 0.48094174, 0.27403942, 0.3722807, -0.25212914, 0.22071652, -0.96465075, 0.24481176, -0.49992415, -0.40837184, -0.33131465, 0.4876097, -0.33609882, -0.482914, 0.33487368, -0.28066736, 0.99992335, 0.05854972, -0.29392555, -0.3879047, 0.57494557, 0.6662647, -0.35765004, -0.94794136, -0.41321206, 0.68778026, 0.50735176, 0.33715373, 0.37575662, 0.3640523, 0.39332628, -0.47376567, -0.47639793, 0.4376683, -0.53685176, 0.4632495, -0.37407637, -0.55053115, 0.29232264, -0.379476, -0.27773392, -0.9899408, 0.58574396, 0.39481592, 0.26812282, 0.38023204, 0.29785773, -0.528031, 0.55964327, 0.3940137, -0.31455657, -0.30088055, -0.5686184, -0.22435562, 0.30844286, -0.35540843, -0.6814557, 0.21782382, -0.865055, 0.47566885, -0.024598364, -0.37538502, -0.39084497, 0.48712334, -0.9997042, -0.38507128, 0.5165, -0.44336054, 0.2989241, -0.51493233, -0.2293488, 0.46423846, 0.35376292, -0.015184167, 0.23496081, -0.2636429, 0.2658058, -0.326221, 0.29764938, 0.9616203, 0.44433963, 0.47188303, -0.55800474, 0.29647398, -0.3972317, -0.24747853, 0.5641564, 0.34268722, -0.2137266, 0.25320688, 0.34435976, 0.29774258, -0.33505094, 0.23942672, -0.36240292, -0.44313514, 0.520132, -0.5116231, -0.5102045, -0.3800387, 0.3576078, -0.5771591, 0.53705883, 0.2737962, 0.33339998, 0.3635786, 0.47946844, -0.48841107, -0.5108584, -0.35931203, -0.28765753, -0.46863616, -0.2373852, -0.2235, 0.9997745, 0.52120703, 0.31953856, -0.59303975, 0.3133716, 0.5191511, -0.49020818, 0.36144933, 0.20505436, 0.48659313, -0.50251126, 0.3099457, 0.27596802, 0.2771477, 0.5591663, 0.11320253, 0.7787902, -0.4899051, 0.945216, -0.20136796, -0.28677115, -0.9999885, 0.4671032, 0.48449484, -0.24556167, -0.8795858, 0.28000054, -0.20514397, 0.51919174, -0.38064486, 0.2179916, 0.45158, -0.55706006, 0.21967085, -0.24266632, 0.9996347, -0.35831016, 0.45606384, 0.07202418, 0.32211307, -0.35633165, -0.3061502, -0.5404361, 0.239237, -0.36297604, 0.35991028, -0.9983767, 0.47331065, 0.36622712, 0.58791655, -0.31724545, 0.5554893, -0.40083826, 0.36224616, -0.2585058, -0.20343964, -0.47588125, 0.33129713, -0.594463, 0.38805884, -0.5205655, 0.28351578, -0.2674742, 0.57666385, -0.38232622, 0.52332556, -0.37370628, 0.51303506, -0.45780748, -0.1971593, -0.5122967, 0.0036879808, -0.5036438, 0.99994826, -0.23854367, 0.43120536, -0.2909113, 0.5167932, -0.32883263, 0.4407063, 0.90320915, -0.44352353, 0.4858515, 0.2738618, -0.8842438, 0.3372813, -0.37057248, -0.9849321, -0.2026038, 0.99915737, 0.47538215, 0.35281911, 0.53635186, 0.68024653, 0.17702298, -0.52022576, 0.037612323, 0.991448, 0.35451147, 0.52043676, 0.21172406, 0.21691345, -0.5016024, -0.21768723, 0.9999196, 0.99955773, 0.44503495, 0.3655645, -0.36340445, -0.45627138, -0.24933131, 0.50596774, 0.24560867, 0.36040828, -0.43376914, 0.33962914, -0.53553975, -0.36669424, -0.44499007, -0.17843905, -0.51054263, 0.32764208, -0.24530797, 0.77039933, 0.522739, 0.3635244, 0.56438, 0.39422584, 0.3418857, -0.27015412, -0.5487224, 0.21444683, -0.49077344, -0.35310683, -0.5671597, 0.21222647, -0.9999507, -0.4040684, -0.23345865, -0.22450547, 0.4809281, 0.33188772, 0.33387244, -0.536572, -0.44242585, -0.3972142, 0.4653673, 0.2546289, 0.24781929, -0.3334346, -0.20049833, 0.35853735, -0.27804768, 0.21551783, -0.22935428, -0.49086824, -0.94465965, -0.26971486, -0.32238182, 0.3101627, -0.206241, -0.2135634, 0.33201343, 0.2795232, 0.49954894, -0.44883975, 0.4934782, -0.20629908, 0.2314815, 0.46245793, 0.37690806, 0.5118, -0.50507414, -0.39335638, -0.35882226, -0.35237837, -0.20424698, 0.35086182, -0.5286519, 0.3643508, -0.5284064, 0.32329676, -0.28652886, 0.22196059, 0.29860264, 0.3776327, -0.36137494, 0.51254153, 0.5188168, -0.21974997, 0.3989193, 0.23884584, -0.4851002, -0.25263184, 0.99994975, 0.39329565, 0.5927801, 0.396611, -0.4640768, 0.22418685, 0.22786145, 0.5800412, -0.33455053, 0.99273986, -0.3597997, 0.058812577, 0.36345768, 0.44038203, 0.22279514, 0.53328073, 0.21438004, 0.95509756, 0.53342336, 0.3995411, 0.309643, 0.54317486, 0.45841566, 0.50204086, 0.4615895, 0.4961184, 0.37507284, -0.046066392, 0.2958015, -0.2790741, -0.23025383, -0.5235183, -0.28767338, -0.29583043, 0.26126578, -0.37537152, -0.23317651, -0.3431443, 0.5203316, -0.36387476, 0.20712863, -0.25719264, -0.34135517, 0.71121615, -0.24399002, 0.34770593, -0.38997796, 0.46109194, -0.9785423, 0.32049325, -0.50125927, -0.52213436, -0.27224043, -0.78612024, 0.37335476, 0.39394042, -0.1739105, 0.51382715, -0.205954, 0.26851273, -0.085412785, -0.33401886, 0.34424284, -0.99994254, 0.36559305, 0.3680005, -0.57882226, 0.43173575, 0.03737377, 0.3102371, 0.22039835, -0.27679998, -0.34729496, -0.035729025, 0.35898462, -0.3327653, -0.10380325, 0.4841348, -0.54368794, -0.47768307, 0.31243864, -0.48415953, 0.109153405, 0.24888529, -0.20981698, 0.2058283, -0.51366824, 0.52872247, -0.37999547, 0.23166253, -0.49994144, -0.49925873, 0.20272855, -0.62622935, -0.57906824, -0.21225293, 0.39262128, -0.2040601, 0.38456625, 0.2272176, -0.24789445, 0.52696615, -0.24138519, 0.5226541, -0.22973801, 0.5128908, -0.97572047, -0.38887268, -0.26410022, -0.20466493, 0.21308343, 0.4105353, 0.50587314, 0.34684056, -0.20991312, 0.30665493, -0.20149992, 0.24281196, 0.20712973, -0.37617198, 0.39049664, -0.5034174, 0.4368378, -0.38069057, 0.33767873, -0.9999604, -0.25287032, 0.33994773, 0.48322842, 0.21999337, -0.44891226, -0.36093727, -0.25848427, -0.36594322, 0.23874916, 0.32980546, 0.24291514, 0.5562454, 0.22001801, -0.33575085, -0.4480478, 0.98758626, -0.21367298, 0.5128894, 0.20842071, 0.25671762, 0.9854364, 0.5276548, 0.35130832, 0.31862476, -0.2720613, 0.52289146, 0.22258873]                                                                                                                                                                                                                             |0   |\n",
      "|34924549a1b50546ec3d76ef3f621abadc11cf0d94277794e98265f2931832b7|2021-08-29 06:38:39.238078|[0.13240565, -0.062265802, 0.3802361, -0.069144346, -0.12953644, 0.3145967, 0.13325606, 0.27983242, -0.28201574, 0.22314407, -0.19739752, -0.26150468, -0.34735137, -0.03531996, 0.27424732, -0.11437522, 0.738819, 0.18522142, 0.053825624, -0.21388243, -0.9999619, -0.32722157, -0.22559498, -0.15820144, -0.22338645, 0.29822257, -0.19785278, 0.033573277, 0.012399709, -0.034366645, 0.0064511956, -0.99992585, 0.7442352, 0.6521329, 0.20367776, -0.1676267, 0.26269072, 0.27770922, 0.028822368, -0.35693318, -0.25006217, 0.13203849, -0.19440006, 0.21286403, -0.21594898, -0.14233698, -0.06541677, 0.2601865, -0.15180062, 0.1730199, -0.060778815, 0.040608797, 0.39117265, 0.18447152, 0.35060713, 0.39548737, 0.2973111, 0.26190808, 0.27798554, -0.17077573, 0.025151556, 0.09491757, 0.31890988, -0.108162746, -0.28976277, -0.30919725, 0.12110375, -0.16721678, 0.42768806, -0.17979838, -0.018471485, -0.27716795, -0.1393858, 0.15909545, 0.28444326, -0.29997638, 0.287657, 0.29142368, 0.21945159, -0.16487457, -0.26354212, -0.5228933, -0.13755928, 0.34384197, -0.10392304, 0.22026087, 0.38925588, -0.30940765, 0.2623642, -0.0036437572, 0.13336574, 0.4251088, -0.22825573, 0.29702064, -0.20272955, -0.3334939, -0.9855657, -0.08070566, -0.29314, -0.3165946, -0.061295487, 0.1127563, -0.032835472, -0.08185307, -0.1116503, -0.042186595, 0.12736072, 0.37756565, -0.21951233, 0.1131721, 0.19000363, -0.2655866, -0.1583318, 0.25514245, -0.14897202, 0.99973017, 0.02251401, 0.09926383, 0.24518506, -0.23730059, -0.48583186, 0.9999428, 0.20784323, -0.26119065, 0.26494256, 0.2981225, -0.37001973, 0.010400748, 0.22643496, 0.22455893, 0.11321853, -0.16960822, -0.37632942, -0.14051317, -0.97983414, -0.26924166, -0.07564019, 0.11066912, -0.20060733, -0.08185972, 0.25633374, 0.32777023, 0.31477118, -0.31348407, -0.019879896, -0.29240745, 0.32189262, -0.2781, 0.99994594, 0.6550925, -0.30822885, -0.16589852, 0.46528384, -0.49949396, -0.20604272, -0.17728631, -0.13412903, -0.44271523, 0.05404056, 0.3311981, 0.1053334, -0.12132643, -0.07249166, -2.340436E-4, 0.25022462, -0.52743953, -0.27321458, 0.1590751, 0.21847232, 0.2308565, -0.17886107, 0.013768887, 0.03606542, -0.341909, -0.01751805, 0.15993638, 0.2036082, -0.12274589, -0.30019546, -0.11585097, 0.043436088, -0.15898265, -0.28702125, 0.13921385, -0.23690225, -0.27498904, 0.12754135, -0.18062977, -0.08741121, 0.06117459, -0.0025562705, 0.26849478, -0.06690754, 0.026322877, 0.3233626, 0.26674923, -0.30231714, 0.3708918, 0.32026458, 0.09947185, 0.03766904, 0.019756531, 0.13336335, 0.11653386, -0.023845244, -0.5324013, 0.06940115, 0.08523406, 0.018727487, -0.24005874, -0.2264999, -0.24596117, 0.4709202, 0.34080225, -0.29004622, 0.17908867, 0.31588864, -0.08503337, -0.08422886, 0.10057928, -0.19373514, -0.32022995, -0.4448961, -0.07537581, -0.086775705, 0.16311313, 0.0072349967, 0.34620267, 0.30046916, -0.00926246, -0.02809233, -0.1599694, 0.17486621, 0.10070382, -0.027492201, 0.95853215, -0.32029057, 0.34853464, -0.43028867, -0.027090449, 0.26713467, -0.272779, 0.21716, 0.9985304, 0.025314903, -0.26280817, 0.12351449, 0.021292573, 0.22404711, -0.2616239, 0.13809524, -0.49213296, 0.53281736, 0.17002548, 0.17706771, -0.9999511, 0.1772023, 0.3433857, 0.22573076, 0.36803645, 0.37938064, 0.04419554, 0.07325725, 0.9916285, -0.33082455, -0.39581048, -0.0535988, -0.17625184, -0.2699982, -0.08951102, -0.038025357, -0.026160557, -0.03430233, 0.06460985, -0.2571995, 0.24321897, 0.3330788, -0.99997085, 0.986772, 0.11139201, -0.27034575, 0.14143555, 0.14643233, -0.9999599, 0.009207254, -0.31262934, -0.31780273, 0.29015884, -0.2878832, -0.2155749, -0.10039314, 0.32033718, 0.24059309, 0.32571703, 0.083770975, 0.3486609, -0.122798845, 0.037939616, 0.033127792, -0.048571546, 0.27265257, 0.116594575, 0.3032167, 0.30773324, -0.003908551, 0.12248261, -0.3821298, 0.21582736, 0.31455827, 0.07650708, 0.18165283, -0.09402703, 0.06780223, -0.94860804, 0.05718652, -0.26087803, -0.0647221, -0.14960606, 0.33017987, -0.1878015, -0.24678226, 0.15459703, 0.094227664, 0.9999385, 0.018488187, -0.13970791, 0.1524978, 0.3352567, 0.34532455, -0.14675142, -0.75831765, -0.26242894, 0.4468223, 0.29547098, 0.1825685, 0.21051629, 0.16161524, 0.20177226, -0.28404996, -0.26241863, 0.28688887, -0.3348971, 0.31202662, -0.16212817, -0.3325426, 0.111039564, -0.19657435, -0.06401904, -0.99154794, 0.34576088, 0.04469482, 0.25387034, 0.11875959, 0.13815685, -0.2306891, 0.3053683, 0.001774615, -0.08472808, -0.058038343, -0.30583376, -0.21694659, 0.10415451, -0.14705504, -0.25611064, 0.3986673, -0.6506197, 0.26764748, -0.035435278, -0.0048672915, -0.14827366, 0.079854436, -0.9997021, -0.38475633, 0.32921165, -0.047561385, 0.112415835, -0.27659363, -0.003028518, 0.22851299, 0.12582259, -0.06620844, 0.00876916, -0.08930479, 0.10685171, -0.09786932, 0.18649726, 0.9523777, 0.3786273, 0.061575837, -0.36545128, 0.12440102, -0.14418562, -0.046534903, 0.39834166, 0.13426788, -0.22139575, 0.021783536, 0.19155966, 0.17013355, -0.12492703, 0.015893554, -0.11473246, -0.30235726, 0.37179637, -0.2903679, -0.34811467, 0.011785025, 0.14576851, -0.3726995, 0.3718974, 0.1061628, 0.34078243, 0.042110182, 0.21416982, -0.27672452, -0.32881963, -0.1964718, -0.13782854, -0.2779099, -0.26191592, -0.287109, 0.99977875, 0.32065743, 0.14284728, -0.23470356, 0.095625386, 0.32140768, -0.028273528, 0.18303932, 0.01194722, 0.27096564, -0.29110909, 0.12935574, 0.09798668, 0.14040639, 0.29405966, -0.056950834, 0.5451954, -0.24332137, 0.9440536, -0.032651253, -0.198801, -0.99998605, 0.265306, 0.24794061, -0.28326672, -0.5043306, 0.046979044, -0.19392751, 0.31059796, -0.18259366, 0.00964055, 0.27225783, -0.36005336, 0.18126617, -0.3920872, 0.9996338, -0.18618356, 0.040936954, 0.02894624, 0.12157877, -0.13423489, -0.17307796, -0.20442393, 0.21470116, -0.17321943, 0.16621672, -0.99785566, 0.29317674, 0.39813235, 0.3490671, -0.13117673, 0.3414265, -0.37653387, 0.12503897, -0.0555721, -0.18031086, -0.2591464, 0.37065998, -0.38657874, 0.39380723, -0.3103388, 0.03635778, -0.22527756, 0.22223476, -0.018298184, 0.3381679, -0.23471664, 0.291939, -0.26211017, -0.18955779, -0.34323806, 0.19472583, -0.24187385, 0.9999606, -0.0047922195, 0.06312064, -0.13525389, 0.29710796, -0.116718665, 0.30411756, 0.675695, -0.22237954, 0.24001275, 0.17839988, -0.6595996, 0.1819209, -0.18110894, -0.98583966, -0.025916165, 0.99910563, 0.3575883, 0.070713684, 0.3693831, 0.4555269, -0.1922351, -0.32266814, 0.17454037, 0.98864, 0.19394724, 0.33009106, 0.19889732, 0.1872292, -0.30461627, -0.008438265, 0.99993324, 0.9995245, 0.20979996, 0.38139564, -0.12509154, -0.25182408, -0.2818621, 0.25424942, 0.251279, 0.18781821, -0.26427612, 0.12540494, -0.24799101, -0.13559704, -0.257811, -0.043774996, -0.2643636, 0.20771818, -0.24529739, 0.5511665, 0.33672762, 0.19074588, 0.31873786, 0.011899626, 0.1852753, -0.13565905, -0.29970813, 0.20249645, -0.26920688, -0.13958342, -0.327254, 0.022296911, -0.99995905, -0.25988686, -0.21648903, -0.066522576, 0.25180802, 0.15434204, 0.13171579, -0.3057564, -0.2912003, -0.14229469, 0.26645133, 0.07107644, 0.0383325, -0.07374145, -0.1538861, 0.14921953, -0.21362631, 0.14039792, -0.023819184, -0.27896112, -0.72608036, -0.015621489, -0.16291206, 0.020152692, -0.035278745, -0.16192932, 0.09038104, 0.074784525, 0.29665926, -0.07033921, 0.27601013, -0.14397682, 0.19724433, 0.27023363, 0.15357046, 0.3218149, -0.320419, -0.16524379, -0.0049743117, -0.18673708, -0.20126812, 0.18022765, -0.30267143, 0.1700937, -0.3666129, 0.042281095, -0.095112965, 0.02898935, 0.05885584, 0.1014566, -0.11739038, 0.26511353, 0.33435255, -0.19558798, 0.1761056, 0.03265167, -0.3344757, -0.26091024, 0.9999594, 0.37702468, 0.3821743, 0.13276727, -0.2683834, 0.11473124, 0.38700002, 0.3095615, -0.15148588, 0.9936528, -0.14285053, 0.054121424, 0.036914922, 0.27105394, 0.040056176, 0.32162803, 0.20721488, 0.75117356, 0.36497957, 0.28515515, 0.10323654, 0.30847138, 0.2569179, 0.31804675, 0.20472719, 0.09750486, 0.31250945, 0.15030004, 0.18511094, 6.001234E-4, -0.05588103, -0.34655225, -0.11726044, -0.0872799, 0.25244588, -0.021157509, -0.22076724, -0.18741463, 0.3235547, -0.18416639, 0.17255418, -0.0034501613, -0.1257701, 0.4572816, -0.21619926, 0.04536573, -0.39628637, 0.29152974, -0.97291905, 0.08342491, -0.29336137, -0.29348284, -0.28110012, -0.20634183, 0.1506192, 0.17993699, -0.054003973, 0.3049153, -0.19830827, 0.08507551, -0.011772218, -0.11068876, 0.13766415, -0.9999509, 0.13696305, 0.16017117, -0.20514998, 0.27671927, 0.060793, 0.09488015, 0.0010845124, -0.27595022, -0.19770043, -0.06643398, 0.10604347, -0.12398003, -0.28777403, 0.33265316, -0.31287968, -0.28298822, 0.08743586, -0.052528627, 0.09551017, 0.38743168, -0.1875668, 0.054630198, -0.282855, 0.3233812, -0.17146657, 0.0033769966, -0.30599558, -0.2748639, 0.18228681, -0.41421926, -0.36557394, -0.2543736, 0.18790807, -0.15403189, 0.14349575, 0.23003738, -0.22814564, 0.30037296, 0.11537831, 0.34013265, -0.036084272, 0.30781752, -0.97122043, -0.07196371, -0.27292153, -0.019368565, 0.15267889, 0.27853748, 0.2829416, 0.19022621, -0.2071826, 0.06827305, -0.0042954744, 0.2739563, 0.0059714974, -0.2442633, 0.02054534, -0.34846574, 0.2503129, -0.16142191, 0.12899248, -0.9999541, -0.055798747, 0.18127708, 0.29323313, 0.24241652, -0.27958027, -0.16522588, -0.043506004, -0.1305499, 0.044472907, 0.16752692, 0.027620798, 0.35693115, 0.20363186, -0.14139585, -0.30654657, 0.9904783, -0.015154844, 0.29342544, 0.009684449, 0.016176289, 0.9888083, 0.3306548, 0.14003833, 0.14678098, -0.0138063785, 0.3431996, 0.17671324]|0   |\n",
      "+----------------------------------------------------------------+--------------------------+-------------------------------------------------------------------------------------------------------------------------------------------------------------------------------------------------------------------------------------------------------------------------------------------------------------------------------------------------------------------------------------------------------------------------------------------------------------------------------------------------------------------------------------------------------------------------------------------------------------------------------------------------------------------------------------------------------------------------------------------------------------------------------------------------------------------------------------------------------------------------------------------------------------------------------------------------------------------------------------------------------------------------------------------------------------------------------------------------------------------------------------------------------------------------------------------------------------------------------------------------------------------------------------------------------------------------------------------------------------------------------------------------------------------------------------------------------------------------------------------------------------------------------------------------------------------------------------------------------------------------------------------------------------------------------------------------------------------------------------------------------------------------------------------------------------------------------------------------------------------------------------------------------------------------------------------------------------------------------------------------------------------------------------------------------------------------------------------------------------------------------------------------------------------------------------------------------------------------------------------------------------------------------------------------------------------------------------------------------------------------------------------------------------------------------------------------------------------------------------------------------------------------------------------------------------------------------------------------------------------------------------------------------------------------------------------------------------------------------------------------------------------------------------------------------------------------------------------------------------------------------------------------------------------------------------------------------------------------------------------------------------------------------------------------------------------------------------------------------------------------------------------------------------------------------------------------------------------------------------------------------------------------------------------------------------------------------------------------------------------------------------------------------------------------------------------------------------------------------------------------------------------------------------------------------------------------------------------------------------------------------------------------------------------------------------------------------------------------------------------------------------------------------------------------------------------------------------------------------------------------------------------------------------------------------------------------------------------------------------------------------------------------------------------------------------------------------------------------------------------------------------------------------------------------------------------------------------------------------------------------------------------------------------------------------------------------------------------------------------------------------------------------------------------------------------------------------------------------------------------------------------------------------------------------------------------------------------------------------------------------------------------------------------------------------------------------------------------------------------------------------------------------------------------------------------------------------------------------------------------------------------------------------------------------------------------------------------------------------------------------------------------------------------------------------------------------------------------------------------------------------------------------------------------------------------------------------------------------------------------------------------------------------------------------------------------------------------------------------------------------------------------------------------------------------------------------------------------------------------------------------------------------------------------------------------------------------------------------------------------------------------------------------------------------------------------------------------------------------------------------------------------------------------------------------------------------------------------------------------------------------------------------------------------------------------------------------------------------------------------------------------------------------------------------------------------------------------------------------------------------------------------------------------------------------------------------------------------------------------------------------------------------------------------------------------------------------------------------------------------------------------------------------------------------------------------------------------------------------------------------------------------------------------------------------------------------------------------------------------------------------------------------------------------------------------------------------------------------------------------------------------------------------------------------------------------------------------------------------------------------------------------------------------------------------------------------------------------------------------------------------------------------------------------------------------------------------------------------------------------------------------------------------------------------------------------------------------------------------------------------------------------------------------------------------------------------------------------------------------------------------------------------------------------------------------------------------------------------------------------------------------------------------------------------------------------------------------------------------------------------------------------------------------------------------------------------------------------------------------------------------------------------------------------------------------------------------------------------------------------------------------------------------------------------------------------------------------------------------------------------------------------------------------------------------------------------------------------------------------------------------------------------------------------------------------------------------------------------------------------------------------------------------------------------------------------------------------------------------------------------------------------------------------------------------------------------------------------------------------------------------------------------------------------------------------------------------------------------------------------------------------------------------------------------------------------------------------------------------------------------------------------------------------------------------------------------------------------------------------------------------------------------------------------------------------------------------------------------------------------------------------------------------------------------------------------------------------------------------------------------------------------------------------------------------------------------------------------------------------------------------------------------------------------------------------------------------------------------------------------------------------------------------------------------------------------------------------------------------------------------------------------------------------------------------------------------------------------------------------------------------------------------------------------------------------------------------------------------------------------------------------------------------------------------------------------------------------------------------------------------------------------------------------+----+\n",
      "only showing top 3 rows\n",
      "\n"
     ]
    }
   ],
   "source": [
    "dialog.show(3, False)"
   ]
  },
  {
   "cell_type": "markdown",
   "metadata": {
    "id": "AwPHwWWj1HS2"
   },
   "source": [
    "#### geo"
   ]
  },
  {
   "cell_type": "code",
   "execution_count": null,
   "metadata": {
    "id": "uxZzmMnlf0ZD"
   },
   "outputs": [],
   "source": [
    "geo = ss.read.parquet('detail/geo')"
   ]
  },
  {
   "cell_type": "code",
   "execution_count": null,
   "metadata": {
    "colab": {
     "base_uri": "https://localhost:8080/"
    },
    "executionInfo": {
     "elapsed": 13,
     "status": "ok",
     "timestamp": 1737798249605,
     "user": {
      "displayName": "Eugene O'Leary",
      "userId": "15546787906852777125"
     },
     "user_tz": -180
    },
    "id": "P0OuEmnM2MWH",
    "outputId": "091d5637-b095-4a36-a664-316437863340"
   },
   "outputs": [
    {
     "name": "stdout",
     "output_type": "stream",
     "text": [
      "root\n",
      " |-- client_id: string (nullable = true)\n",
      " |-- event_time: timestamp (nullable = true)\n",
      " |-- geohash_4: integer (nullable = true)\n",
      " |-- geohash_5: integer (nullable = true)\n",
      " |-- geohash_6: integer (nullable = true)\n",
      " |-- fold: integer (nullable = true)\n",
      "\n"
     ]
    }
   ],
   "source": [
    "geo.printSchema()"
   ]
  },
  {
   "cell_type": "code",
   "execution_count": null,
   "metadata": {
    "colab": {
     "base_uri": "https://localhost:8080/"
    },
    "executionInfo": {
     "elapsed": 5516,
     "status": "ok",
     "timestamp": 1737798270287,
     "user": {
      "displayName": "Eugene O'Leary",
      "userId": "15546787906852777125"
     },
     "user_tz": -180
    },
    "id": "R9oc-LpH2NxI",
    "outputId": "96cfd8fc-f0df-4be8-bd34-74526dff0a05"
   },
   "outputs": [
    {
     "name": "stdout",
     "output_type": "stream",
     "text": [
      "+----------------------------------------------------------------+--------------------------+---------+---------+---------+----+\n",
      "|client_id                                                       |event_time                |geohash_4|geohash_5|geohash_6|fold|\n",
      "+----------------------------------------------------------------+--------------------------+---------+---------+---------+----+\n",
      "|17883fdcd58fce22a9ad28bf2ad57a3c9e05542bc0c4b61a90f9a0ba48f07262|2022-11-21 06:36:47.25692 |6219     |373170   |1140355  |4   |\n",
      "|17883fdcd58fce22a9ad28bf2ad57a3c9e05542bc0c4b61a90f9a0ba48f07262|2022-04-06 08:26:52.640751|6219     |169048   |1511168  |4   |\n",
      "|17883fdcd58fce22a9ad28bf2ad57a3c9e05542bc0c4b61a90f9a0ba48f07262|2022-03-03 08:28:47.372397|6219     |169048   |1511168  |4   |\n",
      "+----------------------------------------------------------------+--------------------------+---------+---------+---------+----+\n",
      "only showing top 3 rows\n",
      "\n"
     ]
    }
   ],
   "source": [
    "geo.show(3, False)"
   ]
  },
  {
   "cell_type": "code",
   "execution_count": null,
   "metadata": {
    "colab": {
     "base_uri": "https://localhost:8080/"
    },
    "executionInfo": {
     "elapsed": 6630,
     "status": "ok",
     "timestamp": 1737799449845,
     "user": {
      "displayName": "Eugene O'Leary",
      "userId": "15546787906852777125"
     },
     "user_tz": -180
    },
    "id": "8jbcd4zl6qoW",
    "outputId": "91e6bae2-c358-4bfb-ad3b-4f9b9d59d16f"
   },
   "outputs": [
    {
     "name": "stdout",
     "output_type": "stream",
     "text": [
      "+-------------------------+\n",
      "|count(DISTINCT geohash_4)|\n",
      "+-------------------------+\n",
      "|                    18948|\n",
      "+-------------------------+\n",
      "\n"
     ]
    }
   ],
   "source": [
    "geo\\\n",
    "    .select(F.countDistinct('geohash_4'))\\\n",
    "    .show()"
   ]
  },
  {
   "cell_type": "code",
   "execution_count": null,
   "metadata": {
    "id": "gYZVC5WO2SW0"
   },
   "outputs": [],
   "source": [
    "!pip install pygeohash -q\n",
    "import pygeohash as pgh"
   ]
  },
  {
   "cell_type": "code",
   "execution_count": null,
   "metadata": {
    "colab": {
     "base_uri": "https://localhost:8080/"
    },
    "executionInfo": {
     "elapsed": 250,
     "status": "ok",
     "timestamp": 1737798704325,
     "user": {
      "displayName": "Eugene O'Leary",
      "userId": "15546787906852777125"
     },
     "user_tz": -180
    },
    "id": "48G-g9tl34RD",
    "outputId": "ea5a3bee-1921-4bd6-9407-e020ee97c209"
   },
   "outputs": [
    {
     "data": {
      "text/plain": [
       "(-45.0, -76.0)"
      ]
     },
     "execution_count": 9,
     "metadata": {},
     "output_type": "execute_result"
    }
   ],
   "source": [
    "pgh.decode('6219')"
   ]
  },
  {
   "cell_type": "code",
   "execution_count": null,
   "metadata": {
    "colab": {
     "base_uri": "https://localhost:8080/"
    },
    "executionInfo": {
     "elapsed": 251,
     "status": "ok",
     "timestamp": 1737798909404,
     "user": {
      "displayName": "Eugene O'Leary",
      "userId": "15546787906852777125"
     },
     "user_tz": -180
    },
    "id": "NkDkaj0S4n5c",
    "outputId": "c3c133f6-ff0d-4929-aecf-145db2795cd6"
   },
   "outputs": [
    {
     "name": "stdout",
     "output_type": "stream",
     "text": [
      "(-26.5, -122.2)\n",
      "(-75.93, -122.2)\n"
     ]
    }
   ],
   "source": [
    "print(pgh.decode('373170'))\n",
    "print(pgh.decode('169048'))"
   ]
  },
  {
   "cell_type": "markdown",
   "metadata": {
    "id": "nJ1ncT9Y5Ae7"
   },
   "source": [
    "## Preprocessing\n"
   ]
  },
  {
   "cell_type": "markdown",
   "metadata": {
    "id": "P3PGsl8f5FsK"
   },
   "source": [
    "### Transactions"
   ]
  },
  {
   "cell_type": "markdown",
   "metadata": {
    "id": "Sy7MB0uIED6Z"
   },
   "source": [
    "Aggregate transactions for each report month.  \n",
    "Transactions are aggregated on span of 1, 3 and 6 months before report date. Min, max and cnt aggregation functions are applied"
   ]
  },
  {
   "cell_type": "code",
   "execution_count": null,
   "metadata": {
    "id": "_OkLuI_oB5Zp"
   },
   "outputs": [],
   "source": [
    "report_dts = pd.date_range('2022-02-28', '2023-01-31', freq='ME').strftime('%Y-%m-%d').tolist()"
   ]
  },
  {
   "cell_type": "code",
   "execution_count": null,
   "metadata": {
    "id": "JZBfduKuoFZC"
   },
   "outputs": [],
   "source": [
    "trx_amt_agg_fns = [\n",
    "    F.sum('flag_1m').alias('trx_cnt_1m'),\n",
    "    F.sum(F.expr('flag_1m * amount')).alias('trx_sum_1m'),\n",
    "    F.max(F.expr('flag_1m * amount')).alias('trx_max_1m'),\n",
    "\n",
    "    F.sum('flag_3m').alias('trx_cnt_3m'),\n",
    "    F.sum(F.expr('flag_3m * amount')).alias('trx_sum_3m'),\n",
    "    F.max(F.expr('flag_3m * amount')).alias('trx_max_3m'),\n",
    "\n",
    "    F.sum('flag_6m').alias('trx_cnt_6m'),\n",
    "    F.sum(F.expr('flag_6m * amount')).alias('trx_sum_6m'),\n",
    "    F.max(F.expr('flag_6m * amount')).alias('trx_max_6m'),\n",
    "\n",
    "\n",
    "]"
   ]
  },
  {
   "cell_type": "code",
   "execution_count": 27,
   "metadata": {
    "colab": {
     "base_uri": "https://localhost:8080/",
     "height": 85,
     "referenced_widgets": [
      "452a2152168b4793b0a777fea80342db",
      "ae121f111b4646ba97760a98a6c6fda4",
      "6b5adbba18a94485851653b8895940a4",
      "7e66d9f74c864297972be0b3d67a4d87",
      "0a25b5b83a49409aa203470b39bb759f",
      "0520f57998ba4357a0eecbb5567c22af",
      "9d552328b53a4c1c884e2957e4faf254",
      "f4f652bd7d4e4689a405e39584d97f33",
      "690606ab66d44b9fa99bb40b852384b5",
      "70f011e3fed84000ac4a00a542565937",
      "27b8f0d302274d7ca51fe8c5df143095"
     ]
    },
    "id": "wlEsyQktHj7t",
    "outputId": "62753acc-0bfb-4bd4-b56e-64832146bf0e"
   },
   "outputs": [
    {
     "data": {
      "application/vnd.jupyter.widget-view+json": {
       "model_id": "452a2152168b4793b0a777fea80342db",
       "version_major": 2,
       "version_minor": 0
      },
      "text/plain": [
       "  0%|          | 0/12 [00:00<?, ?it/s]"
      ]
     },
     "metadata": {},
     "output_type": "display_data"
    },
    {
     "name": "stdout",
     "output_type": "stream",
     "text": [
      "CPU times: user 14.7 s, sys: 2.18 s, total: 16.9 s\n",
      "Wall time: 1h 25min 30s\n"
     ]
    }
   ],
   "source": [
    "%%time\n",
    "\n",
    "for report_dt in tqdm(report_dts):\n",
    "    trx_preagg = trx\\\n",
    "        .withColumn('mon', F.lit(report_dt).cast(pst.DateType()))\\\n",
    "        .filter(\"last_day(add_months(last_day(event_time), -1)) < mon\")\\\n",
    "        .withColumn('flag_1m', F.when(F.expr(\"months_between(cast(date_format(mon, 'yyyy-MM') as date), event_time) < 1\"), 1).otherwise(0))\\\n",
    "        .withColumn('flag_3m', F.when(F.expr(\"months_between(cast(date_format(mon, 'yyyy-MM') as date), event_time) < 3\"), 1).otherwise(0))\\\n",
    "        .withColumn('flag_6m', F.when(F.expr(\"months_between(cast(date_format(mon, 'yyyy-MM') as date), event_time) < 6\"), 1).otherwise(0))\n",
    "\n",
    "    trx_agg_amt = trx_preagg\\\n",
    "        .groupBy('client_id', 'mon')\\\n",
    "        .agg(*trx_amt_agg_fns)\n",
    "\n",
    "    trx_agg_et = trx_preagg\\\n",
    "        .withColumn('count_event_type', F.count(\"*\").over(Window.partitionBy('client_id', 'mon', 'event_type')))\\\n",
    "        .withColumn('rn', F.row_number().over(Window.partitionBy('client_id', 'mon').orderBy(F.col('count_event_type').desc())))\\\n",
    "        .filter(\"rn = 1\")\\\n",
    "        .select('client_id', 'mon', F.col('event_type').alias('trx_et_mode'))\n",
    "\n",
    "    trx_agg_est = trx_preagg\\\n",
    "        .withColumn('count_event_subtype', F.count(\"*\").over(Window.partitionBy('client_id', 'mon', 'event_subtype')))\\\n",
    "        .withColumn('rn', F.row_number().over(Window.partitionBy('client_id', 'mon').orderBy(F.col('count_event_subtype').desc())))\\\n",
    "        .filter(\"rn = 1\")\\\n",
    "        .select('client_id', 'mon', F.col('event_type').alias('trx_est_mode'))\n",
    "\n",
    "    trx_agg_src22 = trx_preagg\\\n",
    "        .withColumn('count_src_type22', F.count(\"*\").over(Window.partitionBy('client_id', 'mon', 'src_type22')))\\\n",
    "        .withColumn('rn', F.row_number().over(Window.partitionBy('client_id', 'mon').orderBy(F.col('count_src_type22').desc())))\\\n",
    "        .filter(\"rn = 1\")\\\n",
    "        .select('client_id', 'mon', F.col('event_type').alias('trx_src22_mode'))\n",
    "\n",
    "    trx_agg_src32 = trx_preagg\\\n",
    "        .withColumn('count_src_type32', F.count(\"*\").over(Window.partitionBy('client_id', 'mon', 'src_type32')))\\\n",
    "        .withColumn('rn', F.row_number().over(Window.partitionBy('client_id', 'mon').orderBy(F.col('count_src_type32').desc())))\\\n",
    "        .filter(\"rn = 1\")\\\n",
    "        .select('client_id', 'mon', F.col('event_type').alias('trx_src32_mode'))\n",
    "\n",
    "    trx_agg_mon = trx_agg_amt\\\n",
    "        .join(trx_agg_et, on=['client_id', 'mon'], how='left')\\\n",
    "        .join(trx_agg_est, on=['client_id', 'mon'], how='left')\\\n",
    "        .join(trx_agg_src22, on=['client_id', 'mon'], how='left')\\\n",
    "        .join(trx_agg_src32, on=['client_id', 'mon'], how='left')\n",
    "\n",
    "    trx_agg_mon.write.parquet(f'drive/MyDrive/SberIndexTest/data/preproc/trx_agg/{report_dt}.parquet', mode='overwrite')"
   ]
  },
  {
   "cell_type": "markdown",
   "metadata": {
    "id": "lVQbfldb1JeP"
   },
   "source": [
    "### Dialog"
   ]
  },
  {
   "cell_type": "markdown",
   "metadata": {},
   "source": [
    "#### Last pooling"
   ]
  },
  {
   "cell_type": "code",
   "execution_count": null,
   "metadata": {
    "colab": {
     "base_uri": "https://localhost:8080/"
    },
    "executionInfo": {
     "elapsed": 237,
     "status": "ok",
     "timestamp": 1737894990473,
     "user": {
      "displayName": "Eugene O'Leary",
      "userId": "15546787906852777125"
     },
     "user_tz": -180
    },
    "id": "Z6yERUbFnPPw",
    "outputId": "df5df1ab-7112-49d4-9cfe-4fd26f151297"
   },
   "outputs": [
    {
     "name": "stdout",
     "output_type": "stream",
     "text": [
      "root\n",
      " |-- client_id: string (nullable = true)\n",
      " |-- event_time: timestamp (nullable = true)\n",
      " |-- embedding: array (nullable = true)\n",
      " |    |-- element: float (containsNull = true)\n",
      " |-- fold: integer (nullable = true)\n",
      "\n"
     ]
    }
   ],
   "source": [
    "dialog.printSchema()"
   ]
  },
  {
   "cell_type": "markdown",
   "metadata": {},
   "source": [
    "* For each report month, extract dialogs before the beginning of this month exclusively\n",
    "* Take last dialog in this period with window function"
   ]
  },
  {
   "cell_type": "code",
   "execution_count": 29,
   "metadata": {
    "colab": {
     "base_uri": "https://localhost:8080/",
     "height": 49,
     "referenced_widgets": [
      "b24e4e3598fd405ba430658dfb650a64",
      "a6e728e17e094959a28b7267aa935780",
      "cb6f77e339da4e9abc1e76745e1ed02a",
      "0e578c918984434ea3d86efff3bc1305",
      "2f244498dfec4f8784ce4d84cbe789e8",
      "ec480ddb3c2340aeb890065e8e422e8f",
      "a6052a3735cf45ee8321f301c15232bc",
      "c55e8def072641e48bc255362417b867",
      "988d291f73a0402c942d074261b55334",
      "99a2573be1f3448b9658ca97b2b8802a",
      "db2c3ffe450b435aa9bcd6e81c0fcb98"
     ]
    },
    "id": "JXN-mWKVqmU1",
    "outputId": "e23118da-8873-42cb-97f7-3c9ac996ab8e"
   },
   "outputs": [
    {
     "data": {
      "application/vnd.jupyter.widget-view+json": {
       "model_id": "b24e4e3598fd405ba430658dfb650a64",
       "version_major": 2,
       "version_minor": 0
      },
      "text/plain": [
       "  0%|          | 0/12 [00:00<?, ?it/s]"
      ]
     },
     "metadata": {},
     "output_type": "display_data"
    }
   ],
   "source": [
    "for report_dt in tqdm(report_dts):\n",
    "    dialog_preagg = dialog\\\n",
    "        .withColumn('mon', F.lit(report_dt).cast(pst.StringType()))\\\n",
    "        .filter('last_day(add_months(last_day(event_time), -1)) < mon')\n",
    "    dialog_mon_last = dialog_preagg\\\n",
    "        .withColumn('rn', F.row_number().over(Window.partitionBy('client_id', 'mon').orderBy(F.col('event_time').desc())))\\\n",
    "        .filter('rn = 1')\\\n",
    "        .select('client_id', 'event_time', 'mon', 'embedding')\n",
    "\n",
    "    dialog_mon_last.write.parquet(f'drive/MyDrive/SberIndexTest/data/preproc/dialog_agg/{report_dt}.parquet', mode=\"overwrite\")"
   ]
  },
  {
   "cell_type": "code",
   "execution_count": 30,
   "metadata": {
    "id": "V8TpdoR6sl-F"
   },
   "outputs": [],
   "source": [
    "dialog_last_pd = pd.read_parquet(f'drive/MyDrive/SberIndexTest/data/preproc/dialog_agg')"
   ]
  },
  {
   "cell_type": "code",
   "execution_count": 31,
   "metadata": {
    "colab": {
     "base_uri": "https://localhost:8080/",
     "height": 597
    },
    "id": "0OsWm58rsqbF",
    "outputId": "3e5e7f98-4e9a-4026-c765-f0247fad4237"
   },
   "outputs": [
    {
     "data": {
      "application/vnd.google.colaboratory.intrinsic+json": {
       "type": "dataframe",
       "variable_name": "dialog_last_pd"
      },
      "text/html": [
       "\n",
       "  <div id=\"df-4a69bf00-f5c9-4455-b977-177999c6d655\" class=\"colab-df-container\">\n",
       "    <div>\n",
       "<style scoped>\n",
       "    .dataframe tbody tr th:only-of-type {\n",
       "        vertical-align: middle;\n",
       "    }\n",
       "\n",
       "    .dataframe tbody tr th {\n",
       "        vertical-align: top;\n",
       "    }\n",
       "\n",
       "    .dataframe thead th {\n",
       "        text-align: right;\n",
       "    }\n",
       "</style>\n",
       "<table border=\"1\" class=\"dataframe\">\n",
       "  <thead>\n",
       "    <tr style=\"text-align: right;\">\n",
       "      <th></th>\n",
       "      <th>client_id</th>\n",
       "      <th>event_time</th>\n",
       "      <th>mon</th>\n",
       "      <th>embedding</th>\n",
       "    </tr>\n",
       "  </thead>\n",
       "  <tbody>\n",
       "    <tr>\n",
       "      <th>0</th>\n",
       "      <td>00088f1d5f1d3aec81bec9e3380085c9d644b004638fdf...</td>\n",
       "      <td>2021-12-29 05:44:27.896522</td>\n",
       "      <td>2022-02-28</td>\n",
       "      <td>[0.37322193, -0.19808462, 0.509121, -0.3556997...</td>\n",
       "    </tr>\n",
       "    <tr>\n",
       "      <th>1</th>\n",
       "      <td>000ce17c51f6a193c1f138cd17365587506c5f9502e685...</td>\n",
       "      <td>2021-11-16 13:12:05.414712</td>\n",
       "      <td>2022-02-28</td>\n",
       "      <td>[0.56099665, -0.33282652, 0.71185464, -0.58383...</td>\n",
       "    </tr>\n",
       "    <tr>\n",
       "      <th>2</th>\n",
       "      <td>000dbaa90a072f55e52c07acf8b6ab77b674841b03fba9...</td>\n",
       "      <td>2021-04-30 06:18:59.381658</td>\n",
       "      <td>2022-02-28</td>\n",
       "      <td>[0.25380474, -0.021852743, 0.41790318, -0.3006...</td>\n",
       "    </tr>\n",
       "    <tr>\n",
       "      <th>3</th>\n",
       "      <td>000f4309610cc90124943138fdf6d50a2b5967a9ba79b2...</td>\n",
       "      <td>2021-11-20 12:08:15.119988</td>\n",
       "      <td>2022-02-28</td>\n",
       "      <td>[0.35111684, 0.082568765, 0.3714127, -0.172357...</td>\n",
       "    </tr>\n",
       "    <tr>\n",
       "      <th>4</th>\n",
       "      <td>000fff599dacf53fffcf4663ab370d21921d1988f8cfad...</td>\n",
       "      <td>2021-04-14 15:10:13.392665</td>\n",
       "      <td>2022-02-28</td>\n",
       "      <td>[0.39002457, -0.15838914, 0.46159643, -0.31632...</td>\n",
       "    </tr>\n",
       "    <tr>\n",
       "      <th>...</th>\n",
       "      <td>...</td>\n",
       "      <td>...</td>\n",
       "      <td>...</td>\n",
       "      <td>...</td>\n",
       "    </tr>\n",
       "    <tr>\n",
       "      <th>470079</th>\n",
       "      <td>ffd3277ddee2bb46e4bdc21b003ebaaa66bc3718abee9a...</td>\n",
       "      <td>2022-09-20 02:40:55.829964</td>\n",
       "      <td>2023-01-31</td>\n",
       "      <td>[0.348974, -0.013922471, 0.49128702, -0.390436...</td>\n",
       "    </tr>\n",
       "    <tr>\n",
       "      <th>470080</th>\n",
       "      <td>ffd4b9cadbe02512fe0c14901147643000ec82d5808415...</td>\n",
       "      <td>2022-11-29 08:49:43.086152</td>\n",
       "      <td>2023-01-31</td>\n",
       "      <td>[0.4460622, -0.28840736, 0.73499227, -0.432672...</td>\n",
       "    </tr>\n",
       "    <tr>\n",
       "      <th>470081</th>\n",
       "      <td>ffdae6fa23ec4f29897a48d02530a9a67189ab877956da...</td>\n",
       "      <td>2022-11-27 10:01:43.915668</td>\n",
       "      <td>2023-01-31</td>\n",
       "      <td>[0.26631433, -0.16096947, 0.4497849, -0.309470...</td>\n",
       "    </tr>\n",
       "    <tr>\n",
       "      <th>470082</th>\n",
       "      <td>ffdbb5486e1dda5674f66857e145aeef011374d4d6975c...</td>\n",
       "      <td>2022-12-20 08:08:46.956690</td>\n",
       "      <td>2023-01-31</td>\n",
       "      <td>[0.0016724527, 0.091411255, 0.21659157, 0.0182...</td>\n",
       "    </tr>\n",
       "    <tr>\n",
       "      <th>470083</th>\n",
       "      <td>ffe5dd408d75551095f9236154f4f72414acb4e650a05b...</td>\n",
       "      <td>2021-03-25 10:50:36.302481</td>\n",
       "      <td>2023-01-31</td>\n",
       "      <td>[0.1177095, 0.050254147, 0.30033243, 0.1292927...</td>\n",
       "    </tr>\n",
       "  </tbody>\n",
       "</table>\n",
       "<p>470084 rows × 4 columns</p>\n",
       "</div>\n",
       "    <div class=\"colab-df-buttons\">\n",
       "\n",
       "  <div class=\"colab-df-container\">\n",
       "    <button class=\"colab-df-convert\" onclick=\"convertToInteractive('df-4a69bf00-f5c9-4455-b977-177999c6d655')\"\n",
       "            title=\"Convert this dataframe to an interactive table.\"\n",
       "            style=\"display:none;\">\n",
       "\n",
       "  <svg xmlns=\"http://www.w3.org/2000/svg\" height=\"24px\" viewBox=\"0 -960 960 960\">\n",
       "    <path d=\"M120-120v-720h720v720H120Zm60-500h600v-160H180v160Zm220 220h160v-160H400v160Zm0 220h160v-160H400v160ZM180-400h160v-160H180v160Zm440 0h160v-160H620v160ZM180-180h160v-160H180v160Zm440 0h160v-160H620v160Z\"/>\n",
       "  </svg>\n",
       "    </button>\n",
       "\n",
       "  <style>\n",
       "    .colab-df-container {\n",
       "      display:flex;\n",
       "      gap: 12px;\n",
       "    }\n",
       "\n",
       "    .colab-df-convert {\n",
       "      background-color: #E8F0FE;\n",
       "      border: none;\n",
       "      border-radius: 50%;\n",
       "      cursor: pointer;\n",
       "      display: none;\n",
       "      fill: #1967D2;\n",
       "      height: 32px;\n",
       "      padding: 0 0 0 0;\n",
       "      width: 32px;\n",
       "    }\n",
       "\n",
       "    .colab-df-convert:hover {\n",
       "      background-color: #E2EBFA;\n",
       "      box-shadow: 0px 1px 2px rgba(60, 64, 67, 0.3), 0px 1px 3px 1px rgba(60, 64, 67, 0.15);\n",
       "      fill: #174EA6;\n",
       "    }\n",
       "\n",
       "    .colab-df-buttons div {\n",
       "      margin-bottom: 4px;\n",
       "    }\n",
       "\n",
       "    [theme=dark] .colab-df-convert {\n",
       "      background-color: #3B4455;\n",
       "      fill: #D2E3FC;\n",
       "    }\n",
       "\n",
       "    [theme=dark] .colab-df-convert:hover {\n",
       "      background-color: #434B5C;\n",
       "      box-shadow: 0px 1px 3px 1px rgba(0, 0, 0, 0.15);\n",
       "      filter: drop-shadow(0px 1px 2px rgba(0, 0, 0, 0.3));\n",
       "      fill: #FFFFFF;\n",
       "    }\n",
       "  </style>\n",
       "\n",
       "    <script>\n",
       "      const buttonEl =\n",
       "        document.querySelector('#df-4a69bf00-f5c9-4455-b977-177999c6d655 button.colab-df-convert');\n",
       "      buttonEl.style.display =\n",
       "        google.colab.kernel.accessAllowed ? 'block' : 'none';\n",
       "\n",
       "      async function convertToInteractive(key) {\n",
       "        const element = document.querySelector('#df-4a69bf00-f5c9-4455-b977-177999c6d655');\n",
       "        const dataTable =\n",
       "          await google.colab.kernel.invokeFunction('convertToInteractive',\n",
       "                                                    [key], {});\n",
       "        if (!dataTable) return;\n",
       "\n",
       "        const docLinkHtml = 'Like what you see? Visit the ' +\n",
       "          '<a target=\"_blank\" href=https://colab.research.google.com/notebooks/data_table.ipynb>data table notebook</a>'\n",
       "          + ' to learn more about interactive tables.';\n",
       "        element.innerHTML = '';\n",
       "        dataTable['output_type'] = 'display_data';\n",
       "        await google.colab.output.renderOutput(dataTable, element);\n",
       "        const docLink = document.createElement('div');\n",
       "        docLink.innerHTML = docLinkHtml;\n",
       "        element.appendChild(docLink);\n",
       "      }\n",
       "    </script>\n",
       "  </div>\n",
       "\n",
       "\n",
       "<div id=\"df-0dd27f0b-e26f-4d88-a111-edfc0823880f\">\n",
       "  <button class=\"colab-df-quickchart\" onclick=\"quickchart('df-0dd27f0b-e26f-4d88-a111-edfc0823880f')\"\n",
       "            title=\"Suggest charts\"\n",
       "            style=\"display:none;\">\n",
       "\n",
       "<svg xmlns=\"http://www.w3.org/2000/svg\" height=\"24px\"viewBox=\"0 0 24 24\"\n",
       "     width=\"24px\">\n",
       "    <g>\n",
       "        <path d=\"M19 3H5c-1.1 0-2 .9-2 2v14c0 1.1.9 2 2 2h14c1.1 0 2-.9 2-2V5c0-1.1-.9-2-2-2zM9 17H7v-7h2v7zm4 0h-2V7h2v10zm4 0h-2v-4h2v4z\"/>\n",
       "    </g>\n",
       "</svg>\n",
       "  </button>\n",
       "\n",
       "<style>\n",
       "  .colab-df-quickchart {\n",
       "      --bg-color: #E8F0FE;\n",
       "      --fill-color: #1967D2;\n",
       "      --hover-bg-color: #E2EBFA;\n",
       "      --hover-fill-color: #174EA6;\n",
       "      --disabled-fill-color: #AAA;\n",
       "      --disabled-bg-color: #DDD;\n",
       "  }\n",
       "\n",
       "  [theme=dark] .colab-df-quickchart {\n",
       "      --bg-color: #3B4455;\n",
       "      --fill-color: #D2E3FC;\n",
       "      --hover-bg-color: #434B5C;\n",
       "      --hover-fill-color: #FFFFFF;\n",
       "      --disabled-bg-color: #3B4455;\n",
       "      --disabled-fill-color: #666;\n",
       "  }\n",
       "\n",
       "  .colab-df-quickchart {\n",
       "    background-color: var(--bg-color);\n",
       "    border: none;\n",
       "    border-radius: 50%;\n",
       "    cursor: pointer;\n",
       "    display: none;\n",
       "    fill: var(--fill-color);\n",
       "    height: 32px;\n",
       "    padding: 0;\n",
       "    width: 32px;\n",
       "  }\n",
       "\n",
       "  .colab-df-quickchart:hover {\n",
       "    background-color: var(--hover-bg-color);\n",
       "    box-shadow: 0 1px 2px rgba(60, 64, 67, 0.3), 0 1px 3px 1px rgba(60, 64, 67, 0.15);\n",
       "    fill: var(--button-hover-fill-color);\n",
       "  }\n",
       "\n",
       "  .colab-df-quickchart-complete:disabled,\n",
       "  .colab-df-quickchart-complete:disabled:hover {\n",
       "    background-color: var(--disabled-bg-color);\n",
       "    fill: var(--disabled-fill-color);\n",
       "    box-shadow: none;\n",
       "  }\n",
       "\n",
       "  .colab-df-spinner {\n",
       "    border: 2px solid var(--fill-color);\n",
       "    border-color: transparent;\n",
       "    border-bottom-color: var(--fill-color);\n",
       "    animation:\n",
       "      spin 1s steps(1) infinite;\n",
       "  }\n",
       "\n",
       "  @keyframes spin {\n",
       "    0% {\n",
       "      border-color: transparent;\n",
       "      border-bottom-color: var(--fill-color);\n",
       "      border-left-color: var(--fill-color);\n",
       "    }\n",
       "    20% {\n",
       "      border-color: transparent;\n",
       "      border-left-color: var(--fill-color);\n",
       "      border-top-color: var(--fill-color);\n",
       "    }\n",
       "    30% {\n",
       "      border-color: transparent;\n",
       "      border-left-color: var(--fill-color);\n",
       "      border-top-color: var(--fill-color);\n",
       "      border-right-color: var(--fill-color);\n",
       "    }\n",
       "    40% {\n",
       "      border-color: transparent;\n",
       "      border-right-color: var(--fill-color);\n",
       "      border-top-color: var(--fill-color);\n",
       "    }\n",
       "    60% {\n",
       "      border-color: transparent;\n",
       "      border-right-color: var(--fill-color);\n",
       "    }\n",
       "    80% {\n",
       "      border-color: transparent;\n",
       "      border-right-color: var(--fill-color);\n",
       "      border-bottom-color: var(--fill-color);\n",
       "    }\n",
       "    90% {\n",
       "      border-color: transparent;\n",
       "      border-bottom-color: var(--fill-color);\n",
       "    }\n",
       "  }\n",
       "</style>\n",
       "\n",
       "  <script>\n",
       "    async function quickchart(key) {\n",
       "      const quickchartButtonEl =\n",
       "        document.querySelector('#' + key + ' button');\n",
       "      quickchartButtonEl.disabled = true;  // To prevent multiple clicks.\n",
       "      quickchartButtonEl.classList.add('colab-df-spinner');\n",
       "      try {\n",
       "        const charts = await google.colab.kernel.invokeFunction(\n",
       "            'suggestCharts', [key], {});\n",
       "      } catch (error) {\n",
       "        console.error('Error during call to suggestCharts:', error);\n",
       "      }\n",
       "      quickchartButtonEl.classList.remove('colab-df-spinner');\n",
       "      quickchartButtonEl.classList.add('colab-df-quickchart-complete');\n",
       "    }\n",
       "    (() => {\n",
       "      let quickchartButtonEl =\n",
       "        document.querySelector('#df-0dd27f0b-e26f-4d88-a111-edfc0823880f button');\n",
       "      quickchartButtonEl.style.display =\n",
       "        google.colab.kernel.accessAllowed ? 'block' : 'none';\n",
       "    })();\n",
       "  </script>\n",
       "</div>\n",
       "    </div>\n",
       "  </div>\n"
      ],
      "text/plain": [
       "                                                client_id  \\\n",
       "0       00088f1d5f1d3aec81bec9e3380085c9d644b004638fdf...   \n",
       "1       000ce17c51f6a193c1f138cd17365587506c5f9502e685...   \n",
       "2       000dbaa90a072f55e52c07acf8b6ab77b674841b03fba9...   \n",
       "3       000f4309610cc90124943138fdf6d50a2b5967a9ba79b2...   \n",
       "4       000fff599dacf53fffcf4663ab370d21921d1988f8cfad...   \n",
       "...                                                   ...   \n",
       "470079  ffd3277ddee2bb46e4bdc21b003ebaaa66bc3718abee9a...   \n",
       "470080  ffd4b9cadbe02512fe0c14901147643000ec82d5808415...   \n",
       "470081  ffdae6fa23ec4f29897a48d02530a9a67189ab877956da...   \n",
       "470082  ffdbb5486e1dda5674f66857e145aeef011374d4d6975c...   \n",
       "470083  ffe5dd408d75551095f9236154f4f72414acb4e650a05b...   \n",
       "\n",
       "                       event_time         mon  \\\n",
       "0      2021-12-29 05:44:27.896522  2022-02-28   \n",
       "1      2021-11-16 13:12:05.414712  2022-02-28   \n",
       "2      2021-04-30 06:18:59.381658  2022-02-28   \n",
       "3      2021-11-20 12:08:15.119988  2022-02-28   \n",
       "4      2021-04-14 15:10:13.392665  2022-02-28   \n",
       "...                           ...         ...   \n",
       "470079 2022-09-20 02:40:55.829964  2023-01-31   \n",
       "470080 2022-11-29 08:49:43.086152  2023-01-31   \n",
       "470081 2022-11-27 10:01:43.915668  2023-01-31   \n",
       "470082 2022-12-20 08:08:46.956690  2023-01-31   \n",
       "470083 2021-03-25 10:50:36.302481  2023-01-31   \n",
       "\n",
       "                                                embedding  \n",
       "0       [0.37322193, -0.19808462, 0.509121, -0.3556997...  \n",
       "1       [0.56099665, -0.33282652, 0.71185464, -0.58383...  \n",
       "2       [0.25380474, -0.021852743, 0.41790318, -0.3006...  \n",
       "3       [0.35111684, 0.082568765, 0.3714127, -0.172357...  \n",
       "4       [0.39002457, -0.15838914, 0.46159643, -0.31632...  \n",
       "...                                                   ...  \n",
       "470079  [0.348974, -0.013922471, 0.49128702, -0.390436...  \n",
       "470080  [0.4460622, -0.28840736, 0.73499227, -0.432672...  \n",
       "470081  [0.26631433, -0.16096947, 0.4497849, -0.309470...  \n",
       "470082  [0.0016724527, 0.091411255, 0.21659157, 0.0182...  \n",
       "470083  [0.1177095, 0.050254147, 0.30033243, 0.1292927...  \n",
       "\n",
       "[470084 rows x 4 columns]"
      ]
     },
     "execution_count": 31,
     "metadata": {},
     "output_type": "execute_result"
    }
   ],
   "source": [
    "dialog_last_pd"
   ]
  },
  {
   "cell_type": "markdown",
   "metadata": {},
   "source": [
    "#### Dimensionality reduction"
   ]
  },
  {
   "cell_type": "markdown",
   "metadata": {},
   "source": [
    "Extract embedding vector into dataframe columns"
   ]
  },
  {
   "cell_type": "code",
   "execution_count": 2,
   "metadata": {
    "executionInfo": {
     "elapsed": 23490,
     "status": "ok",
     "timestamp": 1737910165986,
     "user": {
      "displayName": "Eugene O'Leary",
      "userId": "15546787906852777125"
     },
     "user_tz": -180
    },
    "id": "TthQrQvzaNLZ"
   },
   "outputs": [],
   "source": [
    "dialog_last = pd.read_parquet(f'drive/MyDrive/SberIndexTest/data/preproc/dialog_agg')"
   ]
  },
  {
   "cell_type": "code",
   "execution_count": 5,
   "metadata": {
    "colab": {
     "base_uri": "https://localhost:8080/",
     "height": 293
    },
    "executionInfo": {
     "elapsed": 11,
     "status": "ok",
     "timestamp": 1738146312178,
     "user": {
      "displayName": "Eugene O'Leary",
      "userId": "15546787906852777125"
     },
     "user_tz": -180
    },
    "id": "K99WCA30aiVw",
    "outputId": "a9e3a0b7-6d05-4bd4-a807-8e97c22135b3"
   },
   "outputs": [
    {
     "data": {
      "application/vnd.google.colaboratory.intrinsic+json": {
       "type": "dataframe",
       "variable_name": "dialog_last"
      },
      "text/html": [
       "\n",
       "  <div id=\"df-e92023de-0baf-4867-8b58-4d7c89330274\" class=\"colab-df-container\">\n",
       "    <div>\n",
       "<style scoped>\n",
       "    .dataframe tbody tr th:only-of-type {\n",
       "        vertical-align: middle;\n",
       "    }\n",
       "\n",
       "    .dataframe tbody tr th {\n",
       "        vertical-align: top;\n",
       "    }\n",
       "\n",
       "    .dataframe thead th {\n",
       "        text-align: right;\n",
       "    }\n",
       "</style>\n",
       "<table border=\"1\" class=\"dataframe\">\n",
       "  <thead>\n",
       "    <tr style=\"text-align: right;\">\n",
       "      <th></th>\n",
       "      <th>client_id</th>\n",
       "      <th>event_time</th>\n",
       "      <th>mon</th>\n",
       "      <th>embedding</th>\n",
       "    </tr>\n",
       "  </thead>\n",
       "  <tbody>\n",
       "    <tr>\n",
       "      <th>0</th>\n",
       "      <td>00088f1d5f1d3aec81bec9e3380085c9d644b004638fdf...</td>\n",
       "      <td>2021-12-29 05:44:27.896522</td>\n",
       "      <td>2022-02-28</td>\n",
       "      <td>[0.37322193, -0.19808462, 0.509121, -0.3556997...</td>\n",
       "    </tr>\n",
       "    <tr>\n",
       "      <th>1</th>\n",
       "      <td>000ce17c51f6a193c1f138cd17365587506c5f9502e685...</td>\n",
       "      <td>2021-11-16 13:12:05.414712</td>\n",
       "      <td>2022-02-28</td>\n",
       "      <td>[0.56099665, -0.33282652, 0.71185464, -0.58383...</td>\n",
       "    </tr>\n",
       "    <tr>\n",
       "      <th>2</th>\n",
       "      <td>000dbaa90a072f55e52c07acf8b6ab77b674841b03fba9...</td>\n",
       "      <td>2021-04-30 06:18:59.381658</td>\n",
       "      <td>2022-02-28</td>\n",
       "      <td>[0.25380474, -0.021852743, 0.41790318, -0.3006...</td>\n",
       "    </tr>\n",
       "    <tr>\n",
       "      <th>3</th>\n",
       "      <td>000f4309610cc90124943138fdf6d50a2b5967a9ba79b2...</td>\n",
       "      <td>2021-11-20 12:08:15.119988</td>\n",
       "      <td>2022-02-28</td>\n",
       "      <td>[0.35111684, 0.082568765, 0.3714127, -0.172357...</td>\n",
       "    </tr>\n",
       "    <tr>\n",
       "      <th>4</th>\n",
       "      <td>000fff599dacf53fffcf4663ab370d21921d1988f8cfad...</td>\n",
       "      <td>2021-04-14 15:10:13.392665</td>\n",
       "      <td>2022-02-28</td>\n",
       "      <td>[0.39002457, -0.15838914, 0.46159643, -0.31632...</td>\n",
       "    </tr>\n",
       "  </tbody>\n",
       "</table>\n",
       "</div>\n",
       "    <div class=\"colab-df-buttons\">\n",
       "\n",
       "  <div class=\"colab-df-container\">\n",
       "    <button class=\"colab-df-convert\" onclick=\"convertToInteractive('df-e92023de-0baf-4867-8b58-4d7c89330274')\"\n",
       "            title=\"Convert this dataframe to an interactive table.\"\n",
       "            style=\"display:none;\">\n",
       "\n",
       "  <svg xmlns=\"http://www.w3.org/2000/svg\" height=\"24px\" viewBox=\"0 -960 960 960\">\n",
       "    <path d=\"M120-120v-720h720v720H120Zm60-500h600v-160H180v160Zm220 220h160v-160H400v160Zm0 220h160v-160H400v160ZM180-400h160v-160H180v160Zm440 0h160v-160H620v160ZM180-180h160v-160H180v160Zm440 0h160v-160H620v160Z\"/>\n",
       "  </svg>\n",
       "    </button>\n",
       "\n",
       "  <style>\n",
       "    .colab-df-container {\n",
       "      display:flex;\n",
       "      gap: 12px;\n",
       "    }\n",
       "\n",
       "    .colab-df-convert {\n",
       "      background-color: #E8F0FE;\n",
       "      border: none;\n",
       "      border-radius: 50%;\n",
       "      cursor: pointer;\n",
       "      display: none;\n",
       "      fill: #1967D2;\n",
       "      height: 32px;\n",
       "      padding: 0 0 0 0;\n",
       "      width: 32px;\n",
       "    }\n",
       "\n",
       "    .colab-df-convert:hover {\n",
       "      background-color: #E2EBFA;\n",
       "      box-shadow: 0px 1px 2px rgba(60, 64, 67, 0.3), 0px 1px 3px 1px rgba(60, 64, 67, 0.15);\n",
       "      fill: #174EA6;\n",
       "    }\n",
       "\n",
       "    .colab-df-buttons div {\n",
       "      margin-bottom: 4px;\n",
       "    }\n",
       "\n",
       "    [theme=dark] .colab-df-convert {\n",
       "      background-color: #3B4455;\n",
       "      fill: #D2E3FC;\n",
       "    }\n",
       "\n",
       "    [theme=dark] .colab-df-convert:hover {\n",
       "      background-color: #434B5C;\n",
       "      box-shadow: 0px 1px 3px 1px rgba(0, 0, 0, 0.15);\n",
       "      filter: drop-shadow(0px 1px 2px rgba(0, 0, 0, 0.3));\n",
       "      fill: #FFFFFF;\n",
       "    }\n",
       "  </style>\n",
       "\n",
       "    <script>\n",
       "      const buttonEl =\n",
       "        document.querySelector('#df-e92023de-0baf-4867-8b58-4d7c89330274 button.colab-df-convert');\n",
       "      buttonEl.style.display =\n",
       "        google.colab.kernel.accessAllowed ? 'block' : 'none';\n",
       "\n",
       "      async function convertToInteractive(key) {\n",
       "        const element = document.querySelector('#df-e92023de-0baf-4867-8b58-4d7c89330274');\n",
       "        const dataTable =\n",
       "          await google.colab.kernel.invokeFunction('convertToInteractive',\n",
       "                                                    [key], {});\n",
       "        if (!dataTable) return;\n",
       "\n",
       "        const docLinkHtml = 'Like what you see? Visit the ' +\n",
       "          '<a target=\"_blank\" href=https://colab.research.google.com/notebooks/data_table.ipynb>data table notebook</a>'\n",
       "          + ' to learn more about interactive tables.';\n",
       "        element.innerHTML = '';\n",
       "        dataTable['output_type'] = 'display_data';\n",
       "        await google.colab.output.renderOutput(dataTable, element);\n",
       "        const docLink = document.createElement('div');\n",
       "        docLink.innerHTML = docLinkHtml;\n",
       "        element.appendChild(docLink);\n",
       "      }\n",
       "    </script>\n",
       "  </div>\n",
       "\n",
       "\n",
       "<div id=\"df-721b9c7f-c8be-4e06-bf01-6580b2deadf5\">\n",
       "  <button class=\"colab-df-quickchart\" onclick=\"quickchart('df-721b9c7f-c8be-4e06-bf01-6580b2deadf5')\"\n",
       "            title=\"Suggest charts\"\n",
       "            style=\"display:none;\">\n",
       "\n",
       "<svg xmlns=\"http://www.w3.org/2000/svg\" height=\"24px\"viewBox=\"0 0 24 24\"\n",
       "     width=\"24px\">\n",
       "    <g>\n",
       "        <path d=\"M19 3H5c-1.1 0-2 .9-2 2v14c0 1.1.9 2 2 2h14c1.1 0 2-.9 2-2V5c0-1.1-.9-2-2-2zM9 17H7v-7h2v7zm4 0h-2V7h2v10zm4 0h-2v-4h2v4z\"/>\n",
       "    </g>\n",
       "</svg>\n",
       "  </button>\n",
       "\n",
       "<style>\n",
       "  .colab-df-quickchart {\n",
       "      --bg-color: #E8F0FE;\n",
       "      --fill-color: #1967D2;\n",
       "      --hover-bg-color: #E2EBFA;\n",
       "      --hover-fill-color: #174EA6;\n",
       "      --disabled-fill-color: #AAA;\n",
       "      --disabled-bg-color: #DDD;\n",
       "  }\n",
       "\n",
       "  [theme=dark] .colab-df-quickchart {\n",
       "      --bg-color: #3B4455;\n",
       "      --fill-color: #D2E3FC;\n",
       "      --hover-bg-color: #434B5C;\n",
       "      --hover-fill-color: #FFFFFF;\n",
       "      --disabled-bg-color: #3B4455;\n",
       "      --disabled-fill-color: #666;\n",
       "  }\n",
       "\n",
       "  .colab-df-quickchart {\n",
       "    background-color: var(--bg-color);\n",
       "    border: none;\n",
       "    border-radius: 50%;\n",
       "    cursor: pointer;\n",
       "    display: none;\n",
       "    fill: var(--fill-color);\n",
       "    height: 32px;\n",
       "    padding: 0;\n",
       "    width: 32px;\n",
       "  }\n",
       "\n",
       "  .colab-df-quickchart:hover {\n",
       "    background-color: var(--hover-bg-color);\n",
       "    box-shadow: 0 1px 2px rgba(60, 64, 67, 0.3), 0 1px 3px 1px rgba(60, 64, 67, 0.15);\n",
       "    fill: var(--button-hover-fill-color);\n",
       "  }\n",
       "\n",
       "  .colab-df-quickchart-complete:disabled,\n",
       "  .colab-df-quickchart-complete:disabled:hover {\n",
       "    background-color: var(--disabled-bg-color);\n",
       "    fill: var(--disabled-fill-color);\n",
       "    box-shadow: none;\n",
       "  }\n",
       "\n",
       "  .colab-df-spinner {\n",
       "    border: 2px solid var(--fill-color);\n",
       "    border-color: transparent;\n",
       "    border-bottom-color: var(--fill-color);\n",
       "    animation:\n",
       "      spin 1s steps(1) infinite;\n",
       "  }\n",
       "\n",
       "  @keyframes spin {\n",
       "    0% {\n",
       "      border-color: transparent;\n",
       "      border-bottom-color: var(--fill-color);\n",
       "      border-left-color: var(--fill-color);\n",
       "    }\n",
       "    20% {\n",
       "      border-color: transparent;\n",
       "      border-left-color: var(--fill-color);\n",
       "      border-top-color: var(--fill-color);\n",
       "    }\n",
       "    30% {\n",
       "      border-color: transparent;\n",
       "      border-left-color: var(--fill-color);\n",
       "      border-top-color: var(--fill-color);\n",
       "      border-right-color: var(--fill-color);\n",
       "    }\n",
       "    40% {\n",
       "      border-color: transparent;\n",
       "      border-right-color: var(--fill-color);\n",
       "      border-top-color: var(--fill-color);\n",
       "    }\n",
       "    60% {\n",
       "      border-color: transparent;\n",
       "      border-right-color: var(--fill-color);\n",
       "    }\n",
       "    80% {\n",
       "      border-color: transparent;\n",
       "      border-right-color: var(--fill-color);\n",
       "      border-bottom-color: var(--fill-color);\n",
       "    }\n",
       "    90% {\n",
       "      border-color: transparent;\n",
       "      border-bottom-color: var(--fill-color);\n",
       "    }\n",
       "  }\n",
       "</style>\n",
       "\n",
       "  <script>\n",
       "    async function quickchart(key) {\n",
       "      const quickchartButtonEl =\n",
       "        document.querySelector('#' + key + ' button');\n",
       "      quickchartButtonEl.disabled = true;  // To prevent multiple clicks.\n",
       "      quickchartButtonEl.classList.add('colab-df-spinner');\n",
       "      try {\n",
       "        const charts = await google.colab.kernel.invokeFunction(\n",
       "            'suggestCharts', [key], {});\n",
       "      } catch (error) {\n",
       "        console.error('Error during call to suggestCharts:', error);\n",
       "      }\n",
       "      quickchartButtonEl.classList.remove('colab-df-spinner');\n",
       "      quickchartButtonEl.classList.add('colab-df-quickchart-complete');\n",
       "    }\n",
       "    (() => {\n",
       "      let quickchartButtonEl =\n",
       "        document.querySelector('#df-721b9c7f-c8be-4e06-bf01-6580b2deadf5 button');\n",
       "      quickchartButtonEl.style.display =\n",
       "        google.colab.kernel.accessAllowed ? 'block' : 'none';\n",
       "    })();\n",
       "  </script>\n",
       "</div>\n",
       "    </div>\n",
       "  </div>\n"
      ],
      "text/plain": [
       "                                           client_id  \\\n",
       "0  00088f1d5f1d3aec81bec9e3380085c9d644b004638fdf...   \n",
       "1  000ce17c51f6a193c1f138cd17365587506c5f9502e685...   \n",
       "2  000dbaa90a072f55e52c07acf8b6ab77b674841b03fba9...   \n",
       "3  000f4309610cc90124943138fdf6d50a2b5967a9ba79b2...   \n",
       "4  000fff599dacf53fffcf4663ab370d21921d1988f8cfad...   \n",
       "\n",
       "                  event_time         mon  \\\n",
       "0 2021-12-29 05:44:27.896522  2022-02-28   \n",
       "1 2021-11-16 13:12:05.414712  2022-02-28   \n",
       "2 2021-04-30 06:18:59.381658  2022-02-28   \n",
       "3 2021-11-20 12:08:15.119988  2022-02-28   \n",
       "4 2021-04-14 15:10:13.392665  2022-02-28   \n",
       "\n",
       "                                           embedding  \n",
       "0  [0.37322193, -0.19808462, 0.509121, -0.3556997...  \n",
       "1  [0.56099665, -0.33282652, 0.71185464, -0.58383...  \n",
       "2  [0.25380474, -0.021852743, 0.41790318, -0.3006...  \n",
       "3  [0.35111684, 0.082568765, 0.3714127, -0.172357...  \n",
       "4  [0.39002457, -0.15838914, 0.46159643, -0.31632...  "
      ]
     },
     "execution_count": 5,
     "metadata": {},
     "output_type": "execute_result"
    }
   ],
   "source": [
    "dialog_last.head()"
   ]
  },
  {
   "cell_type": "code",
   "execution_count": 4,
   "metadata": {
    "executionInfo": {
     "elapsed": 252,
     "status": "ok",
     "timestamp": 1737911226782,
     "user": {
      "displayName": "Eugene O'Leary",
      "userId": "15546787906852777125"
     },
     "user_tz": -180
    },
    "id": "SO5gW62hakwL"
   },
   "outputs": [],
   "source": [
    "emb_size = 768\n",
    "emb_names = [f\"v_{i}\" for i in range(emb_size)]"
   ]
  },
  {
   "cell_type": "code",
   "execution_count": 17,
   "metadata": {
    "colab": {
     "base_uri": "https://localhost:8080/",
     "height": 49,
     "referenced_widgets": [
      "1e35e54da40443de9f05ef6f935c1480",
      "f2b81321de484c90b19725e3b1fc782e",
      "106cafd1e6dc4c58af44513127475002",
      "fb6b6a4592b04616a7a41eacacf87e86",
      "187b6b2e61a84454a189a844a2cd371a",
      "e93fa529eae04576b8f45551a12409fa",
      "4051e3fff4b84bbf99d0b693978a2099",
      "f7f7fb781b394109a6d812c1f9ef509f",
      "9f5c3bf9003f465ea6db2dad73b0a9bd",
      "7f9241592e2045e8b0dd727d5880f037",
      "aa9e08f607d6420294e8e771ce28cc5a"
     ]
    },
    "executionInfo": {
     "elapsed": 313344,
     "status": "ok",
     "timestamp": 1737910803321,
     "user": {
      "displayName": "Eugene O'Leary",
      "userId": "15546787906852777125"
     },
     "user_tz": -180
    },
    "id": "pLqtYfeTcJtV",
    "outputId": "b4d2fc83-67ef-406b-af61-695189cceff5"
   },
   "outputs": [
    {
     "data": {
      "application/vnd.jupyter.widget-view+json": {
       "model_id": "1e35e54da40443de9f05ef6f935c1480",
       "version_major": 2,
       "version_minor": 0
      },
      "text/plain": [
       "  0%|          | 0/12 [00:00<?, ?it/s]"
      ]
     },
     "metadata": {},
     "output_type": "display_data"
    }
   ],
   "source": [
    "for g, gp in tqdm(dialog_last.groupby('mon'), total=12):\n",
    "    dialog_last.loc[gp.index, emb_names] = pd.DataFrame(gp['embedding'].tolist()).to_numpy(copy=True)"
   ]
  },
  {
   "cell_type": "code",
   "execution_count": 13,
   "metadata": {
    "colab": {
     "base_uri": "https://localhost:8080/",
     "height": 161
    },
    "executionInfo": {
     "elapsed": 209,
     "status": "ok",
     "timestamp": 1737910322170,
     "user": {
      "displayName": "Eugene O'Leary",
      "userId": "15546787906852777125"
     },
     "user_tz": -180
    },
    "id": "VpKye8bohJMt",
    "outputId": "8c0a6883-d6c2-4cd0-a86e-d485e4902f36"
   },
   "outputs": [
    {
     "data": {
      "application/vnd.google.colaboratory.intrinsic+json": {
       "type": "dataframe"
      },
      "text/html": [
       "\n",
       "  <div id=\"df-564765d6-d76b-41bf-942f-8a5fd7d7cb9e\" class=\"colab-df-container\">\n",
       "    <div>\n",
       "<style scoped>\n",
       "    .dataframe tbody tr th:only-of-type {\n",
       "        vertical-align: middle;\n",
       "    }\n",
       "\n",
       "    .dataframe tbody tr th {\n",
       "        vertical-align: top;\n",
       "    }\n",
       "\n",
       "    .dataframe thead th {\n",
       "        text-align: right;\n",
       "    }\n",
       "</style>\n",
       "<table border=\"1\" class=\"dataframe\">\n",
       "  <thead>\n",
       "    <tr style=\"text-align: right;\">\n",
       "      <th></th>\n",
       "      <th>0</th>\n",
       "      <th>1</th>\n",
       "      <th>2</th>\n",
       "      <th>3</th>\n",
       "      <th>4</th>\n",
       "      <th>5</th>\n",
       "      <th>6</th>\n",
       "      <th>7</th>\n",
       "      <th>8</th>\n",
       "      <th>9</th>\n",
       "      <th>...</th>\n",
       "      <th>758</th>\n",
       "      <th>759</th>\n",
       "      <th>760</th>\n",
       "      <th>761</th>\n",
       "      <th>762</th>\n",
       "      <th>763</th>\n",
       "      <th>764</th>\n",
       "      <th>765</th>\n",
       "      <th>766</th>\n",
       "      <th>767</th>\n",
       "    </tr>\n",
       "  </thead>\n",
       "  <tbody>\n",
       "    <tr>\n",
       "      <th>0</th>\n",
       "      <td>0.373222</td>\n",
       "      <td>-0.198085</td>\n",
       "      <td>0.509121</td>\n",
       "      <td>-0.355700</td>\n",
       "      <td>-0.275493</td>\n",
       "      <td>0.470878</td>\n",
       "      <td>0.255409</td>\n",
       "      <td>0.233914</td>\n",
       "      <td>-0.291920</td>\n",
       "      <td>0.237141</td>\n",
       "      <td>...</td>\n",
       "      <td>0.481588</td>\n",
       "      <td>0.383540</td>\n",
       "      <td>0.419249</td>\n",
       "      <td>0.978951</td>\n",
       "      <td>0.501454</td>\n",
       "      <td>0.044611</td>\n",
       "      <td>0.348542</td>\n",
       "      <td>-0.228381</td>\n",
       "      <td>0.498149</td>\n",
       "      <td>0.330902</td>\n",
       "    </tr>\n",
       "    <tr>\n",
       "      <th>1</th>\n",
       "      <td>0.560997</td>\n",
       "      <td>-0.332827</td>\n",
       "      <td>0.711855</td>\n",
       "      <td>-0.583839</td>\n",
       "      <td>-0.343269</td>\n",
       "      <td>0.715845</td>\n",
       "      <td>0.597566</td>\n",
       "      <td>0.558768</td>\n",
       "      <td>-0.419421</td>\n",
       "      <td>0.529774</td>\n",
       "      <td>...</td>\n",
       "      <td>0.700441</td>\n",
       "      <td>0.508623</td>\n",
       "      <td>0.432026</td>\n",
       "      <td>0.943314</td>\n",
       "      <td>0.620523</td>\n",
       "      <td>0.428605</td>\n",
       "      <td>0.403807</td>\n",
       "      <td>-0.481363</td>\n",
       "      <td>0.658970</td>\n",
       "      <td>0.504655</td>\n",
       "    </tr>\n",
       "  </tbody>\n",
       "</table>\n",
       "<p>2 rows × 768 columns</p>\n",
       "</div>\n",
       "    <div class=\"colab-df-buttons\">\n",
       "\n",
       "  <div class=\"colab-df-container\">\n",
       "    <button class=\"colab-df-convert\" onclick=\"convertToInteractive('df-564765d6-d76b-41bf-942f-8a5fd7d7cb9e')\"\n",
       "            title=\"Convert this dataframe to an interactive table.\"\n",
       "            style=\"display:none;\">\n",
       "\n",
       "  <svg xmlns=\"http://www.w3.org/2000/svg\" height=\"24px\" viewBox=\"0 -960 960 960\">\n",
       "    <path d=\"M120-120v-720h720v720H120Zm60-500h600v-160H180v160Zm220 220h160v-160H400v160Zm0 220h160v-160H400v160ZM180-400h160v-160H180v160Zm440 0h160v-160H620v160ZM180-180h160v-160H180v160Zm440 0h160v-160H620v160Z\"/>\n",
       "  </svg>\n",
       "    </button>\n",
       "\n",
       "  <style>\n",
       "    .colab-df-container {\n",
       "      display:flex;\n",
       "      gap: 12px;\n",
       "    }\n",
       "\n",
       "    .colab-df-convert {\n",
       "      background-color: #E8F0FE;\n",
       "      border: none;\n",
       "      border-radius: 50%;\n",
       "      cursor: pointer;\n",
       "      display: none;\n",
       "      fill: #1967D2;\n",
       "      height: 32px;\n",
       "      padding: 0 0 0 0;\n",
       "      width: 32px;\n",
       "    }\n",
       "\n",
       "    .colab-df-convert:hover {\n",
       "      background-color: #E2EBFA;\n",
       "      box-shadow: 0px 1px 2px rgba(60, 64, 67, 0.3), 0px 1px 3px 1px rgba(60, 64, 67, 0.15);\n",
       "      fill: #174EA6;\n",
       "    }\n",
       "\n",
       "    .colab-df-buttons div {\n",
       "      margin-bottom: 4px;\n",
       "    }\n",
       "\n",
       "    [theme=dark] .colab-df-convert {\n",
       "      background-color: #3B4455;\n",
       "      fill: #D2E3FC;\n",
       "    }\n",
       "\n",
       "    [theme=dark] .colab-df-convert:hover {\n",
       "      background-color: #434B5C;\n",
       "      box-shadow: 0px 1px 3px 1px rgba(0, 0, 0, 0.15);\n",
       "      filter: drop-shadow(0px 1px 2px rgba(0, 0, 0, 0.3));\n",
       "      fill: #FFFFFF;\n",
       "    }\n",
       "  </style>\n",
       "\n",
       "    <script>\n",
       "      const buttonEl =\n",
       "        document.querySelector('#df-564765d6-d76b-41bf-942f-8a5fd7d7cb9e button.colab-df-convert');\n",
       "      buttonEl.style.display =\n",
       "        google.colab.kernel.accessAllowed ? 'block' : 'none';\n",
       "\n",
       "      async function convertToInteractive(key) {\n",
       "        const element = document.querySelector('#df-564765d6-d76b-41bf-942f-8a5fd7d7cb9e');\n",
       "        const dataTable =\n",
       "          await google.colab.kernel.invokeFunction('convertToInteractive',\n",
       "                                                    [key], {});\n",
       "        if (!dataTable) return;\n",
       "\n",
       "        const docLinkHtml = 'Like what you see? Visit the ' +\n",
       "          '<a target=\"_blank\" href=https://colab.research.google.com/notebooks/data_table.ipynb>data table notebook</a>'\n",
       "          + ' to learn more about interactive tables.';\n",
       "        element.innerHTML = '';\n",
       "        dataTable['output_type'] = 'display_data';\n",
       "        await google.colab.output.renderOutput(dataTable, element);\n",
       "        const docLink = document.createElement('div');\n",
       "        docLink.innerHTML = docLinkHtml;\n",
       "        element.appendChild(docLink);\n",
       "      }\n",
       "    </script>\n",
       "  </div>\n",
       "\n",
       "\n",
       "<div id=\"df-b6e6abd3-4da4-4e22-9624-cfe2c005119a\">\n",
       "  <button class=\"colab-df-quickchart\" onclick=\"quickchart('df-b6e6abd3-4da4-4e22-9624-cfe2c005119a')\"\n",
       "            title=\"Suggest charts\"\n",
       "            style=\"display:none;\">\n",
       "\n",
       "<svg xmlns=\"http://www.w3.org/2000/svg\" height=\"24px\"viewBox=\"0 0 24 24\"\n",
       "     width=\"24px\">\n",
       "    <g>\n",
       "        <path d=\"M19 3H5c-1.1 0-2 .9-2 2v14c0 1.1.9 2 2 2h14c1.1 0 2-.9 2-2V5c0-1.1-.9-2-2-2zM9 17H7v-7h2v7zm4 0h-2V7h2v10zm4 0h-2v-4h2v4z\"/>\n",
       "    </g>\n",
       "</svg>\n",
       "  </button>\n",
       "\n",
       "<style>\n",
       "  .colab-df-quickchart {\n",
       "      --bg-color: #E8F0FE;\n",
       "      --fill-color: #1967D2;\n",
       "      --hover-bg-color: #E2EBFA;\n",
       "      --hover-fill-color: #174EA6;\n",
       "      --disabled-fill-color: #AAA;\n",
       "      --disabled-bg-color: #DDD;\n",
       "  }\n",
       "\n",
       "  [theme=dark] .colab-df-quickchart {\n",
       "      --bg-color: #3B4455;\n",
       "      --fill-color: #D2E3FC;\n",
       "      --hover-bg-color: #434B5C;\n",
       "      --hover-fill-color: #FFFFFF;\n",
       "      --disabled-bg-color: #3B4455;\n",
       "      --disabled-fill-color: #666;\n",
       "  }\n",
       "\n",
       "  .colab-df-quickchart {\n",
       "    background-color: var(--bg-color);\n",
       "    border: none;\n",
       "    border-radius: 50%;\n",
       "    cursor: pointer;\n",
       "    display: none;\n",
       "    fill: var(--fill-color);\n",
       "    height: 32px;\n",
       "    padding: 0;\n",
       "    width: 32px;\n",
       "  }\n",
       "\n",
       "  .colab-df-quickchart:hover {\n",
       "    background-color: var(--hover-bg-color);\n",
       "    box-shadow: 0 1px 2px rgba(60, 64, 67, 0.3), 0 1px 3px 1px rgba(60, 64, 67, 0.15);\n",
       "    fill: var(--button-hover-fill-color);\n",
       "  }\n",
       "\n",
       "  .colab-df-quickchart-complete:disabled,\n",
       "  .colab-df-quickchart-complete:disabled:hover {\n",
       "    background-color: var(--disabled-bg-color);\n",
       "    fill: var(--disabled-fill-color);\n",
       "    box-shadow: none;\n",
       "  }\n",
       "\n",
       "  .colab-df-spinner {\n",
       "    border: 2px solid var(--fill-color);\n",
       "    border-color: transparent;\n",
       "    border-bottom-color: var(--fill-color);\n",
       "    animation:\n",
       "      spin 1s steps(1) infinite;\n",
       "  }\n",
       "\n",
       "  @keyframes spin {\n",
       "    0% {\n",
       "      border-color: transparent;\n",
       "      border-bottom-color: var(--fill-color);\n",
       "      border-left-color: var(--fill-color);\n",
       "    }\n",
       "    20% {\n",
       "      border-color: transparent;\n",
       "      border-left-color: var(--fill-color);\n",
       "      border-top-color: var(--fill-color);\n",
       "    }\n",
       "    30% {\n",
       "      border-color: transparent;\n",
       "      border-left-color: var(--fill-color);\n",
       "      border-top-color: var(--fill-color);\n",
       "      border-right-color: var(--fill-color);\n",
       "    }\n",
       "    40% {\n",
       "      border-color: transparent;\n",
       "      border-right-color: var(--fill-color);\n",
       "      border-top-color: var(--fill-color);\n",
       "    }\n",
       "    60% {\n",
       "      border-color: transparent;\n",
       "      border-right-color: var(--fill-color);\n",
       "    }\n",
       "    80% {\n",
       "      border-color: transparent;\n",
       "      border-right-color: var(--fill-color);\n",
       "      border-bottom-color: var(--fill-color);\n",
       "    }\n",
       "    90% {\n",
       "      border-color: transparent;\n",
       "      border-bottom-color: var(--fill-color);\n",
       "    }\n",
       "  }\n",
       "</style>\n",
       "\n",
       "  <script>\n",
       "    async function quickchart(key) {\n",
       "      const quickchartButtonEl =\n",
       "        document.querySelector('#' + key + ' button');\n",
       "      quickchartButtonEl.disabled = true;  // To prevent multiple clicks.\n",
       "      quickchartButtonEl.classList.add('colab-df-spinner');\n",
       "      try {\n",
       "        const charts = await google.colab.kernel.invokeFunction(\n",
       "            'suggestCharts', [key], {});\n",
       "      } catch (error) {\n",
       "        console.error('Error during call to suggestCharts:', error);\n",
       "      }\n",
       "      quickchartButtonEl.classList.remove('colab-df-spinner');\n",
       "      quickchartButtonEl.classList.add('colab-df-quickchart-complete');\n",
       "    }\n",
       "    (() => {\n",
       "      let quickchartButtonEl =\n",
       "        document.querySelector('#df-b6e6abd3-4da4-4e22-9624-cfe2c005119a button');\n",
       "      quickchartButtonEl.style.display =\n",
       "        google.colab.kernel.accessAllowed ? 'block' : 'none';\n",
       "    })();\n",
       "  </script>\n",
       "</div>\n",
       "    </div>\n",
       "  </div>\n"
      ],
      "text/plain": [
       "        0         1         2         3         4         5         6    \\\n",
       "0  0.373222 -0.198085  0.509121 -0.355700 -0.275493  0.470878  0.255409   \n",
       "1  0.560997 -0.332827  0.711855 -0.583839 -0.343269  0.715845  0.597566   \n",
       "\n",
       "        7         8         9    ...       758       759       760       761  \\\n",
       "0  0.233914 -0.291920  0.237141  ...  0.481588  0.383540  0.419249  0.978951   \n",
       "1  0.558768 -0.419421  0.529774  ...  0.700441  0.508623  0.432026  0.943314   \n",
       "\n",
       "        762       763       764       765       766       767  \n",
       "0  0.501454  0.044611  0.348542 -0.228381  0.498149  0.330902  \n",
       "1  0.620523  0.428605  0.403807 -0.481363  0.658970  0.504655  \n",
       "\n",
       "[2 rows x 768 columns]"
      ]
     },
     "execution_count": 13,
     "metadata": {},
     "output_type": "execute_result"
    }
   ],
   "source": [
    "pd.DataFrame(dialog_last.iloc[:2]['embedding'].tolist())"
   ]
  },
  {
   "cell_type": "code",
   "execution_count": 18,
   "metadata": {
    "executionInfo": {
     "elapsed": 32016,
     "status": "ok",
     "timestamp": 1737910835335,
     "user": {
      "displayName": "Eugene O'Leary",
      "userId": "15546787906852777125"
     },
     "user_tz": -180
    },
    "id": "Yh4u_NLYem2z"
   },
   "outputs": [],
   "source": [
    "dialog_last\\\n",
    "    .drop(columns=['embedding'])\\\n",
    "    .to_parquet(f'drive/MyDrive/SberIndexTest/data/preproc/dialog_agg_768.parquet')"
   ]
  },
  {
   "cell_type": "code",
   "execution_count": 19,
   "metadata": {
    "colab": {
     "base_uri": "https://localhost:8080/"
    },
    "executionInfo": {
     "elapsed": 294,
     "status": "ok",
     "timestamp": 1737910836637,
     "user": {
      "displayName": "Eugene O'Leary",
      "userId": "15546787906852777125"
     },
     "user_tz": -180
    },
    "id": "-nsRr2BhicTe",
    "outputId": "815d3c63-6933-45ef-ccbd-711b9c236a70"
   },
   "outputs": [
    {
     "data": {
      "text/plain": [
       "142"
      ]
     },
     "execution_count": 19,
     "metadata": {},
     "output_type": "execute_result"
    }
   ],
   "source": [
    "import gc\n",
    "gc.collect()"
   ]
  },
  {
   "cell_type": "code",
   "execution_count": 21,
   "metadata": {
    "executionInfo": {
     "elapsed": 14724,
     "status": "ok",
     "timestamp": 1737912702992,
     "user": {
      "displayName": "Eugene O'Leary",
      "userId": "15546787906852777125"
     },
     "user_tz": -180
    },
    "id": "0fJvM4j4fQ17"
   },
   "outputs": [],
   "source": [
    "dial_full = pd.read_parquet(f'drive/MyDrive/SberIndexTest/data/preproc/dialog_agg_768.parquet')"
   ]
  },
  {
   "cell_type": "markdown",
   "metadata": {},
   "source": [
    "Apply principal components analysis to reduce embedding dimensionality to 8"
   ]
  },
  {
   "cell_type": "code",
   "execution_count": 6,
   "metadata": {
    "executionInfo": {
     "elapsed": 1617,
     "status": "ok",
     "timestamp": 1737911245117,
     "user": {
      "displayName": "Eugene O'Leary",
      "userId": "15546787906852777125"
     },
     "user_tz": -180
    },
    "id": "XaBfhuTzciTT"
   },
   "outputs": [],
   "source": [
    "from sklearn.decomposition import PCA"
   ]
  },
  {
   "cell_type": "code",
   "execution_count": 7,
   "metadata": {
    "executionInfo": {
     "elapsed": 2,
     "status": "ok",
     "timestamp": 1737911245118,
     "user": {
      "displayName": "Eugene O'Leary",
      "userId": "15546787906852777125"
     },
     "user_tz": -180
    },
    "id": "IRR8hrpIfiqO"
   },
   "outputs": [],
   "source": [
    "n_pc = 8\n",
    "pca = PCA(n_components=n_pc, random_state=42)"
   ]
  },
  {
   "cell_type": "code",
   "execution_count": 8,
   "metadata": {
    "executionInfo": {
     "elapsed": 5,
     "status": "ok",
     "timestamp": 1737911245543,
     "user": {
      "displayName": "Eugene O'Leary",
      "userId": "15546787906852777125"
     },
     "user_tz": -180
    },
    "id": "dYaq9R5ri-4Z"
   },
   "outputs": [],
   "source": [
    "emb_names_rdcd = [f\"v_{i}\" for i in range(n_pc)]"
   ]
  },
  {
   "cell_type": "code",
   "execution_count": 11,
   "metadata": {
    "executionInfo": {
     "elapsed": 360,
     "status": "ok",
     "timestamp": 1737911298433,
     "user": {
      "displayName": "Eugene O'Leary",
      "userId": "15546787906852777125"
     },
     "user_tz": -180
    },
    "id": "bW8XuEoJgGVf"
   },
   "outputs": [],
   "source": [
    "dial_rdcd = dial_full[['client_id', 'mon']].copy()"
   ]
  },
  {
   "cell_type": "code",
   "execution_count": 12,
   "metadata": {
    "executionInfo": {
     "elapsed": 11002,
     "status": "ok",
     "timestamp": 1737911310262,
     "user": {
      "displayName": "Eugene O'Leary",
      "userId": "15546787906852777125"
     },
     "user_tz": -180
    },
    "id": "qO44W9FQfqgr"
   },
   "outputs": [],
   "source": [
    "dial_rdcd[emb_names_rdcd] = pca.fit_transform(dial_full[emb_names])"
   ]
  },
  {
   "cell_type": "code",
   "execution_count": 13,
   "metadata": {
    "executionInfo": {
     "elapsed": 3217,
     "status": "ok",
     "timestamp": 1737911349930,
     "user": {
      "displayName": "Eugene O'Leary",
      "userId": "15546787906852777125"
     },
     "user_tz": -180
    },
    "id": "Nxwop9u6foUE"
   },
   "outputs": [],
   "source": [
    "dial_rdcd.to_parquet(f'drive/MyDrive/SberIndexTest/data/preproc/dialog_agg_8.parquet')"
   ]
  },
  {
   "cell_type": "code",
   "execution_count": null,
   "metadata": {},
   "outputs": [],
   "source": []
  }
 ],
 "metadata": {
  "colab": {
   "authorship_tag": "ABX9TyMbxZkDO2fNXXM+a7t9GsyI",
   "collapsed_sections": [
    "QgjidZl1YiuR",
    "AwPHwWWj1HS2"
   ],
   "provenance": [],
   "toc_visible": true
  },
  "kernelspec": {
   "display_name": "Python 3",
   "language": "python",
   "name": "python3"
  },
  "language_info": {
   "codemirror_mode": {
    "name": "ipython",
    "version": 3
   },
   "file_extension": ".py",
   "mimetype": "text/x-python",
   "name": "python",
   "nbconvert_exporter": "python",
   "pygments_lexer": "ipython3",
   "version": "3.7.10"
  },
  "widgets": {
   "application/vnd.jupyter.widget-state+json": {
    "0abf3511d8ef4b4998631fe39dcb38e5": {
     "model_module": "@jupyter-widgets/base",
     "model_module_version": "1.2.0",
     "model_name": "LayoutModel",
     "state": {
      "_model_module": "@jupyter-widgets/base",
      "_model_module_version": "1.2.0",
      "_model_name": "LayoutModel",
      "_view_count": null,
      "_view_module": "@jupyter-widgets/base",
      "_view_module_version": "1.2.0",
      "_view_name": "LayoutView",
      "align_content": null,
      "align_items": null,
      "align_self": null,
      "border": null,
      "bottom": null,
      "display": null,
      "flex": null,
      "flex_flow": null,
      "grid_area": null,
      "grid_auto_columns": null,
      "grid_auto_flow": null,
      "grid_auto_rows": null,
      "grid_column": null,
      "grid_gap": null,
      "grid_row": null,
      "grid_template_areas": null,
      "grid_template_columns": null,
      "grid_template_rows": null,
      "height": null,
      "justify_content": null,
      "justify_items": null,
      "left": null,
      "margin": null,
      "max_height": null,
      "max_width": null,
      "min_height": null,
      "min_width": null,
      "object_fit": null,
      "object_position": null,
      "order": null,
      "overflow": null,
      "overflow_x": null,
      "overflow_y": null,
      "padding": null,
      "right": null,
      "top": null,
      "visibility": null,
      "width": null
     }
    },
    "0e6f3cf1debe44338951cac1d1a31a8c": {
     "model_module": "@jupyter-widgets/controls",
     "model_module_version": "1.5.0",
     "model_name": "DescriptionStyleModel",
     "state": {
      "_model_module": "@jupyter-widgets/controls",
      "_model_module_version": "1.5.0",
      "_model_name": "DescriptionStyleModel",
      "_view_count": null,
      "_view_module": "@jupyter-widgets/base",
      "_view_module_version": "1.2.0",
      "_view_name": "StyleView",
      "description_width": ""
     }
    },
    "1a00a5a62ef3475eb8438be8743f1758": {
     "model_module": "@jupyter-widgets/controls",
     "model_module_version": "1.5.0",
     "model_name": "FloatProgressModel",
     "state": {
      "_dom_classes": [],
      "_model_module": "@jupyter-widgets/controls",
      "_model_module_version": "1.5.0",
      "_model_name": "FloatProgressModel",
      "_view_count": null,
      "_view_module": "@jupyter-widgets/controls",
      "_view_module_version": "1.5.0",
      "_view_name": "ProgressView",
      "bar_style": "success",
      "description": "",
      "description_tooltip": null,
      "layout": "IPY_MODEL_79008c87971c422a843eb9238afba95c",
      "max": 1968727441,
      "min": 0,
      "orientation": "horizontal",
      "style": "IPY_MODEL_af9261f1c2b94d78a3e9fed0cb767597",
      "value": 1968727441
     }
    },
    "1c13a491c2354b2ab10d064a8dea06f9": {
     "model_module": "@jupyter-widgets/base",
     "model_module_version": "1.2.0",
     "model_name": "LayoutModel",
     "state": {
      "_model_module": "@jupyter-widgets/base",
      "_model_module_version": "1.2.0",
      "_model_name": "LayoutModel",
      "_view_count": null,
      "_view_module": "@jupyter-widgets/base",
      "_view_module_version": "1.2.0",
      "_view_name": "LayoutView",
      "align_content": null,
      "align_items": null,
      "align_self": null,
      "border": null,
      "bottom": null,
      "display": null,
      "flex": null,
      "flex_flow": null,
      "grid_area": null,
      "grid_auto_columns": null,
      "grid_auto_flow": null,
      "grid_auto_rows": null,
      "grid_column": null,
      "grid_gap": null,
      "grid_row": null,
      "grid_template_areas": null,
      "grid_template_columns": null,
      "grid_template_rows": null,
      "height": null,
      "justify_content": null,
      "justify_items": null,
      "left": null,
      "margin": null,
      "max_height": null,
      "max_width": null,
      "min_height": null,
      "min_width": null,
      "object_fit": null,
      "object_position": null,
      "order": null,
      "overflow": null,
      "overflow_x": null,
      "overflow_y": null,
      "padding": null,
      "right": null,
      "top": null,
      "visibility": null,
      "width": null
     }
    },
    "2587358146e04676806ee0c459430c0e": {
     "model_module": "@jupyter-widgets/base",
     "model_module_version": "1.2.0",
     "model_name": "LayoutModel",
     "state": {
      "_model_module": "@jupyter-widgets/base",
      "_model_module_version": "1.2.0",
      "_model_name": "LayoutModel",
      "_view_count": null,
      "_view_module": "@jupyter-widgets/base",
      "_view_module_version": "1.2.0",
      "_view_name": "LayoutView",
      "align_content": null,
      "align_items": null,
      "align_self": null,
      "border": null,
      "bottom": null,
      "display": null,
      "flex": null,
      "flex_flow": null,
      "grid_area": null,
      "grid_auto_columns": null,
      "grid_auto_flow": null,
      "grid_auto_rows": null,
      "grid_column": null,
      "grid_gap": null,
      "grid_row": null,
      "grid_template_areas": null,
      "grid_template_columns": null,
      "grid_template_rows": null,
      "height": null,
      "justify_content": null,
      "justify_items": null,
      "left": null,
      "margin": null,
      "max_height": null,
      "max_width": null,
      "min_height": null,
      "min_width": null,
      "object_fit": null,
      "object_position": null,
      "order": null,
      "overflow": null,
      "overflow_x": null,
      "overflow_y": null,
      "padding": null,
      "right": null,
      "top": null,
      "visibility": null,
      "width": null
     }
    },
    "2d8d2e73039844ac8949bb7f8fdd4d48": {
     "model_module": "@jupyter-widgets/base",
     "model_module_version": "1.2.0",
     "model_name": "LayoutModel",
     "state": {
      "_model_module": "@jupyter-widgets/base",
      "_model_module_version": "1.2.0",
      "_model_name": "LayoutModel",
      "_view_count": null,
      "_view_module": "@jupyter-widgets/base",
      "_view_module_version": "1.2.0",
      "_view_name": "LayoutView",
      "align_content": null,
      "align_items": null,
      "align_self": null,
      "border": null,
      "bottom": null,
      "display": null,
      "flex": null,
      "flex_flow": null,
      "grid_area": null,
      "grid_auto_columns": null,
      "grid_auto_flow": null,
      "grid_auto_rows": null,
      "grid_column": null,
      "grid_gap": null,
      "grid_row": null,
      "grid_template_areas": null,
      "grid_template_columns": null,
      "grid_template_rows": null,
      "height": null,
      "justify_content": null,
      "justify_items": null,
      "left": null,
      "margin": null,
      "max_height": null,
      "max_width": null,
      "min_height": null,
      "min_width": null,
      "object_fit": null,
      "object_position": null,
      "order": null,
      "overflow": null,
      "overflow_x": null,
      "overflow_y": null,
      "padding": null,
      "right": null,
      "top": null,
      "visibility": null,
      "width": null
     }
    },
    "32f838a079ac49d3b8289c832807798f": {
     "model_module": "@jupyter-widgets/base",
     "model_module_version": "1.2.0",
     "model_name": "LayoutModel",
     "state": {
      "_model_module": "@jupyter-widgets/base",
      "_model_module_version": "1.2.0",
      "_model_name": "LayoutModel",
      "_view_count": null,
      "_view_module": "@jupyter-widgets/base",
      "_view_module_version": "1.2.0",
      "_view_name": "LayoutView",
      "align_content": null,
      "align_items": null,
      "align_self": null,
      "border": null,
      "bottom": null,
      "display": null,
      "flex": null,
      "flex_flow": null,
      "grid_area": null,
      "grid_auto_columns": null,
      "grid_auto_flow": null,
      "grid_auto_rows": null,
      "grid_column": null,
      "grid_gap": null,
      "grid_row": null,
      "grid_template_areas": null,
      "grid_template_columns": null,
      "grid_template_rows": null,
      "height": null,
      "justify_content": null,
      "justify_items": null,
      "left": null,
      "margin": null,
      "max_height": null,
      "max_width": null,
      "min_height": null,
      "min_width": null,
      "object_fit": null,
      "object_position": null,
      "order": null,
      "overflow": null,
      "overflow_x": null,
      "overflow_y": null,
      "padding": null,
      "right": null,
      "top": null,
      "visibility": null,
      "width": null
     }
    },
    "33b48fc1ef0d40d69062e91aed648b60": {
     "model_module": "@jupyter-widgets/base",
     "model_module_version": "1.2.0",
     "model_name": "LayoutModel",
     "state": {
      "_model_module": "@jupyter-widgets/base",
      "_model_module_version": "1.2.0",
      "_model_name": "LayoutModel",
      "_view_count": null,
      "_view_module": "@jupyter-widgets/base",
      "_view_module_version": "1.2.0",
      "_view_name": "LayoutView",
      "align_content": null,
      "align_items": null,
      "align_self": null,
      "border": null,
      "bottom": null,
      "display": null,
      "flex": null,
      "flex_flow": null,
      "grid_area": null,
      "grid_auto_columns": null,
      "grid_auto_flow": null,
      "grid_auto_rows": null,
      "grid_column": null,
      "grid_gap": null,
      "grid_row": null,
      "grid_template_areas": null,
      "grid_template_columns": null,
      "grid_template_rows": null,
      "height": null,
      "justify_content": null,
      "justify_items": null,
      "left": null,
      "margin": null,
      "max_height": null,
      "max_width": null,
      "min_height": null,
      "min_width": null,
      "object_fit": null,
      "object_position": null,
      "order": null,
      "overflow": null,
      "overflow_x": null,
      "overflow_y": null,
      "padding": null,
      "right": null,
      "top": null,
      "visibility": null,
      "width": null
     }
    },
    "340aedd05e07463891df3f8e60c2b36e": {
     "model_module": "@jupyter-widgets/controls",
     "model_module_version": "1.5.0",
     "model_name": "DescriptionStyleModel",
     "state": {
      "_model_module": "@jupyter-widgets/controls",
      "_model_module_version": "1.5.0",
      "_model_name": "DescriptionStyleModel",
      "_view_count": null,
      "_view_module": "@jupyter-widgets/base",
      "_view_module_version": "1.2.0",
      "_view_name": "StyleView",
      "description_width": ""
     }
    },
    "366db87c86434fd3908f89c73b0a315a": {
     "model_module": "@jupyter-widgets/controls",
     "model_module_version": "1.5.0",
     "model_name": "HTMLModel",
     "state": {
      "_dom_classes": [],
      "_model_module": "@jupyter-widgets/controls",
      "_model_module_version": "1.5.0",
      "_model_name": "HTMLModel",
      "_view_count": null,
      "_view_module": "@jupyter-widgets/controls",
      "_view_module_version": "1.5.0",
      "_view_name": "HTMLView",
      "description": "",
      "description_tooltip": null,
      "layout": "IPY_MODEL_33b48fc1ef0d40d69062e91aed648b60",
      "placeholder": "​",
      "style": "IPY_MODEL_bb20918f305d444f8e9837e398302e00",
      "value": " 12/12 [04:11&lt;00:00, 19.64s/it]"
     }
    },
    "432d2d8b374c4b44811cde3e9e7e1bcb": {
     "model_module": "@jupyter-widgets/base",
     "model_module_version": "1.2.0",
     "model_name": "LayoutModel",
     "state": {
      "_model_module": "@jupyter-widgets/base",
      "_model_module_version": "1.2.0",
      "_model_name": "LayoutModel",
      "_view_count": null,
      "_view_module": "@jupyter-widgets/base",
      "_view_module_version": "1.2.0",
      "_view_name": "LayoutView",
      "align_content": null,
      "align_items": null,
      "align_self": null,
      "border": null,
      "bottom": null,
      "display": null,
      "flex": null,
      "flex_flow": null,
      "grid_area": null,
      "grid_auto_columns": null,
      "grid_auto_flow": null,
      "grid_auto_rows": null,
      "grid_column": null,
      "grid_gap": null,
      "grid_row": null,
      "grid_template_areas": null,
      "grid_template_columns": null,
      "grid_template_rows": null,
      "height": null,
      "justify_content": null,
      "justify_items": null,
      "left": null,
      "margin": null,
      "max_height": null,
      "max_width": null,
      "min_height": null,
      "min_width": null,
      "object_fit": null,
      "object_position": null,
      "order": null,
      "overflow": null,
      "overflow_x": null,
      "overflow_y": null,
      "padding": null,
      "right": null,
      "top": null,
      "visibility": null,
      "width": null
     }
    },
    "434654afa0d14141a22f1aa5a6fd069d": {
     "model_module": "@jupyter-widgets/base",
     "model_module_version": "1.2.0",
     "model_name": "LayoutModel",
     "state": {
      "_model_module": "@jupyter-widgets/base",
      "_model_module_version": "1.2.0",
      "_model_name": "LayoutModel",
      "_view_count": null,
      "_view_module": "@jupyter-widgets/base",
      "_view_module_version": "1.2.0",
      "_view_name": "LayoutView",
      "align_content": null,
      "align_items": null,
      "align_self": null,
      "border": null,
      "bottom": null,
      "display": null,
      "flex": null,
      "flex_flow": null,
      "grid_area": null,
      "grid_auto_columns": null,
      "grid_auto_flow": null,
      "grid_auto_rows": null,
      "grid_column": null,
      "grid_gap": null,
      "grid_row": null,
      "grid_template_areas": null,
      "grid_template_columns": null,
      "grid_template_rows": null,
      "height": null,
      "justify_content": null,
      "justify_items": null,
      "left": null,
      "margin": null,
      "max_height": null,
      "max_width": null,
      "min_height": null,
      "min_width": null,
      "object_fit": null,
      "object_position": null,
      "order": null,
      "overflow": null,
      "overflow_x": null,
      "overflow_y": null,
      "padding": null,
      "right": null,
      "top": null,
      "visibility": null,
      "width": null
     }
    },
    "4a347f86dc97448c877f67a727115329": {
     "model_module": "@jupyter-widgets/controls",
     "model_module_version": "1.5.0",
     "model_name": "HTMLModel",
     "state": {
      "_dom_classes": [],
      "_model_module": "@jupyter-widgets/controls",
      "_model_module_version": "1.5.0",
      "_model_name": "HTMLModel",
      "_view_count": null,
      "_view_module": "@jupyter-widgets/controls",
      "_view_module_version": "1.5.0",
      "_view_name": "HTMLView",
      "description": "",
      "description_tooltip": null,
      "layout": "IPY_MODEL_0abf3511d8ef4b4998631fe39dcb38e5",
      "placeholder": "​",
      "style": "IPY_MODEL_b1e5912c361b411d8d8a8e3aeeb77fa1",
      "value": "targets.tar.gz: 100%"
     }
    },
    "4c72555580574d259752f2c03f639460": {
     "model_module": "@jupyter-widgets/controls",
     "model_module_version": "1.5.0",
     "model_name": "ProgressStyleModel",
     "state": {
      "_model_module": "@jupyter-widgets/controls",
      "_model_module_version": "1.5.0",
      "_model_name": "ProgressStyleModel",
      "_view_count": null,
      "_view_module": "@jupyter-widgets/base",
      "_view_module_version": "1.2.0",
      "_view_name": "StyleView",
      "bar_color": null,
      "description_width": ""
     }
    },
    "4d3bf2fd94374f34b2ad36bad82fb2ee": {
     "model_module": "@jupyter-widgets/base",
     "model_module_version": "1.2.0",
     "model_name": "LayoutModel",
     "state": {
      "_model_module": "@jupyter-widgets/base",
      "_model_module_version": "1.2.0",
      "_model_name": "LayoutModel",
      "_view_count": null,
      "_view_module": "@jupyter-widgets/base",
      "_view_module_version": "1.2.0",
      "_view_name": "LayoutView",
      "align_content": null,
      "align_items": null,
      "align_self": null,
      "border": null,
      "bottom": null,
      "display": null,
      "flex": null,
      "flex_flow": null,
      "grid_area": null,
      "grid_auto_columns": null,
      "grid_auto_flow": null,
      "grid_auto_rows": null,
      "grid_column": null,
      "grid_gap": null,
      "grid_row": null,
      "grid_template_areas": null,
      "grid_template_columns": null,
      "grid_template_rows": null,
      "height": null,
      "justify_content": null,
      "justify_items": null,
      "left": null,
      "margin": null,
      "max_height": null,
      "max_width": null,
      "min_height": null,
      "min_width": null,
      "object_fit": null,
      "object_position": null,
      "order": null,
      "overflow": null,
      "overflow_x": null,
      "overflow_y": null,
      "padding": null,
      "right": null,
      "top": null,
      "visibility": null,
      "width": null
     }
    },
    "4faf14f7a1004e739b18aabe509b2343": {
     "model_module": "@jupyter-widgets/controls",
     "model_module_version": "1.5.0",
     "model_name": "HBoxModel",
     "state": {
      "_dom_classes": [],
      "_model_module": "@jupyter-widgets/controls",
      "_model_module_version": "1.5.0",
      "_model_name": "HBoxModel",
      "_view_count": null,
      "_view_module": "@jupyter-widgets/controls",
      "_view_module_version": "1.5.0",
      "_view_name": "HBoxView",
      "box_style": "",
      "children": [
       "IPY_MODEL_daed4911f1f14d9a9b3aa9d67028c428",
       "IPY_MODEL_5b45f7341a1f4edb85b39f6172b095e8",
       "IPY_MODEL_366db87c86434fd3908f89c73b0a315a"
      ],
      "layout": "IPY_MODEL_ae10c2f29694482ca6332ff60f3b3d73"
     }
    },
    "5a12c83c788649a18f95afbe6d140472": {
     "model_module": "@jupyter-widgets/controls",
     "model_module_version": "1.5.0",
     "model_name": "DescriptionStyleModel",
     "state": {
      "_model_module": "@jupyter-widgets/controls",
      "_model_module_version": "1.5.0",
      "_model_name": "DescriptionStyleModel",
      "_view_count": null,
      "_view_module": "@jupyter-widgets/base",
      "_view_module_version": "1.2.0",
      "_view_name": "StyleView",
      "description_width": ""
     }
    },
    "5b45f7341a1f4edb85b39f6172b095e8": {
     "model_module": "@jupyter-widgets/controls",
     "model_module_version": "1.5.0",
     "model_name": "FloatProgressModel",
     "state": {
      "_dom_classes": [],
      "_model_module": "@jupyter-widgets/controls",
      "_model_module_version": "1.5.0",
      "_model_name": "FloatProgressModel",
      "_view_count": null,
      "_view_module": "@jupyter-widgets/controls",
      "_view_module_version": "1.5.0",
      "_view_name": "ProgressView",
      "bar_style": "success",
      "description": "",
      "description_tooltip": null,
      "layout": "IPY_MODEL_64f51f6f84ba415db433ef20e8012d68",
      "max": 12,
      "min": 0,
      "orientation": "horizontal",
      "style": "IPY_MODEL_cc6de657e972416ab91a5423b8869817",
      "value": 12
     }
    },
    "5f62bcc5ec944e9a8938d66b6aae68a4": {
     "model_module": "@jupyter-widgets/controls",
     "model_module_version": "1.5.0",
     "model_name": "HTMLModel",
     "state": {
      "_dom_classes": [],
      "_model_module": "@jupyter-widgets/controls",
      "_model_module_version": "1.5.0",
      "_model_name": "HTMLModel",
      "_view_count": null,
      "_view_module": "@jupyter-widgets/controls",
      "_view_module_version": "1.5.0",
      "_view_name": "HTMLView",
      "description": "",
      "description_tooltip": null,
      "layout": "IPY_MODEL_c9ff3eca793b47178aa1363b5c1d3424",
      "placeholder": "​",
      "style": "IPY_MODEL_0e6f3cf1debe44338951cac1d1a31a8c",
      "value": " 11/11 [1:16:05&lt;00:00, 467.12s/it]"
     }
    },
    "64f51f6f84ba415db433ef20e8012d68": {
     "model_module": "@jupyter-widgets/base",
     "model_module_version": "1.2.0",
     "model_name": "LayoutModel",
     "state": {
      "_model_module": "@jupyter-widgets/base",
      "_model_module_version": "1.2.0",
      "_model_name": "LayoutModel",
      "_view_count": null,
      "_view_module": "@jupyter-widgets/base",
      "_view_module_version": "1.2.0",
      "_view_name": "LayoutView",
      "align_content": null,
      "align_items": null,
      "align_self": null,
      "border": null,
      "bottom": null,
      "display": null,
      "flex": null,
      "flex_flow": null,
      "grid_area": null,
      "grid_auto_columns": null,
      "grid_auto_flow": null,
      "grid_auto_rows": null,
      "grid_column": null,
      "grid_gap": null,
      "grid_row": null,
      "grid_template_areas": null,
      "grid_template_columns": null,
      "grid_template_rows": null,
      "height": null,
      "justify_content": null,
      "justify_items": null,
      "left": null,
      "margin": null,
      "max_height": null,
      "max_width": null,
      "min_height": null,
      "min_width": null,
      "object_fit": null,
      "object_position": null,
      "order": null,
      "overflow": null,
      "overflow_x": null,
      "overflow_y": null,
      "padding": null,
      "right": null,
      "top": null,
      "visibility": null,
      "width": null
     }
    },
    "6519a30d393e46f9a8791d5c82416ce6": {
     "model_module": "@jupyter-widgets/controls",
     "model_module_version": "1.5.0",
     "model_name": "HTMLModel",
     "state": {
      "_dom_classes": [],
      "_model_module": "@jupyter-widgets/controls",
      "_model_module_version": "1.5.0",
      "_model_name": "HTMLModel",
      "_view_count": null,
      "_view_module": "@jupyter-widgets/controls",
      "_view_module_version": "1.5.0",
      "_view_name": "HTMLView",
      "description": "",
      "description_tooltip": null,
      "layout": "IPY_MODEL_434654afa0d14141a22f1aa5a6fd069d",
      "placeholder": "​",
      "style": "IPY_MODEL_89c095be4f964ed982d5acfbe590a49d",
      "value": " 7.93M/7.93M [00:00&lt;00:00, 20.1MB/s]"
     }
    },
    "6886740ec75a4514b205057b1889d9e0": {
     "model_module": "@jupyter-widgets/controls",
     "model_module_version": "1.5.0",
     "model_name": "FloatProgressModel",
     "state": {
      "_dom_classes": [],
      "_model_module": "@jupyter-widgets/controls",
      "_model_module_version": "1.5.0",
      "_model_name": "FloatProgressModel",
      "_view_count": null,
      "_view_module": "@jupyter-widgets/controls",
      "_view_module_version": "1.5.0",
      "_view_name": "ProgressView",
      "bar_style": "success",
      "description": "",
      "description_tooltip": null,
      "layout": "IPY_MODEL_1c13a491c2354b2ab10d064a8dea06f9",
      "max": 11,
      "min": 0,
      "orientation": "horizontal",
      "style": "IPY_MODEL_91a4e0911adf4747930b4829c73a1033",
      "value": 11
     }
    },
    "79008c87971c422a843eb9238afba95c": {
     "model_module": "@jupyter-widgets/base",
     "model_module_version": "1.2.0",
     "model_name": "LayoutModel",
     "state": {
      "_model_module": "@jupyter-widgets/base",
      "_model_module_version": "1.2.0",
      "_model_name": "LayoutModel",
      "_view_count": null,
      "_view_module": "@jupyter-widgets/base",
      "_view_module_version": "1.2.0",
      "_view_name": "LayoutView",
      "align_content": null,
      "align_items": null,
      "align_self": null,
      "border": null,
      "bottom": null,
      "display": null,
      "flex": null,
      "flex_flow": null,
      "grid_area": null,
      "grid_auto_columns": null,
      "grid_auto_flow": null,
      "grid_auto_rows": null,
      "grid_column": null,
      "grid_gap": null,
      "grid_row": null,
      "grid_template_areas": null,
      "grid_template_columns": null,
      "grid_template_rows": null,
      "height": null,
      "justify_content": null,
      "justify_items": null,
      "left": null,
      "margin": null,
      "max_height": null,
      "max_width": null,
      "min_height": null,
      "min_width": null,
      "object_fit": null,
      "object_position": null,
      "order": null,
      "overflow": null,
      "overflow_x": null,
      "overflow_y": null,
      "padding": null,
      "right": null,
      "top": null,
      "visibility": null,
      "width": null
     }
    },
    "8059ec76b63b4fba91aecef3498605fc": {
     "model_module": "@jupyter-widgets/base",
     "model_module_version": "1.2.0",
     "model_name": "LayoutModel",
     "state": {
      "_model_module": "@jupyter-widgets/base",
      "_model_module_version": "1.2.0",
      "_model_name": "LayoutModel",
      "_view_count": null,
      "_view_module": "@jupyter-widgets/base",
      "_view_module_version": "1.2.0",
      "_view_name": "LayoutView",
      "align_content": null,
      "align_items": null,
      "align_self": null,
      "border": null,
      "bottom": null,
      "display": null,
      "flex": null,
      "flex_flow": null,
      "grid_area": null,
      "grid_auto_columns": null,
      "grid_auto_flow": null,
      "grid_auto_rows": null,
      "grid_column": null,
      "grid_gap": null,
      "grid_row": null,
      "grid_template_areas": null,
      "grid_template_columns": null,
      "grid_template_rows": null,
      "height": null,
      "justify_content": null,
      "justify_items": null,
      "left": null,
      "margin": null,
      "max_height": null,
      "max_width": null,
      "min_height": null,
      "min_width": null,
      "object_fit": null,
      "object_position": null,
      "order": null,
      "overflow": null,
      "overflow_x": null,
      "overflow_y": null,
      "padding": null,
      "right": null,
      "top": null,
      "visibility": null,
      "width": null
     }
    },
    "8375889c880e4899af8f6c69d167ae13": {
     "model_module": "@jupyter-widgets/controls",
     "model_module_version": "1.5.0",
     "model_name": "DescriptionStyleModel",
     "state": {
      "_model_module": "@jupyter-widgets/controls",
      "_model_module_version": "1.5.0",
      "_model_name": "DescriptionStyleModel",
      "_view_count": null,
      "_view_module": "@jupyter-widgets/base",
      "_view_module_version": "1.2.0",
      "_view_name": "StyleView",
      "description_width": ""
     }
    },
    "89c095be4f964ed982d5acfbe590a49d": {
     "model_module": "@jupyter-widgets/controls",
     "model_module_version": "1.5.0",
     "model_name": "DescriptionStyleModel",
     "state": {
      "_model_module": "@jupyter-widgets/controls",
      "_model_module_version": "1.5.0",
      "_model_name": "DescriptionStyleModel",
      "_view_count": null,
      "_view_module": "@jupyter-widgets/base",
      "_view_module_version": "1.2.0",
      "_view_name": "StyleView",
      "description_width": ""
     }
    },
    "91a4e0911adf4747930b4829c73a1033": {
     "model_module": "@jupyter-widgets/controls",
     "model_module_version": "1.5.0",
     "model_name": "ProgressStyleModel",
     "state": {
      "_model_module": "@jupyter-widgets/controls",
      "_model_module_version": "1.5.0",
      "_model_name": "ProgressStyleModel",
      "_view_count": null,
      "_view_module": "@jupyter-widgets/base",
      "_view_module_version": "1.2.0",
      "_view_name": "StyleView",
      "bar_color": null,
      "description_width": ""
     }
    },
    "9dcd37e38e7e40aba7692d87504a14d4": {
     "model_module": "@jupyter-widgets/controls",
     "model_module_version": "1.5.0",
     "model_name": "DescriptionStyleModel",
     "state": {
      "_model_module": "@jupyter-widgets/controls",
      "_model_module_version": "1.5.0",
      "_model_name": "DescriptionStyleModel",
      "_view_count": null,
      "_view_module": "@jupyter-widgets/base",
      "_view_module_version": "1.2.0",
      "_view_name": "StyleView",
      "description_width": ""
     }
    },
    "a9710f9f8fbc48c3ba1784dd1ed8d3c4": {
     "model_module": "@jupyter-widgets/controls",
     "model_module_version": "1.5.0",
     "model_name": "HBoxModel",
     "state": {
      "_dom_classes": [],
      "_model_module": "@jupyter-widgets/controls",
      "_model_module_version": "1.5.0",
      "_model_name": "HBoxModel",
      "_view_count": null,
      "_view_module": "@jupyter-widgets/controls",
      "_view_module_version": "1.5.0",
      "_view_name": "HBoxView",
      "box_style": "",
      "children": [
       "IPY_MODEL_ce27137a91ba42a387203185caa2a0e9",
       "IPY_MODEL_6886740ec75a4514b205057b1889d9e0",
       "IPY_MODEL_5f62bcc5ec944e9a8938d66b6aae68a4"
      ],
      "layout": "IPY_MODEL_e30d808a0d7a494d90a11d0a6b7c8ea6"
     }
    },
    "acefc6bedece45bab8e5fbf8e1c2f268": {
     "model_module": "@jupyter-widgets/controls",
     "model_module_version": "1.5.0",
     "model_name": "HTMLModel",
     "state": {
      "_dom_classes": [],
      "_model_module": "@jupyter-widgets/controls",
      "_model_module_version": "1.5.0",
      "_model_name": "HTMLModel",
      "_view_count": null,
      "_view_module": "@jupyter-widgets/controls",
      "_view_module_version": "1.5.0",
      "_view_name": "HTMLView",
      "description": "",
      "description_tooltip": null,
      "layout": "IPY_MODEL_8059ec76b63b4fba91aecef3498605fc",
      "placeholder": "​",
      "style": "IPY_MODEL_8375889c880e4899af8f6c69d167ae13",
      "value": "detail.tar.gz: 100%"
     }
    },
    "ae10c2f29694482ca6332ff60f3b3d73": {
     "model_module": "@jupyter-widgets/base",
     "model_module_version": "1.2.0",
     "model_name": "LayoutModel",
     "state": {
      "_model_module": "@jupyter-widgets/base",
      "_model_module_version": "1.2.0",
      "_model_name": "LayoutModel",
      "_view_count": null,
      "_view_module": "@jupyter-widgets/base",
      "_view_module_version": "1.2.0",
      "_view_name": "LayoutView",
      "align_content": null,
      "align_items": null,
      "align_self": null,
      "border": null,
      "bottom": null,
      "display": null,
      "flex": null,
      "flex_flow": null,
      "grid_area": null,
      "grid_auto_columns": null,
      "grid_auto_flow": null,
      "grid_auto_rows": null,
      "grid_column": null,
      "grid_gap": null,
      "grid_row": null,
      "grid_template_areas": null,
      "grid_template_columns": null,
      "grid_template_rows": null,
      "height": null,
      "justify_content": null,
      "justify_items": null,
      "left": null,
      "margin": null,
      "max_height": null,
      "max_width": null,
      "min_height": null,
      "min_width": null,
      "object_fit": null,
      "object_position": null,
      "order": null,
      "overflow": null,
      "overflow_x": null,
      "overflow_y": null,
      "padding": null,
      "right": null,
      "top": null,
      "visibility": null,
      "width": null
     }
    },
    "af9261f1c2b94d78a3e9fed0cb767597": {
     "model_module": "@jupyter-widgets/controls",
     "model_module_version": "1.5.0",
     "model_name": "ProgressStyleModel",
     "state": {
      "_model_module": "@jupyter-widgets/controls",
      "_model_module_version": "1.5.0",
      "_model_name": "ProgressStyleModel",
      "_view_count": null,
      "_view_module": "@jupyter-widgets/base",
      "_view_module_version": "1.2.0",
      "_view_name": "StyleView",
      "bar_color": null,
      "description_width": ""
     }
    },
    "b1e5912c361b411d8d8a8e3aeeb77fa1": {
     "model_module": "@jupyter-widgets/controls",
     "model_module_version": "1.5.0",
     "model_name": "DescriptionStyleModel",
     "state": {
      "_model_module": "@jupyter-widgets/controls",
      "_model_module_version": "1.5.0",
      "_model_name": "DescriptionStyleModel",
      "_view_count": null,
      "_view_module": "@jupyter-widgets/base",
      "_view_module_version": "1.2.0",
      "_view_name": "StyleView",
      "description_width": ""
     }
    },
    "bb20918f305d444f8e9837e398302e00": {
     "model_module": "@jupyter-widgets/controls",
     "model_module_version": "1.5.0",
     "model_name": "DescriptionStyleModel",
     "state": {
      "_model_module": "@jupyter-widgets/controls",
      "_model_module_version": "1.5.0",
      "_model_name": "DescriptionStyleModel",
      "_view_count": null,
      "_view_module": "@jupyter-widgets/base",
      "_view_module_version": "1.2.0",
      "_view_name": "StyleView",
      "description_width": ""
     }
    },
    "c4f6ebf5256e45e399a02ca2de0037c2": {
     "model_module": "@jupyter-widgets/controls",
     "model_module_version": "1.5.0",
     "model_name": "FloatProgressModel",
     "state": {
      "_dom_classes": [],
      "_model_module": "@jupyter-widgets/controls",
      "_model_module_version": "1.5.0",
      "_model_name": "FloatProgressModel",
      "_view_count": null,
      "_view_module": "@jupyter-widgets/controls",
      "_view_module_version": "1.5.0",
      "_view_name": "ProgressView",
      "bar_style": "success",
      "description": "",
      "description_tooltip": null,
      "layout": "IPY_MODEL_2587358146e04676806ee0c459430c0e",
      "max": 7931957,
      "min": 0,
      "orientation": "horizontal",
      "style": "IPY_MODEL_4c72555580574d259752f2c03f639460",
      "value": 7931957
     }
    },
    "c9ff3eca793b47178aa1363b5c1d3424": {
     "model_module": "@jupyter-widgets/base",
     "model_module_version": "1.2.0",
     "model_name": "LayoutModel",
     "state": {
      "_model_module": "@jupyter-widgets/base",
      "_model_module_version": "1.2.0",
      "_model_name": "LayoutModel",
      "_view_count": null,
      "_view_module": "@jupyter-widgets/base",
      "_view_module_version": "1.2.0",
      "_view_name": "LayoutView",
      "align_content": null,
      "align_items": null,
      "align_self": null,
      "border": null,
      "bottom": null,
      "display": null,
      "flex": null,
      "flex_flow": null,
      "grid_area": null,
      "grid_auto_columns": null,
      "grid_auto_flow": null,
      "grid_auto_rows": null,
      "grid_column": null,
      "grid_gap": null,
      "grid_row": null,
      "grid_template_areas": null,
      "grid_template_columns": null,
      "grid_template_rows": null,
      "height": null,
      "justify_content": null,
      "justify_items": null,
      "left": null,
      "margin": null,
      "max_height": null,
      "max_width": null,
      "min_height": null,
      "min_width": null,
      "object_fit": null,
      "object_position": null,
      "order": null,
      "overflow": null,
      "overflow_x": null,
      "overflow_y": null,
      "padding": null,
      "right": null,
      "top": null,
      "visibility": null,
      "width": null
     }
    },
    "cc6de657e972416ab91a5423b8869817": {
     "model_module": "@jupyter-widgets/controls",
     "model_module_version": "1.5.0",
     "model_name": "ProgressStyleModel",
     "state": {
      "_model_module": "@jupyter-widgets/controls",
      "_model_module_version": "1.5.0",
      "_model_name": "ProgressStyleModel",
      "_view_count": null,
      "_view_module": "@jupyter-widgets/base",
      "_view_module_version": "1.2.0",
      "_view_name": "StyleView",
      "bar_color": null,
      "description_width": ""
     }
    },
    "ce27137a91ba42a387203185caa2a0e9": {
     "model_module": "@jupyter-widgets/controls",
     "model_module_version": "1.5.0",
     "model_name": "HTMLModel",
     "state": {
      "_dom_classes": [],
      "_model_module": "@jupyter-widgets/controls",
      "_model_module_version": "1.5.0",
      "_model_name": "HTMLModel",
      "_view_count": null,
      "_view_module": "@jupyter-widgets/controls",
      "_view_module_version": "1.5.0",
      "_view_name": "HTMLView",
      "description": "",
      "description_tooltip": null,
      "layout": "IPY_MODEL_cf207e8a48f8428db062d5e9a5951755",
      "placeholder": "​",
      "style": "IPY_MODEL_9dcd37e38e7e40aba7692d87504a14d4",
      "value": "100%"
     }
    },
    "cf207e8a48f8428db062d5e9a5951755": {
     "model_module": "@jupyter-widgets/base",
     "model_module_version": "1.2.0",
     "model_name": "LayoutModel",
     "state": {
      "_model_module": "@jupyter-widgets/base",
      "_model_module_version": "1.2.0",
      "_model_name": "LayoutModel",
      "_view_count": null,
      "_view_module": "@jupyter-widgets/base",
      "_view_module_version": "1.2.0",
      "_view_name": "LayoutView",
      "align_content": null,
      "align_items": null,
      "align_self": null,
      "border": null,
      "bottom": null,
      "display": null,
      "flex": null,
      "flex_flow": null,
      "grid_area": null,
      "grid_auto_columns": null,
      "grid_auto_flow": null,
      "grid_auto_rows": null,
      "grid_column": null,
      "grid_gap": null,
      "grid_row": null,
      "grid_template_areas": null,
      "grid_template_columns": null,
      "grid_template_rows": null,
      "height": null,
      "justify_content": null,
      "justify_items": null,
      "left": null,
      "margin": null,
      "max_height": null,
      "max_width": null,
      "min_height": null,
      "min_width": null,
      "object_fit": null,
      "object_position": null,
      "order": null,
      "overflow": null,
      "overflow_x": null,
      "overflow_y": null,
      "padding": null,
      "right": null,
      "top": null,
      "visibility": null,
      "width": null
     }
    },
    "daed4911f1f14d9a9b3aa9d67028c428": {
     "model_module": "@jupyter-widgets/controls",
     "model_module_version": "1.5.0",
     "model_name": "HTMLModel",
     "state": {
      "_dom_classes": [],
      "_model_module": "@jupyter-widgets/controls",
      "_model_module_version": "1.5.0",
      "_model_name": "HTMLModel",
      "_view_count": null,
      "_view_module": "@jupyter-widgets/controls",
      "_view_module_version": "1.5.0",
      "_view_name": "HTMLView",
      "description": "",
      "description_tooltip": null,
      "layout": "IPY_MODEL_2d8d2e73039844ac8949bb7f8fdd4d48",
      "placeholder": "​",
      "style": "IPY_MODEL_5a12c83c788649a18f95afbe6d140472",
      "value": "100%"
     }
    },
    "e30d808a0d7a494d90a11d0a6b7c8ea6": {
     "model_module": "@jupyter-widgets/base",
     "model_module_version": "1.2.0",
     "model_name": "LayoutModel",
     "state": {
      "_model_module": "@jupyter-widgets/base",
      "_model_module_version": "1.2.0",
      "_model_name": "LayoutModel",
      "_view_count": null,
      "_view_module": "@jupyter-widgets/base",
      "_view_module_version": "1.2.0",
      "_view_name": "LayoutView",
      "align_content": null,
      "align_items": null,
      "align_self": null,
      "border": null,
      "bottom": null,
      "display": null,
      "flex": null,
      "flex_flow": null,
      "grid_area": null,
      "grid_auto_columns": null,
      "grid_auto_flow": null,
      "grid_auto_rows": null,
      "grid_column": null,
      "grid_gap": null,
      "grid_row": null,
      "grid_template_areas": null,
      "grid_template_columns": null,
      "grid_template_rows": null,
      "height": null,
      "justify_content": null,
      "justify_items": null,
      "left": null,
      "margin": null,
      "max_height": null,
      "max_width": null,
      "min_height": null,
      "min_width": null,
      "object_fit": null,
      "object_position": null,
      "order": null,
      "overflow": null,
      "overflow_x": null,
      "overflow_y": null,
      "padding": null,
      "right": null,
      "top": null,
      "visibility": null,
      "width": null
     }
    },
    "e6f5086ee78841758a5cddb4923266b5": {
     "model_module": "@jupyter-widgets/controls",
     "model_module_version": "1.5.0",
     "model_name": "HBoxModel",
     "state": {
      "_dom_classes": [],
      "_model_module": "@jupyter-widgets/controls",
      "_model_module_version": "1.5.0",
      "_model_name": "HBoxModel",
      "_view_count": null,
      "_view_module": "@jupyter-widgets/controls",
      "_view_module_version": "1.5.0",
      "_view_name": "HBoxView",
      "box_style": "",
      "children": [
       "IPY_MODEL_acefc6bedece45bab8e5fbf8e1c2f268",
       "IPY_MODEL_1a00a5a62ef3475eb8438be8743f1758",
       "IPY_MODEL_eda732ea6f0247668070735ce00a66c6"
      ],
      "layout": "IPY_MODEL_32f838a079ac49d3b8289c832807798f"
     }
    },
    "eda732ea6f0247668070735ce00a66c6": {
     "model_module": "@jupyter-widgets/controls",
     "model_module_version": "1.5.0",
     "model_name": "HTMLModel",
     "state": {
      "_dom_classes": [],
      "_model_module": "@jupyter-widgets/controls",
      "_model_module_version": "1.5.0",
      "_model_name": "HTMLModel",
      "_view_count": null,
      "_view_module": "@jupyter-widgets/controls",
      "_view_module_version": "1.5.0",
      "_view_name": "HTMLView",
      "description": "",
      "description_tooltip": null,
      "layout": "IPY_MODEL_432d2d8b374c4b44811cde3e9e7e1bcb",
      "placeholder": "​",
      "style": "IPY_MODEL_340aedd05e07463891df3f8e60c2b36e",
      "value": " 1.97G/1.97G [03:09&lt;00:00, 10.4MB/s]"
     }
    },
    "f0cfa3a158f14522a194df7e91566021": {
     "model_module": "@jupyter-widgets/controls",
     "model_module_version": "1.5.0",
     "model_name": "HBoxModel",
     "state": {
      "_dom_classes": [],
      "_model_module": "@jupyter-widgets/controls",
      "_model_module_version": "1.5.0",
      "_model_name": "HBoxModel",
      "_view_count": null,
      "_view_module": "@jupyter-widgets/controls",
      "_view_module_version": "1.5.0",
      "_view_name": "HBoxView",
      "box_style": "",
      "children": [
       "IPY_MODEL_4a347f86dc97448c877f67a727115329",
       "IPY_MODEL_c4f6ebf5256e45e399a02ca2de0037c2",
       "IPY_MODEL_6519a30d393e46f9a8791d5c82416ce6"
      ],
      "layout": "IPY_MODEL_4d3bf2fd94374f34b2ad36bad82fb2ee"
     }
    }
   }
  }
 },
 "nbformat": 4,
 "nbformat_minor": 4
}

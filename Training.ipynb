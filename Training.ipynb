{
 "cells": [
  {
   "cell_type": "markdown",
   "metadata": {},
   "source": [
    "## Imports"
   ]
  },
  {
   "cell_type": "code",
   "execution_count": null,
   "metadata": {
    "id": "-1GaELVlv-lk"
   },
   "outputs": [],
   "source": [
    "from tqdm.auto import tqdm\n",
    "\n",
    "import pandas as pd\n",
    "import numpy as np\n",
    "import matplotlib.pyplot as plt\n",
    "\n",
    "plt.rcParams.update({\n",
    "    'axes.grid': True,\n",
    "    'figure.figsize': [6, 4],\n",
    "})"
   ]
  },
  {
   "cell_type": "code",
   "execution_count": null,
   "metadata": {
    "colab": {
     "base_uri": "https://localhost:8080/"
    },
    "executionInfo": {
     "elapsed": 20211,
     "status": "ok",
     "timestamp": 1738085545280,
     "user": {
      "displayName": "Eugene O'Leary",
      "userId": "15546787906852777125"
     },
     "user_tz": -180
    },
    "id": "gVTMXbavNaLQ",
    "outputId": "55bed91f-746f-4f8a-c5d4-b7b430a5fc0b"
   },
   "outputs": [
    {
     "name": "stdout",
     "output_type": "stream",
     "text": [
      "Mounted at /content/drive/\n"
     ]
    }
   ],
   "source": [
    "from google.colab import drive\n",
    "drive.mount('/content/drive/')"
   ]
  },
  {
   "cell_type": "markdown",
   "metadata": {
    "id": "hPfQbYglaeE5"
   },
   "source": [
    "## Dialog"
   ]
  },
  {
   "cell_type": "code",
   "execution_count": null,
   "metadata": {
    "id": "Nxwop9u6foUE"
   },
   "outputs": [],
   "source": [
    "dial_rdcd = pd.read_parquet(f'drive/MyDrive/SberIndexTest/data/preproc/dialog_agg_8.parquet')"
   ]
  },
  {
   "cell_type": "code",
   "execution_count": null,
   "metadata": {
    "id": "nnwIV-Qk1j3K"
   },
   "outputs": [],
   "source": [
    "emb_names_rdcd = ['v_0', 'v_1', 'v_2', 'v_3', 'v_4', 'v_5', 'v_6', 'v_7']"
   ]
  },
  {
   "cell_type": "code",
   "execution_count": null,
   "metadata": {
    "id": "j-R7bA_1lqJA"
   },
   "outputs": [],
   "source": [
    "targets = pd.read_parquet('targets')"
   ]
  },
  {
   "cell_type": "markdown",
   "metadata": {
    "id": "7wxTo7lwn_Zq"
   },
   "source": [
    "Add targets and fit baseline"
   ]
  },
  {
   "cell_type": "code",
   "execution_count": null,
   "metadata": {
    "id": "OfynwfFE67Ob"
   },
   "outputs": [],
   "source": [
    "trgt = 'target_label'\n",
    "trgt_names = ['target_1', 'target_2', 'target_3', 'target_4']"
   ]
  },
  {
   "cell_type": "code",
   "execution_count": null,
   "metadata": {
    "id": "aSTNLEdinohT"
   },
   "outputs": [],
   "source": [
    "dial_targets = targets\\\n",
    "    .merge(dial_rdcd, on=['client_id', 'mon'], how='left')"
   ]
  },
  {
   "cell_type": "code",
   "execution_count": 143,
   "metadata": {
    "colab": {
     "base_uri": "https://localhost:8080/"
    },
    "executionInfo": {
     "elapsed": 1270,
     "status": "ok",
     "timestamp": 1738091594535,
     "user": {
      "displayName": "Eugene O'Leary",
      "userId": "15546787906852777125"
     },
     "user_tz": -180
    },
    "id": "J3OCg-GqVOY0",
    "outputId": "85342261-5e15-4d95-c887-1948bda76f9e"
   },
   "outputs": [
    {
     "data": {
      "text/plain": [
       "False"
      ]
     },
     "execution_count": 143,
     "metadata": {},
     "output_type": "execute_result"
    }
   ],
   "source": [
    "dial_targets[['client_id', 'mon']].duplicated().any()"
   ]
  },
  {
   "cell_type": "code",
   "execution_count": null,
   "metadata": {
    "colab": {
     "base_uri": "https://localhost:8080/",
     "height": 313
    },
    "executionInfo": {
     "elapsed": 5,
     "status": "ok",
     "timestamp": 1738085672259,
     "user": {
      "displayName": "Eugene O'Leary",
      "userId": "15546787906852777125"
     },
     "user_tz": -180
    },
    "id": "RifguM0en7OG",
    "outputId": "e57109f7-2110-4144-fe28-6bad36acfbae"
   },
   "outputs": [
    {
     "data": {
      "application/vnd.google.colaboratory.intrinsic+json": {
       "type": "dataframe",
       "variable_name": "dial_targets"
      },
      "text/html": [
       "\n",
       "  <div id=\"df-05f4fb52-7f90-401c-8fdc-c5ea1fc28e4b\" class=\"colab-df-container\">\n",
       "    <div>\n",
       "<style scoped>\n",
       "    .dataframe tbody tr th:only-of-type {\n",
       "        vertical-align: middle;\n",
       "    }\n",
       "\n",
       "    .dataframe tbody tr th {\n",
       "        vertical-align: top;\n",
       "    }\n",
       "\n",
       "    .dataframe thead th {\n",
       "        text-align: right;\n",
       "    }\n",
       "</style>\n",
       "<table border=\"1\" class=\"dataframe\">\n",
       "  <thead>\n",
       "    <tr style=\"text-align: right;\">\n",
       "      <th></th>\n",
       "      <th>client_id</th>\n",
       "      <th>mon</th>\n",
       "      <th>target_1</th>\n",
       "      <th>target_2</th>\n",
       "      <th>target_3</th>\n",
       "      <th>target_4</th>\n",
       "      <th>target_concat</th>\n",
       "      <th>target_label</th>\n",
       "      <th>v_0</th>\n",
       "      <th>v_1</th>\n",
       "      <th>v_2</th>\n",
       "      <th>v_3</th>\n",
       "      <th>v_4</th>\n",
       "      <th>v_5</th>\n",
       "      <th>v_6</th>\n",
       "      <th>v_7</th>\n",
       "    </tr>\n",
       "  </thead>\n",
       "  <tbody>\n",
       "    <tr>\n",
       "      <th>0</th>\n",
       "      <td>00bd0ecf3d5a33aa8756097967d07797dca4c98de9b61c...</td>\n",
       "      <td>2022-02-28</td>\n",
       "      <td>0</td>\n",
       "      <td>0</td>\n",
       "      <td>0</td>\n",
       "      <td>0</td>\n",
       "      <td>0000</td>\n",
       "      <td>0</td>\n",
       "      <td>-5.183194</td>\n",
       "      <td>0.460759</td>\n",
       "      <td>-1.00377</td>\n",
       "      <td>1.496838</td>\n",
       "      <td>0.098581</td>\n",
       "      <td>-0.036236</td>\n",
       "      <td>-0.2754</td>\n",
       "      <td>-0.138443</td>\n",
       "    </tr>\n",
       "    <tr>\n",
       "      <th>1</th>\n",
       "      <td>00bd0ecf3d5a33aa8756097967d07797dca4c98de9b61c...</td>\n",
       "      <td>2022-03-31</td>\n",
       "      <td>0</td>\n",
       "      <td>0</td>\n",
       "      <td>0</td>\n",
       "      <td>0</td>\n",
       "      <td>0000</td>\n",
       "      <td>0</td>\n",
       "      <td>-5.183194</td>\n",
       "      <td>0.460759</td>\n",
       "      <td>-1.00377</td>\n",
       "      <td>1.496838</td>\n",
       "      <td>0.098581</td>\n",
       "      <td>-0.036236</td>\n",
       "      <td>-0.2754</td>\n",
       "      <td>-0.138443</td>\n",
       "    </tr>\n",
       "    <tr>\n",
       "      <th>2</th>\n",
       "      <td>00bd0ecf3d5a33aa8756097967d07797dca4c98de9b61c...</td>\n",
       "      <td>2022-04-30</td>\n",
       "      <td>0</td>\n",
       "      <td>0</td>\n",
       "      <td>0</td>\n",
       "      <td>0</td>\n",
       "      <td>0000</td>\n",
       "      <td>0</td>\n",
       "      <td>-5.183194</td>\n",
       "      <td>0.460759</td>\n",
       "      <td>-1.00377</td>\n",
       "      <td>1.496838</td>\n",
       "      <td>0.098581</td>\n",
       "      <td>-0.036236</td>\n",
       "      <td>-0.2754</td>\n",
       "      <td>-0.138443</td>\n",
       "    </tr>\n",
       "    <tr>\n",
       "      <th>3</th>\n",
       "      <td>00bd0ecf3d5a33aa8756097967d07797dca4c98de9b61c...</td>\n",
       "      <td>2022-05-31</td>\n",
       "      <td>0</td>\n",
       "      <td>0</td>\n",
       "      <td>0</td>\n",
       "      <td>0</td>\n",
       "      <td>0000</td>\n",
       "      <td>0</td>\n",
       "      <td>-5.183194</td>\n",
       "      <td>0.460759</td>\n",
       "      <td>-1.00377</td>\n",
       "      <td>1.496838</td>\n",
       "      <td>0.098581</td>\n",
       "      <td>-0.036236</td>\n",
       "      <td>-0.2754</td>\n",
       "      <td>-0.138443</td>\n",
       "    </tr>\n",
       "    <tr>\n",
       "      <th>4</th>\n",
       "      <td>00bd0ecf3d5a33aa8756097967d07797dca4c98de9b61c...</td>\n",
       "      <td>2022-06-30</td>\n",
       "      <td>0</td>\n",
       "      <td>0</td>\n",
       "      <td>0</td>\n",
       "      <td>0</td>\n",
       "      <td>0000</td>\n",
       "      <td>0</td>\n",
       "      <td>-5.183194</td>\n",
       "      <td>0.460759</td>\n",
       "      <td>-1.00377</td>\n",
       "      <td>1.496838</td>\n",
       "      <td>0.098581</td>\n",
       "      <td>-0.036236</td>\n",
       "      <td>-0.2754</td>\n",
       "      <td>-0.138443</td>\n",
       "    </tr>\n",
       "  </tbody>\n",
       "</table>\n",
       "</div>\n",
       "    <div class=\"colab-df-buttons\">\n",
       "\n",
       "  <div class=\"colab-df-container\">\n",
       "    <button class=\"colab-df-convert\" onclick=\"convertToInteractive('df-05f4fb52-7f90-401c-8fdc-c5ea1fc28e4b')\"\n",
       "            title=\"Convert this dataframe to an interactive table.\"\n",
       "            style=\"display:none;\">\n",
       "\n",
       "  <svg xmlns=\"http://www.w3.org/2000/svg\" height=\"24px\" viewBox=\"0 -960 960 960\">\n",
       "    <path d=\"M120-120v-720h720v720H120Zm60-500h600v-160H180v160Zm220 220h160v-160H400v160Zm0 220h160v-160H400v160ZM180-400h160v-160H180v160Zm440 0h160v-160H620v160ZM180-180h160v-160H180v160Zm440 0h160v-160H620v160Z\"/>\n",
       "  </svg>\n",
       "    </button>\n",
       "\n",
       "  <style>\n",
       "    .colab-df-container {\n",
       "      display:flex;\n",
       "      gap: 12px;\n",
       "    }\n",
       "\n",
       "    .colab-df-convert {\n",
       "      background-color: #E8F0FE;\n",
       "      border: none;\n",
       "      border-radius: 50%;\n",
       "      cursor: pointer;\n",
       "      display: none;\n",
       "      fill: #1967D2;\n",
       "      height: 32px;\n",
       "      padding: 0 0 0 0;\n",
       "      width: 32px;\n",
       "    }\n",
       "\n",
       "    .colab-df-convert:hover {\n",
       "      background-color: #E2EBFA;\n",
       "      box-shadow: 0px 1px 2px rgba(60, 64, 67, 0.3), 0px 1px 3px 1px rgba(60, 64, 67, 0.15);\n",
       "      fill: #174EA6;\n",
       "    }\n",
       "\n",
       "    .colab-df-buttons div {\n",
       "      margin-bottom: 4px;\n",
       "    }\n",
       "\n",
       "    [theme=dark] .colab-df-convert {\n",
       "      background-color: #3B4455;\n",
       "      fill: #D2E3FC;\n",
       "    }\n",
       "\n",
       "    [theme=dark] .colab-df-convert:hover {\n",
       "      background-color: #434B5C;\n",
       "      box-shadow: 0px 1px 3px 1px rgba(0, 0, 0, 0.15);\n",
       "      filter: drop-shadow(0px 1px 2px rgba(0, 0, 0, 0.3));\n",
       "      fill: #FFFFFF;\n",
       "    }\n",
       "  </style>\n",
       "\n",
       "    <script>\n",
       "      const buttonEl =\n",
       "        document.querySelector('#df-05f4fb52-7f90-401c-8fdc-c5ea1fc28e4b button.colab-df-convert');\n",
       "      buttonEl.style.display =\n",
       "        google.colab.kernel.accessAllowed ? 'block' : 'none';\n",
       "\n",
       "      async function convertToInteractive(key) {\n",
       "        const element = document.querySelector('#df-05f4fb52-7f90-401c-8fdc-c5ea1fc28e4b');\n",
       "        const dataTable =\n",
       "          await google.colab.kernel.invokeFunction('convertToInteractive',\n",
       "                                                    [key], {});\n",
       "        if (!dataTable) return;\n",
       "\n",
       "        const docLinkHtml = 'Like what you see? Visit the ' +\n",
       "          '<a target=\"_blank\" href=https://colab.research.google.com/notebooks/data_table.ipynb>data table notebook</a>'\n",
       "          + ' to learn more about interactive tables.';\n",
       "        element.innerHTML = '';\n",
       "        dataTable['output_type'] = 'display_data';\n",
       "        await google.colab.output.renderOutput(dataTable, element);\n",
       "        const docLink = document.createElement('div');\n",
       "        docLink.innerHTML = docLinkHtml;\n",
       "        element.appendChild(docLink);\n",
       "      }\n",
       "    </script>\n",
       "  </div>\n",
       "\n",
       "\n",
       "<div id=\"df-2a4fbd38-f7b2-48a8-8dc3-7e57b3fcb2f7\">\n",
       "  <button class=\"colab-df-quickchart\" onclick=\"quickchart('df-2a4fbd38-f7b2-48a8-8dc3-7e57b3fcb2f7')\"\n",
       "            title=\"Suggest charts\"\n",
       "            style=\"display:none;\">\n",
       "\n",
       "<svg xmlns=\"http://www.w3.org/2000/svg\" height=\"24px\"viewBox=\"0 0 24 24\"\n",
       "     width=\"24px\">\n",
       "    <g>\n",
       "        <path d=\"M19 3H5c-1.1 0-2 .9-2 2v14c0 1.1.9 2 2 2h14c1.1 0 2-.9 2-2V5c0-1.1-.9-2-2-2zM9 17H7v-7h2v7zm4 0h-2V7h2v10zm4 0h-2v-4h2v4z\"/>\n",
       "    </g>\n",
       "</svg>\n",
       "  </button>\n",
       "\n",
       "<style>\n",
       "  .colab-df-quickchart {\n",
       "      --bg-color: #E8F0FE;\n",
       "      --fill-color: #1967D2;\n",
       "      --hover-bg-color: #E2EBFA;\n",
       "      --hover-fill-color: #174EA6;\n",
       "      --disabled-fill-color: #AAA;\n",
       "      --disabled-bg-color: #DDD;\n",
       "  }\n",
       "\n",
       "  [theme=dark] .colab-df-quickchart {\n",
       "      --bg-color: #3B4455;\n",
       "      --fill-color: #D2E3FC;\n",
       "      --hover-bg-color: #434B5C;\n",
       "      --hover-fill-color: #FFFFFF;\n",
       "      --disabled-bg-color: #3B4455;\n",
       "      --disabled-fill-color: #666;\n",
       "  }\n",
       "\n",
       "  .colab-df-quickchart {\n",
       "    background-color: var(--bg-color);\n",
       "    border: none;\n",
       "    border-radius: 50%;\n",
       "    cursor: pointer;\n",
       "    display: none;\n",
       "    fill: var(--fill-color);\n",
       "    height: 32px;\n",
       "    padding: 0;\n",
       "    width: 32px;\n",
       "  }\n",
       "\n",
       "  .colab-df-quickchart:hover {\n",
       "    background-color: var(--hover-bg-color);\n",
       "    box-shadow: 0 1px 2px rgba(60, 64, 67, 0.3), 0 1px 3px 1px rgba(60, 64, 67, 0.15);\n",
       "    fill: var(--button-hover-fill-color);\n",
       "  }\n",
       "\n",
       "  .colab-df-quickchart-complete:disabled,\n",
       "  .colab-df-quickchart-complete:disabled:hover {\n",
       "    background-color: var(--disabled-bg-color);\n",
       "    fill: var(--disabled-fill-color);\n",
       "    box-shadow: none;\n",
       "  }\n",
       "\n",
       "  .colab-df-spinner {\n",
       "    border: 2px solid var(--fill-color);\n",
       "    border-color: transparent;\n",
       "    border-bottom-color: var(--fill-color);\n",
       "    animation:\n",
       "      spin 1s steps(1) infinite;\n",
       "  }\n",
       "\n",
       "  @keyframes spin {\n",
       "    0% {\n",
       "      border-color: transparent;\n",
       "      border-bottom-color: var(--fill-color);\n",
       "      border-left-color: var(--fill-color);\n",
       "    }\n",
       "    20% {\n",
       "      border-color: transparent;\n",
       "      border-left-color: var(--fill-color);\n",
       "      border-top-color: var(--fill-color);\n",
       "    }\n",
       "    30% {\n",
       "      border-color: transparent;\n",
       "      border-left-color: var(--fill-color);\n",
       "      border-top-color: var(--fill-color);\n",
       "      border-right-color: var(--fill-color);\n",
       "    }\n",
       "    40% {\n",
       "      border-color: transparent;\n",
       "      border-right-color: var(--fill-color);\n",
       "      border-top-color: var(--fill-color);\n",
       "    }\n",
       "    60% {\n",
       "      border-color: transparent;\n",
       "      border-right-color: var(--fill-color);\n",
       "    }\n",
       "    80% {\n",
       "      border-color: transparent;\n",
       "      border-right-color: var(--fill-color);\n",
       "      border-bottom-color: var(--fill-color);\n",
       "    }\n",
       "    90% {\n",
       "      border-color: transparent;\n",
       "      border-bottom-color: var(--fill-color);\n",
       "    }\n",
       "  }\n",
       "</style>\n",
       "\n",
       "  <script>\n",
       "    async function quickchart(key) {\n",
       "      const quickchartButtonEl =\n",
       "        document.querySelector('#' + key + ' button');\n",
       "      quickchartButtonEl.disabled = true;  // To prevent multiple clicks.\n",
       "      quickchartButtonEl.classList.add('colab-df-spinner');\n",
       "      try {\n",
       "        const charts = await google.colab.kernel.invokeFunction(\n",
       "            'suggestCharts', [key], {});\n",
       "      } catch (error) {\n",
       "        console.error('Error during call to suggestCharts:', error);\n",
       "      }\n",
       "      quickchartButtonEl.classList.remove('colab-df-spinner');\n",
       "      quickchartButtonEl.classList.add('colab-df-quickchart-complete');\n",
       "    }\n",
       "    (() => {\n",
       "      let quickchartButtonEl =\n",
       "        document.querySelector('#df-2a4fbd38-f7b2-48a8-8dc3-7e57b3fcb2f7 button');\n",
       "      quickchartButtonEl.style.display =\n",
       "        google.colab.kernel.accessAllowed ? 'block' : 'none';\n",
       "    })();\n",
       "  </script>\n",
       "</div>\n",
       "    </div>\n",
       "  </div>\n"
      ],
      "text/plain": [
       "                                           client_id         mon  target_1  \\\n",
       "0  00bd0ecf3d5a33aa8756097967d07797dca4c98de9b61c...  2022-02-28         0   \n",
       "1  00bd0ecf3d5a33aa8756097967d07797dca4c98de9b61c...  2022-03-31         0   \n",
       "2  00bd0ecf3d5a33aa8756097967d07797dca4c98de9b61c...  2022-04-30         0   \n",
       "3  00bd0ecf3d5a33aa8756097967d07797dca4c98de9b61c...  2022-05-31         0   \n",
       "4  00bd0ecf3d5a33aa8756097967d07797dca4c98de9b61c...  2022-06-30         0   \n",
       "\n",
       "   target_2  target_3  target_4 target_concat  target_label       v_0  \\\n",
       "0         0         0         0          0000             0 -5.183194   \n",
       "1         0         0         0          0000             0 -5.183194   \n",
       "2         0         0         0          0000             0 -5.183194   \n",
       "3         0         0         0          0000             0 -5.183194   \n",
       "4         0         0         0          0000             0 -5.183194   \n",
       "\n",
       "        v_1      v_2       v_3       v_4       v_5     v_6       v_7  \n",
       "0  0.460759 -1.00377  1.496838  0.098581 -0.036236 -0.2754 -0.138443  \n",
       "1  0.460759 -1.00377  1.496838  0.098581 -0.036236 -0.2754 -0.138443  \n",
       "2  0.460759 -1.00377  1.496838  0.098581 -0.036236 -0.2754 -0.138443  \n",
       "3  0.460759 -1.00377  1.496838  0.098581 -0.036236 -0.2754 -0.138443  \n",
       "4  0.460759 -1.00377  1.496838  0.098581 -0.036236 -0.2754 -0.138443  "
      ]
     },
     "execution_count": 9,
     "metadata": {},
     "output_type": "execute_result"
    }
   ],
   "source": [
    "dial_targets.head()"
   ]
  },
  {
   "cell_type": "code",
   "execution_count": null,
   "metadata": {
    "colab": {
     "base_uri": "https://localhost:8080/"
    },
    "executionInfo": {
     "elapsed": 196,
     "status": "ok",
     "timestamp": 1738085672451,
     "user": {
      "displayName": "Eugene O'Leary",
      "userId": "15546787906852777125"
     },
     "user_tz": -180
    },
    "id": "digrKRIg8hjo",
    "outputId": "9f37af4f-05bd-47ed-e055-e6e156945f1a"
   },
   "outputs": [
    {
     "name": "stdout",
     "output_type": "stream",
     "text": [
      "<class 'pandas.core.frame.DataFrame'>\n",
      "RangeIndex: 1202688 entries, 0 to 1202687\n",
      "Data columns (total 16 columns):\n",
      " #   Column         Non-Null Count    Dtype  \n",
      "---  ------         --------------    -----  \n",
      " 0   client_id      1202688 non-null  object \n",
      " 1   mon            1202688 non-null  object \n",
      " 2   target_1       1202688 non-null  int32  \n",
      " 3   target_2       1202688 non-null  int32  \n",
      " 4   target_3       1202688 non-null  int32  \n",
      " 5   target_4       1202688 non-null  int32  \n",
      " 6   target_concat  1202688 non-null  object \n",
      " 7   target_label   1202688 non-null  int64  \n",
      " 8   v_0            469519 non-null   float32\n",
      " 9   v_1            469519 non-null   float32\n",
      " 10  v_2            469519 non-null   float32\n",
      " 11  v_3            469519 non-null   float32\n",
      " 12  v_4            469519 non-null   float32\n",
      " 13  v_5            469519 non-null   float32\n",
      " 14  v_6            469519 non-null   float32\n",
      " 15  v_7            469519 non-null   float32\n",
      "dtypes: float32(8), int32(4), int64(1), object(3)\n",
      "memory usage: 91.8+ MB\n"
     ]
    }
   ],
   "source": [
    "dial_targets.info()"
   ]
  },
  {
   "cell_type": "markdown",
   "metadata": {
    "id": "wIgulKxX-shZ"
   },
   "source": [
    "About 60% of observations have all missing values in all embeddings and are therefore useless for training. Nevertheless, we need to obtain predictions for all samples.  \n",
    "The idea how to reach it is:\n",
    "* remove all observations with missing embeddings from training sample\n",
    "* at inference impute nans with mean values by column"
   ]
  },
  {
   "cell_type": "code",
   "execution_count": 102,
   "metadata": {
    "executionInfo": {
     "elapsed": 268,
     "status": "ok",
     "timestamp": 1738090106470,
     "user": {
      "displayName": "Eugene O'Leary",
      "userId": "15546787906852777125"
     },
     "user_tz": -180
    },
    "id": "W7fEgzo9oWiB"
   },
   "outputs": [],
   "source": [
    "from lightgbm import LGBMClassifier\n",
    "import lightgbm as lgbm\n",
    "\n",
    "from sklearn.model_selection import train_test_split"
   ]
  },
  {
   "cell_type": "code",
   "execution_count": 103,
   "metadata": {
    "executionInfo": {
     "elapsed": 450,
     "status": "ok",
     "timestamp": 1738090119777,
     "user": {
      "displayName": "Eugene O'Leary",
      "userId": "15546787906852777125"
     },
     "user_tz": -180
    },
    "id": "N4xHucxl5XDf"
   },
   "outputs": [],
   "source": [
    "X = dial_targets.copy()\n",
    "X = dial_targets.dropna(subset=emb_names_rdcd, how='all').copy().reset_index(drop=True)"
   ]
  },
  {
   "cell_type": "code",
   "execution_count": 104,
   "metadata": {
    "executionInfo": {
     "elapsed": 519,
     "status": "ok",
     "timestamp": 1738090125147,
     "user": {
      "displayName": "Eugene O'Leary",
      "userId": "15546787906852777125"
     },
     "user_tz": -180
    },
    "id": "HrIbvWe2ohIl"
   },
   "outputs": [],
   "source": [
    "X_dev, X_test = train_test_split(X, random_state=42, train_size=0.75)#, stratify=X[trgt_names])\n",
    "X_train, X_valid = train_test_split(X_dev, random_state=42, train_size=0.8)#, stratify=X_dev[trgt_names])"
   ]
  },
  {
   "cell_type": "code",
   "execution_count": 105,
   "metadata": {
    "executionInfo": {
     "elapsed": 780,
     "status": "ok",
     "timestamp": 1738090126764,
     "user": {
      "displayName": "Eugene O'Leary",
      "userId": "15546787906852777125"
     },
     "user_tz": -180
    },
    "id": "kwioBv495bMY"
   },
   "outputs": [],
   "source": [
    "X.loc[X_train.index, 'SET'] = 'train'\n",
    "X.loc[X_valid.index, 'SET'] = 'valid'\n",
    "X.loc[X_test.index, 'SET'] = 'test'"
   ]
  },
  {
   "cell_type": "code",
   "execution_count": 106,
   "metadata": {
    "collapsed": true,
    "executionInfo": {
     "elapsed": 6071,
     "status": "ok",
     "timestamp": 1738090133934,
     "user": {
      "displayName": "Eugene O'Leary",
      "userId": "15546787906852777125"
     },
     "user_tz": -180
    },
    "id": "7tk7pwZF1WGa",
    "jupyter": {
     "outputs_hidden": true
    }
   },
   "outputs": [],
   "source": [
    "clfs = []\n",
    "for i, label in enumerate(trgt_names):\n",
    "    clf = LGBMClassifier(\n",
    "        objective='binary',\n",
    "        max_depth=4,\n",
    "        n_estimators=500,\n",
    "        early_stopping_rounds=10,\n",
    "        importance_type='gain',\n",
    "        random_state=42,\n",
    "        verbose=-1,\n",
    "    )\n",
    "    clf.fit(\n",
    "        X_train[emb_names_rdcd], X_train[label],\n",
    "        eval_set=(X_valid[emb_names_rdcd], X_valid[label])\n",
    "    )\n",
    "\n",
    "    X[f'pred_{i+1}'] = clf.predict_proba(X[clf.feature_name_])[:, 1]\n",
    "    clfs.append(clf)"
   ]
  },
  {
   "cell_type": "code",
   "execution_count": 115,
   "metadata": {
    "executionInfo": {
     "elapsed": 344,
     "status": "ok",
     "timestamp": 1738090361819,
     "user": {
      "displayName": "Eugene O'Leary",
      "userId": "15546787906852777125"
     },
     "user_tz": -180
    },
    "id": "YCcP4kDk5sl5"
   },
   "outputs": [],
   "source": [
    "from sklearn.metrics import roc_auc_score\n",
    "\n",
    "def multi_roc_auc(x, pred_prefix='pred'):\n",
    "    out = {}\n",
    "    for idx, label in enumerate(trgt_names):\n",
    "        out[label] = roc_auc_score(x[label], x[f\"{pred_prefix}_{idx+1}\"])\n",
    "    return pd.Series(out)"
   ]
  },
  {
   "cell_type": "code",
   "execution_count": 108,
   "metadata": {
    "colab": {
     "base_uri": "https://localhost:8080/",
     "height": 229
    },
    "executionInfo": {
     "elapsed": 1843,
     "status": "ok",
     "timestamp": 1738090143563,
     "user": {
      "displayName": "Eugene O'Leary",
      "userId": "15546787906852777125"
     },
     "user_tz": -180
    },
    "id": "QPFo4XieEaG0",
    "outputId": "c1bf3554-dfe6-4368-8d4c-777259642370"
   },
   "outputs": [
    {
     "name": "stderr",
     "output_type": "stream",
     "text": [
      "<ipython-input-108-fd48df600f3e>:3: DeprecationWarning: DataFrameGroupBy.apply operated on the grouping columns. This behavior is deprecated, and in a future version of pandas the grouping columns will be excluded from the operation. Either pass `include_groups=False` to exclude the groupings or explicitly select the grouping columns after groupby to silence this warning.\n",
      "  .apply(multi_roc_auc)\\\n"
     ]
    },
    {
     "data": {
      "application/vnd.google.colaboratory.intrinsic+json": {
       "summary": "{\n  \"name\": \"    \",\n  \"rows\": 3,\n  \"fields\": [\n    {\n      \"column\": \"SET\",\n      \"properties\": {\n        \"dtype\": \"string\",\n        \"num_unique_values\": 3,\n        \"samples\": [\n          \"train\",\n          \"valid\",\n          \"test\"\n        ],\n        \"semantic_type\": \"\",\n        \"description\": \"\"\n      }\n    },\n    {\n      \"column\": \"target_1\",\n      \"properties\": {\n        \"dtype\": \"number\",\n        \"std\": 0.022769266004794633,\n        \"min\": 0.4799198232438449,\n        \"max\": 0.5228473150063341,\n        \"num_unique_values\": 3,\n        \"samples\": [\n          0.5228473150063341,\n          0.4799198232438449,\n          0.4882214544991125\n        ],\n        \"semantic_type\": \"\",\n        \"description\": \"\"\n      }\n    },\n    {\n      \"column\": \"target_2\",\n      \"properties\": {\n        \"dtype\": \"number\",\n        \"std\": 0.050906430752627095,\n        \"min\": 0.4665814940215355,\n        \"max\": 0.5678580523545422,\n        \"num_unique_values\": 3,\n        \"samples\": [\n          0.5678580523545422,\n          0.5262579215095626,\n          0.4665814940215355\n        ],\n        \"semantic_type\": \"\",\n        \"description\": \"\"\n      }\n    },\n    {\n      \"column\": \"target_3\",\n      \"properties\": {\n        \"dtype\": \"number\",\n        \"std\": 0.07472902977179677,\n        \"min\": 0.5390364058266699,\n        \"max\": 0.6740552025125934,\n        \"num_unique_values\": 3,\n        \"samples\": [\n          0.6740552025125934,\n          0.5510415063358945,\n          0.5390364058266699\n        ],\n        \"semantic_type\": \"\",\n        \"description\": \"\"\n      }\n    },\n    {\n      \"column\": \"target_4\",\n      \"properties\": {\n        \"dtype\": \"number\",\n        \"std\": 0.07847959104751905,\n        \"min\": 0.5204517949793679,\n        \"max\": 0.6742129016993567,\n        \"num_unique_values\": 3,\n        \"samples\": [\n          0.6742129016993567,\n          0.5204517949793679,\n          0.5700325282274886\n        ],\n        \"semantic_type\": \"\",\n        \"description\": \"\"\n      }\n    }\n  ]\n}",
       "type": "dataframe"
      },
      "text/html": [
       "\n",
       "  <div id=\"df-294f58b4-d2c1-4082-adc9-6a0bb9292766\" class=\"colab-df-container\">\n",
       "    <div>\n",
       "<style scoped>\n",
       "    .dataframe tbody tr th:only-of-type {\n",
       "        vertical-align: middle;\n",
       "    }\n",
       "\n",
       "    .dataframe tbody tr th {\n",
       "        vertical-align: top;\n",
       "    }\n",
       "\n",
       "    .dataframe thead th {\n",
       "        text-align: right;\n",
       "    }\n",
       "</style>\n",
       "<table border=\"1\" class=\"dataframe\">\n",
       "  <thead>\n",
       "    <tr style=\"text-align: right;\">\n",
       "      <th></th>\n",
       "      <th>target_1</th>\n",
       "      <th>target_2</th>\n",
       "      <th>target_3</th>\n",
       "      <th>target_4</th>\n",
       "    </tr>\n",
       "    <tr>\n",
       "      <th>SET</th>\n",
       "      <th></th>\n",
       "      <th></th>\n",
       "      <th></th>\n",
       "      <th></th>\n",
       "    </tr>\n",
       "  </thead>\n",
       "  <tbody>\n",
       "    <tr>\n",
       "      <th>train</th>\n",
       "      <td>0.522847</td>\n",
       "      <td>0.567858</td>\n",
       "      <td>0.674055</td>\n",
       "      <td>0.674213</td>\n",
       "    </tr>\n",
       "    <tr>\n",
       "      <th>valid</th>\n",
       "      <td>0.479920</td>\n",
       "      <td>0.526258</td>\n",
       "      <td>0.551042</td>\n",
       "      <td>0.520452</td>\n",
       "    </tr>\n",
       "    <tr>\n",
       "      <th>test</th>\n",
       "      <td>0.488221</td>\n",
       "      <td>0.466581</td>\n",
       "      <td>0.539036</td>\n",
       "      <td>0.570033</td>\n",
       "    </tr>\n",
       "  </tbody>\n",
       "</table>\n",
       "</div>\n",
       "    <div class=\"colab-df-buttons\">\n",
       "\n",
       "  <div class=\"colab-df-container\">\n",
       "    <button class=\"colab-df-convert\" onclick=\"convertToInteractive('df-294f58b4-d2c1-4082-adc9-6a0bb9292766')\"\n",
       "            title=\"Convert this dataframe to an interactive table.\"\n",
       "            style=\"display:none;\">\n",
       "\n",
       "  <svg xmlns=\"http://www.w3.org/2000/svg\" height=\"24px\" viewBox=\"0 -960 960 960\">\n",
       "    <path d=\"M120-120v-720h720v720H120Zm60-500h600v-160H180v160Zm220 220h160v-160H400v160Zm0 220h160v-160H400v160ZM180-400h160v-160H180v160Zm440 0h160v-160H620v160ZM180-180h160v-160H180v160Zm440 0h160v-160H620v160Z\"/>\n",
       "  </svg>\n",
       "    </button>\n",
       "\n",
       "  <style>\n",
       "    .colab-df-container {\n",
       "      display:flex;\n",
       "      gap: 12px;\n",
       "    }\n",
       "\n",
       "    .colab-df-convert {\n",
       "      background-color: #E8F0FE;\n",
       "      border: none;\n",
       "      border-radius: 50%;\n",
       "      cursor: pointer;\n",
       "      display: none;\n",
       "      fill: #1967D2;\n",
       "      height: 32px;\n",
       "      padding: 0 0 0 0;\n",
       "      width: 32px;\n",
       "    }\n",
       "\n",
       "    .colab-df-convert:hover {\n",
       "      background-color: #E2EBFA;\n",
       "      box-shadow: 0px 1px 2px rgba(60, 64, 67, 0.3), 0px 1px 3px 1px rgba(60, 64, 67, 0.15);\n",
       "      fill: #174EA6;\n",
       "    }\n",
       "\n",
       "    .colab-df-buttons div {\n",
       "      margin-bottom: 4px;\n",
       "    }\n",
       "\n",
       "    [theme=dark] .colab-df-convert {\n",
       "      background-color: #3B4455;\n",
       "      fill: #D2E3FC;\n",
       "    }\n",
       "\n",
       "    [theme=dark] .colab-df-convert:hover {\n",
       "      background-color: #434B5C;\n",
       "      box-shadow: 0px 1px 3px 1px rgba(0, 0, 0, 0.15);\n",
       "      filter: drop-shadow(0px 1px 2px rgba(0, 0, 0, 0.3));\n",
       "      fill: #FFFFFF;\n",
       "    }\n",
       "  </style>\n",
       "\n",
       "    <script>\n",
       "      const buttonEl =\n",
       "        document.querySelector('#df-294f58b4-d2c1-4082-adc9-6a0bb9292766 button.colab-df-convert');\n",
       "      buttonEl.style.display =\n",
       "        google.colab.kernel.accessAllowed ? 'block' : 'none';\n",
       "\n",
       "      async function convertToInteractive(key) {\n",
       "        const element = document.querySelector('#df-294f58b4-d2c1-4082-adc9-6a0bb9292766');\n",
       "        const dataTable =\n",
       "          await google.colab.kernel.invokeFunction('convertToInteractive',\n",
       "                                                    [key], {});\n",
       "        if (!dataTable) return;\n",
       "\n",
       "        const docLinkHtml = 'Like what you see? Visit the ' +\n",
       "          '<a target=\"_blank\" href=https://colab.research.google.com/notebooks/data_table.ipynb>data table notebook</a>'\n",
       "          + ' to learn more about interactive tables.';\n",
       "        element.innerHTML = '';\n",
       "        dataTable['output_type'] = 'display_data';\n",
       "        await google.colab.output.renderOutput(dataTable, element);\n",
       "        const docLink = document.createElement('div');\n",
       "        docLink.innerHTML = docLinkHtml;\n",
       "        element.appendChild(docLink);\n",
       "      }\n",
       "    </script>\n",
       "  </div>\n",
       "\n",
       "\n",
       "<div id=\"df-221ac6e3-85c2-4a7f-a5ed-7cb5bfa09752\">\n",
       "  <button class=\"colab-df-quickchart\" onclick=\"quickchart('df-221ac6e3-85c2-4a7f-a5ed-7cb5bfa09752')\"\n",
       "            title=\"Suggest charts\"\n",
       "            style=\"display:none;\">\n",
       "\n",
       "<svg xmlns=\"http://www.w3.org/2000/svg\" height=\"24px\"viewBox=\"0 0 24 24\"\n",
       "     width=\"24px\">\n",
       "    <g>\n",
       "        <path d=\"M19 3H5c-1.1 0-2 .9-2 2v14c0 1.1.9 2 2 2h14c1.1 0 2-.9 2-2V5c0-1.1-.9-2-2-2zM9 17H7v-7h2v7zm4 0h-2V7h2v10zm4 0h-2v-4h2v4z\"/>\n",
       "    </g>\n",
       "</svg>\n",
       "  </button>\n",
       "\n",
       "<style>\n",
       "  .colab-df-quickchart {\n",
       "      --bg-color: #E8F0FE;\n",
       "      --fill-color: #1967D2;\n",
       "      --hover-bg-color: #E2EBFA;\n",
       "      --hover-fill-color: #174EA6;\n",
       "      --disabled-fill-color: #AAA;\n",
       "      --disabled-bg-color: #DDD;\n",
       "  }\n",
       "\n",
       "  [theme=dark] .colab-df-quickchart {\n",
       "      --bg-color: #3B4455;\n",
       "      --fill-color: #D2E3FC;\n",
       "      --hover-bg-color: #434B5C;\n",
       "      --hover-fill-color: #FFFFFF;\n",
       "      --disabled-bg-color: #3B4455;\n",
       "      --disabled-fill-color: #666;\n",
       "  }\n",
       "\n",
       "  .colab-df-quickchart {\n",
       "    background-color: var(--bg-color);\n",
       "    border: none;\n",
       "    border-radius: 50%;\n",
       "    cursor: pointer;\n",
       "    display: none;\n",
       "    fill: var(--fill-color);\n",
       "    height: 32px;\n",
       "    padding: 0;\n",
       "    width: 32px;\n",
       "  }\n",
       "\n",
       "  .colab-df-quickchart:hover {\n",
       "    background-color: var(--hover-bg-color);\n",
       "    box-shadow: 0 1px 2px rgba(60, 64, 67, 0.3), 0 1px 3px 1px rgba(60, 64, 67, 0.15);\n",
       "    fill: var(--button-hover-fill-color);\n",
       "  }\n",
       "\n",
       "  .colab-df-quickchart-complete:disabled,\n",
       "  .colab-df-quickchart-complete:disabled:hover {\n",
       "    background-color: var(--disabled-bg-color);\n",
       "    fill: var(--disabled-fill-color);\n",
       "    box-shadow: none;\n",
       "  }\n",
       "\n",
       "  .colab-df-spinner {\n",
       "    border: 2px solid var(--fill-color);\n",
       "    border-color: transparent;\n",
       "    border-bottom-color: var(--fill-color);\n",
       "    animation:\n",
       "      spin 1s steps(1) infinite;\n",
       "  }\n",
       "\n",
       "  @keyframes spin {\n",
       "    0% {\n",
       "      border-color: transparent;\n",
       "      border-bottom-color: var(--fill-color);\n",
       "      border-left-color: var(--fill-color);\n",
       "    }\n",
       "    20% {\n",
       "      border-color: transparent;\n",
       "      border-left-color: var(--fill-color);\n",
       "      border-top-color: var(--fill-color);\n",
       "    }\n",
       "    30% {\n",
       "      border-color: transparent;\n",
       "      border-left-color: var(--fill-color);\n",
       "      border-top-color: var(--fill-color);\n",
       "      border-right-color: var(--fill-color);\n",
       "    }\n",
       "    40% {\n",
       "      border-color: transparent;\n",
       "      border-right-color: var(--fill-color);\n",
       "      border-top-color: var(--fill-color);\n",
       "    }\n",
       "    60% {\n",
       "      border-color: transparent;\n",
       "      border-right-color: var(--fill-color);\n",
       "    }\n",
       "    80% {\n",
       "      border-color: transparent;\n",
       "      border-right-color: var(--fill-color);\n",
       "      border-bottom-color: var(--fill-color);\n",
       "    }\n",
       "    90% {\n",
       "      border-color: transparent;\n",
       "      border-bottom-color: var(--fill-color);\n",
       "    }\n",
       "  }\n",
       "</style>\n",
       "\n",
       "  <script>\n",
       "    async function quickchart(key) {\n",
       "      const quickchartButtonEl =\n",
       "        document.querySelector('#' + key + ' button');\n",
       "      quickchartButtonEl.disabled = true;  // To prevent multiple clicks.\n",
       "      quickchartButtonEl.classList.add('colab-df-spinner');\n",
       "      try {\n",
       "        const charts = await google.colab.kernel.invokeFunction(\n",
       "            'suggestCharts', [key], {});\n",
       "      } catch (error) {\n",
       "        console.error('Error during call to suggestCharts:', error);\n",
       "      }\n",
       "      quickchartButtonEl.classList.remove('colab-df-spinner');\n",
       "      quickchartButtonEl.classList.add('colab-df-quickchart-complete');\n",
       "    }\n",
       "    (() => {\n",
       "      let quickchartButtonEl =\n",
       "        document.querySelector('#df-221ac6e3-85c2-4a7f-a5ed-7cb5bfa09752 button');\n",
       "      quickchartButtonEl.style.display =\n",
       "        google.colab.kernel.accessAllowed ? 'block' : 'none';\n",
       "    })();\n",
       "  </script>\n",
       "</div>\n",
       "    </div>\n",
       "  </div>\n"
      ],
      "text/plain": [
       "       target_1  target_2  target_3  target_4\n",
       "SET                                          \n",
       "train  0.522847  0.567858  0.674055  0.674213\n",
       "valid  0.479920  0.526258  0.551042  0.520452\n",
       "test   0.488221  0.466581  0.539036  0.570033"
      ]
     },
     "execution_count": 108,
     "metadata": {},
     "output_type": "execute_result"
    }
   ],
   "source": [
    "X\\\n",
    "    .groupby('SET')\\\n",
    "    .apply(multi_roc_auc)\\\n",
    "    .loc[['train', 'valid','test']]"
   ]
  },
  {
   "cell_type": "code",
   "execution_count": 109,
   "metadata": {
    "colab": {
     "base_uri": "https://localhost:8080/",
     "height": 427
    },
    "executionInfo": {
     "elapsed": 250,
     "status": "ok",
     "timestamp": 1738090158477,
     "user": {
      "displayName": "Eugene O'Leary",
      "userId": "15546787906852777125"
     },
     "user_tz": -180
    },
    "id": "ifHCnYts5Do_",
    "outputId": "9b2ac3aa-b948-40af-f59b-70120d76d1c7"
   },
   "outputs": [
    {
     "data": {
      "text/plain": [
       "<Axes: title={'center': 'Feature importance'}, xlabel='Feature importance', ylabel='Features'>"
      ]
     },
     "execution_count": 109,
     "metadata": {},
     "output_type": "execute_result"
    },
    {
     "data": {
      "image/png": "[encoded data removed]",
      "text/plain": [
       "<Figure size 600x400 with 1 Axes>"
      ]
     },
     "metadata": {},
     "output_type": "display_data"
    }
   ],
   "source": [
    "lgbm.plot_importance(clf)"
   ]
  },
  {
   "cell_type": "markdown",
   "metadata": {},
   "source": [
    "Model inference for all samples"
   ]
  },
  {
   "cell_type": "code",
   "execution_count": 110,
   "metadata": {
    "executionInfo": {
     "elapsed": 188,
     "status": "ok",
     "timestamp": 1738090246181,
     "user": {
      "displayName": "Eugene O'Leary",
      "userId": "15546787906852777125"
     },
     "user_tz": -180
    },
    "id": "i89oUWUfP1Dt"
   },
   "outputs": [],
   "source": [
    "from sklearn.impute import SimpleImputer\n",
    "imp = SimpleImputer(missing_values=np.nan, strategy='mean')"
   ]
  },
  {
   "cell_type": "code",
   "execution_count": 113,
   "metadata": {
    "executionInfo": {
     "elapsed": 1050,
     "status": "ok",
     "timestamp": 1738090331696,
     "user": {
      "displayName": "Eugene O'Leary",
      "userId": "15546787906852777125"
     },
     "user_tz": -180
    },
    "id": "JBF9Gw9sEuKb"
   },
   "outputs": [],
   "source": [
    "X_to_score = dial_targets.copy()\n",
    "X_to_score[emb_names_rdcd] = imp.fit_transform(X_to_score[emb_names_rdcd])"
   ]
  },
  {
   "cell_type": "code",
   "execution_count": 116,
   "metadata": {
    "executionInfo": {
     "elapsed": 4681,
     "status": "ok",
     "timestamp": 1738090399653,
     "user": {
      "displayName": "Eugene O'Leary",
      "userId": "15546787906852777125"
     },
     "user_tz": -180
    },
    "id": "f5gMlKEsFGcy"
   },
   "outputs": [],
   "source": [
    "for i, label in enumerate(trgt_names):\n",
    "    clf = clfs[i]\n",
    "    X_to_score[f'pred_dial_{i+1}'] = clf.predict_proba(X_to_score[clf.feature_name_])[:, 1]"
   ]
  },
  {
   "cell_type": "code",
   "execution_count": 117,
   "metadata": {
    "colab": {
     "base_uri": "https://localhost:8080/",
     "height": 209
    },
    "executionInfo": {
     "elapsed": 3072,
     "status": "ok",
     "timestamp": 1738090428414,
     "user": {
      "displayName": "Eugene O'Leary",
      "userId": "15546787906852777125"
     },
     "user_tz": -180
    },
    "id": "y7y-f_G3QpbK",
    "outputId": "5844fc9e-09a7-4687-89b8-de6d4e77e2fc"
   },
   "outputs": [
    {
     "data": {
      "text/html": [
       "<div>\n",
       "<style scoped>\n",
       "    .dataframe tbody tr th:only-of-type {\n",
       "        vertical-align: middle;\n",
       "    }\n",
       "\n",
       "    .dataframe tbody tr th {\n",
       "        vertical-align: top;\n",
       "    }\n",
       "\n",
       "    .dataframe thead th {\n",
       "        text-align: right;\n",
       "    }\n",
       "</style>\n",
       "<table border=\"1\" class=\"dataframe\">\n",
       "  <thead>\n",
       "    <tr style=\"text-align: right;\">\n",
       "      <th></th>\n",
       "      <th>0</th>\n",
       "    </tr>\n",
       "  </thead>\n",
       "  <tbody>\n",
       "    <tr>\n",
       "      <th>target_1</th>\n",
       "      <td>0.513026</td>\n",
       "    </tr>\n",
       "    <tr>\n",
       "      <th>target_2</th>\n",
       "      <td>0.545152</td>\n",
       "    </tr>\n",
       "    <tr>\n",
       "      <th>target_3</th>\n",
       "      <td>0.679458</td>\n",
       "    </tr>\n",
       "    <tr>\n",
       "      <th>target_4</th>\n",
       "      <td>0.625476</td>\n",
       "    </tr>\n",
       "  </tbody>\n",
       "</table>\n",
       "</div><br><label><b>dtype:</b> float64</label>"
      ],
      "text/plain": [
       "target_1    0.513026\n",
       "target_2    0.545152\n",
       "target_3    0.679458\n",
       "target_4    0.625476\n",
       "dtype: float64"
      ]
     },
     "execution_count": 117,
     "metadata": {},
     "output_type": "execute_result"
    }
   ],
   "source": [
    "multi_roc_auc(X_to_score, pred_prefix='pred_dial')"
   ]
  },
  {
   "cell_type": "code",
   "execution_count": 118,
   "metadata": {
    "executionInfo": {
     "elapsed": 1070,
     "status": "ok",
     "timestamp": 1738090443934,
     "user": {
      "displayName": "Eugene O'Leary",
      "userId": "15546787906852777125"
     },
     "user_tz": -180
    },
    "id": "JZjMBs_uF6gt"
   },
   "outputs": [],
   "source": [
    "X_to_score[['client_id', 'mon', *trgt_names, 'pred_dial_1', 'pred_dial_2', 'pred_dial_3', 'pred_dial_4']].to_parquet('data_scored_dial.parquet')"
   ]
  },
  {
   "cell_type": "markdown",
   "metadata": {
    "id": "1uCrCPbk3XBD"
   },
   "source": [
    "## Transaction aggregates"
   ]
  },
  {
   "cell_type": "code",
   "execution_count": 119,
   "metadata": {
    "executionInfo": {
     "elapsed": 1527,
     "status": "ok",
     "timestamp": 1738090447550,
     "user": {
      "displayName": "Eugene O'Leary",
      "userId": "15546787906852777125"
     },
     "user_tz": -180
    },
    "id": "xgz3rdp94IaJ"
   },
   "outputs": [],
   "source": [
    "trx_agg = pd.read_parquet('drive/MyDrive/SberIndexTest/data/preproc/trx_agg')"
   ]
  },
  {
   "cell_type": "code",
   "execution_count": 120,
   "metadata": {
    "executionInfo": {
     "elapsed": 1774,
     "status": "ok",
     "timestamp": 1738090449321,
     "user": {
      "displayName": "Eugene O'Leary",
      "userId": "15546787906852777125"
     },
     "user_tz": -180
    },
    "id": "_JDZzQ4j4hmI"
   },
   "outputs": [],
   "source": [
    "trx_targets = targets\\\n",
    "    .merge(trx_agg , on=['client_id', 'mon'], how='left')"
   ]
  },
  {
   "cell_type": "code",
   "execution_count": 142,
   "metadata": {
    "colab": {
     "base_uri": "https://localhost:8080/"
    },
    "executionInfo": {
     "elapsed": 1241,
     "status": "ok",
     "timestamp": 1738091577750,
     "user": {
      "displayName": "Eugene O'Leary",
      "userId": "15546787906852777125"
     },
     "user_tz": -180
    },
    "id": "IysHnyvGVGb_",
    "outputId": "6f52e0b1-ab07-4614-d7a7-26e712edf737"
   },
   "outputs": [
    {
     "data": {
      "text/plain": [
       "True"
      ]
     },
     "execution_count": 142,
     "metadata": {},
     "output_type": "execute_result"
    }
   ],
   "source": [
    "trx_targets[['client_id', 'mon']].duplicated().any()"
   ]
  },
  {
   "cell_type": "code",
   "execution_count": 144,
   "metadata": {
    "executionInfo": {
     "elapsed": 968,
     "status": "ok",
     "timestamp": 1738091692753,
     "user": {
      "displayName": "Eugene O'Leary",
      "userId": "15546787906852777125"
     },
     "user_tz": -180
    },
    "id": "TSG9er5vVioP"
   },
   "outputs": [],
   "source": [
    "trx_targets.drop_duplicates(subset=['client_id', 'mon'], inplace=True)"
   ]
  },
  {
   "cell_type": "code",
   "execution_count": 145,
   "metadata": {
    "executionInfo": {
     "elapsed": 203,
     "status": "ok",
     "timestamp": 1738091724393,
     "user": {
      "displayName": "Eugene O'Leary",
      "userId": "15546787906852777125"
     },
     "user_tz": -180
    },
    "id": "vRtxkN6R4cCU"
   },
   "outputs": [],
   "source": [
    "trx_names = [x for x in trx_targets.columns if x.startswith('trx_')]\n",
    "cat_cols = ['trx_src22_mode', 'trx_src32_mode']"
   ]
  },
  {
   "cell_type": "markdown",
   "metadata": {
    "id": "lvghAwwg6xFI"
   },
   "source": [
    "A client has no transactions in time period => fill aggregates with NaNs"
   ]
  },
  {
   "cell_type": "code",
   "execution_count": 146,
   "metadata": {
    "executionInfo": {
     "elapsed": 8,
     "status": "ok",
     "timestamp": 1738091724599,
     "user": {
      "displayName": "Eugene O'Leary",
      "userId": "15546787906852777125"
     },
     "user_tz": -180
    },
    "id": "ml-dzKgd6ohD"
   },
   "outputs": [],
   "source": [
    "trx_targets.loc[trx_targets['trx_cnt_1m'] == 0, ['trx_sum_1m', 'trx_max_1m']] = np.nan\n",
    "trx_targets.loc[trx_targets['trx_cnt_3m'] == 0, ['trx_sum_3m', 'trx_max_3m']] = np.nan\n",
    "trx_targets.loc[trx_targets['trx_cnt_6m'] == 0, ['trx_sum_6m', 'trx_max_6m']] = np.nan"
   ]
  },
  {
   "cell_type": "code",
   "execution_count": 147,
   "metadata": {
    "colab": {
     "base_uri": "https://localhost:8080/"
    },
    "executionInfo": {
     "elapsed": 805,
     "status": "ok",
     "timestamp": 1738091725398,
     "user": {
      "displayName": "Eugene O'Leary",
      "userId": "15546787906852777125"
     },
     "user_tz": -180
    },
    "id": "5dLozJFp7J1X",
    "outputId": "b0f2cadb-2ff5-4947-8fda-de21e48e6b3d"
   },
   "outputs": [
    {
     "name": "stdout",
     "output_type": "stream",
     "text": [
      "<class 'pandas.core.frame.DataFrame'>\n",
      "Index: 1202688 entries, 0 to 1378509\n",
      "Data columns (total 21 columns):\n",
      " #   Column          Non-Null Count    Dtype  \n",
      "---  ------          --------------    -----  \n",
      " 0   client_id       1202688 non-null  object \n",
      " 1   mon             1202688 non-null  object \n",
      " 2   target_1        1202688 non-null  int32  \n",
      " 3   target_2        1202688 non-null  int32  \n",
      " 4   target_3        1202688 non-null  int32  \n",
      " 5   target_4        1202688 non-null  int32  \n",
      " 6   target_concat   1202688 non-null  object \n",
      " 7   target_label    1202688 non-null  int64  \n",
      " 8   trx_cnt_1m      1125467 non-null  float64\n",
      " 9   trx_sum_1m      847946 non-null   float64\n",
      " 10  trx_max_1m      847946 non-null   float32\n",
      " 11  trx_cnt_3m      1125467 non-null  float64\n",
      " 12  trx_sum_3m      1017243 non-null  float64\n",
      " 13  trx_max_3m      1017243 non-null  float32\n",
      " 14  trx_cnt_6m      1125467 non-null  float64\n",
      " 15  trx_sum_6m      1073553 non-null  float64\n",
      " 16  trx_max_6m      1073553 non-null  float32\n",
      " 17  trx_et_mode     1125467 non-null  float64\n",
      " 18  trx_est_mode    1125467 non-null  float64\n",
      " 19  trx_src22_mode  1125467 non-null  float64\n",
      " 20  trx_src32_mode  1125467 non-null  float64\n",
      "dtypes: float32(3), float64(10), int32(4), int64(1), object(3)\n",
      "memory usage: 169.8+ MB\n"
     ]
    }
   ],
   "source": [
    "trx_targets.info()"
   ]
  },
  {
   "cell_type": "markdown",
   "metadata": {},
   "source": [
    "At training stage replace samples that have all aggregates missing"
   ]
  },
  {
   "cell_type": "code",
   "execution_count": 148,
   "metadata": {
    "executionInfo": {
     "elapsed": 5,
     "status": "ok",
     "timestamp": 1738091725398,
     "user": {
      "displayName": "Eugene O'Leary",
      "userId": "15546787906852777125"
     },
     "user_tz": -180
    },
    "id": "C0_HCC8U7w5-"
   },
   "outputs": [],
   "source": [
    "X_trx = trx_targets\\\n",
    "    .dropna(subset=trx_names, how='all')\\\n",
    "    .copy()"
   ]
  },
  {
   "cell_type": "code",
   "execution_count": 149,
   "metadata": {
    "colab": {
     "base_uri": "https://localhost:8080/"
    },
    "executionInfo": {
     "elapsed": 551,
     "status": "ok",
     "timestamp": 1738091725944,
     "user": {
      "displayName": "Eugene O'Leary",
      "userId": "15546787906852777125"
     },
     "user_tz": -180
    },
    "id": "3QmLTeOlRizJ",
    "outputId": "972b710b-bedc-4cfb-f6e6-74574de9d481"
   },
   "outputs": [
    {
     "name": "stdout",
     "output_type": "stream",
     "text": [
      "<class 'pandas.core.frame.DataFrame'>\n",
      "Index: 1125467 entries, 0 to 1378509\n",
      "Data columns (total 21 columns):\n",
      " #   Column          Non-Null Count    Dtype  \n",
      "---  ------          --------------    -----  \n",
      " 0   client_id       1125467 non-null  object \n",
      " 1   mon             1125467 non-null  object \n",
      " 2   target_1        1125467 non-null  int32  \n",
      " 3   target_2        1125467 non-null  int32  \n",
      " 4   target_3        1125467 non-null  int32  \n",
      " 5   target_4        1125467 non-null  int32  \n",
      " 6   target_concat   1125467 non-null  object \n",
      " 7   target_label    1125467 non-null  int64  \n",
      " 8   trx_cnt_1m      1125467 non-null  float64\n",
      " 9   trx_sum_1m      847946 non-null   float64\n",
      " 10  trx_max_1m      847946 non-null   float32\n",
      " 11  trx_cnt_3m      1125467 non-null  float64\n",
      " 12  trx_sum_3m      1017243 non-null  float64\n",
      " 13  trx_max_3m      1017243 non-null  float32\n",
      " 14  trx_cnt_6m      1125467 non-null  float64\n",
      " 15  trx_sum_6m      1073553 non-null  float64\n",
      " 16  trx_max_6m      1073553 non-null  float32\n",
      " 17  trx_et_mode     1125467 non-null  float64\n",
      " 18  trx_est_mode    1125467 non-null  float64\n",
      " 19  trx_src22_mode  1125467 non-null  float64\n",
      " 20  trx_src32_mode  1125467 non-null  float64\n",
      "dtypes: float32(3), float64(10), int32(4), int64(1), object(3)\n",
      "memory usage: 158.9+ MB\n"
     ]
    }
   ],
   "source": [
    "X_trx.info()"
   ]
  },
  {
   "cell_type": "markdown",
   "metadata": {
    "id": "hB5sLiV18Mpz"
   },
   "source": [
    "Impute remaining missing values with mean by columns"
   ]
  },
  {
   "cell_type": "code",
   "execution_count": 150,
   "metadata": {
    "executionInfo": {
     "elapsed": 236,
     "status": "ok",
     "timestamp": 1738091726178,
     "user": {
      "displayName": "Eugene O'Leary",
      "userId": "15546787906852777125"
     },
     "user_tz": -180
    },
    "id": "_CKQoAf4RGPZ"
   },
   "outputs": [],
   "source": [
    "imp = SimpleImputer(missing_values=np.nan, strategy='mean')\n",
    "X_trx[trx_names] = imp.fit_transform(X_trx[trx_names])"
   ]
  },
  {
   "cell_type": "code",
   "execution_count": 151,
   "metadata": {
    "executionInfo": {
     "elapsed": 3,
     "status": "ok",
     "timestamp": 1738091726178,
     "user": {
      "displayName": "Eugene O'Leary",
      "userId": "15546787906852777125"
     },
     "user_tz": -180
    },
    "id": "zziFEWeIGgnF"
   },
   "outputs": [],
   "source": [
    "X_trx[cat_cols] = X_trx[cat_cols].astype('category')"
   ]
  },
  {
   "cell_type": "code",
   "execution_count": 152,
   "metadata": {
    "executionInfo": {
     "elapsed": 1406,
     "status": "ok",
     "timestamp": 1738091727581,
     "user": {
      "displayName": "Eugene O'Leary",
      "userId": "15546787906852777125"
     },
     "user_tz": -180
    },
    "id": "DLaCkzEw-OV4"
   },
   "outputs": [],
   "source": [
    "X_trx_dev, X_trx_test = train_test_split(X_trx, random_state=42, train_size=0.75)\n",
    "X_trx_train, X_trx_valid = train_test_split(X_trx_dev, random_state=42, train_size=0.8)"
   ]
  },
  {
   "cell_type": "code",
   "execution_count": 153,
   "metadata": {
    "executionInfo": {
     "elapsed": 214,
     "status": "ok",
     "timestamp": 1738091727791,
     "user": {
      "displayName": "Eugene O'Leary",
      "userId": "15546787906852777125"
     },
     "user_tz": -180
    },
    "id": "7M3CoN1d-OV5"
   },
   "outputs": [],
   "source": [
    "X_trx.loc[X_trx_train.index, 'SET'] = 'train'\n",
    "X_trx.loc[X_trx_valid.index, 'SET'] = 'valid'\n",
    "X_trx.loc[X_trx_test.index, 'SET'] = 'test'"
   ]
  },
  {
   "cell_type": "code",
   "execution_count": 154,
   "metadata": {
    "colab": {
     "base_uri": "https://localhost:8080/"
    },
    "collapsed": true,
    "executionInfo": {
     "elapsed": 32145,
     "status": "ok",
     "timestamp": 1738091759934,
     "user": {
      "displayName": "Eugene O'Leary",
      "userId": "15546787906852777125"
     },
     "user_tz": -180
    },
    "id": "XVKi018N-OV6",
    "jupyter": {
     "outputs_hidden": true
    },
    "outputId": "712f6214-4010-4299-9c8d-d96b4006832b"
   },
   "outputs": [
    {
     "name": "stderr",
     "output_type": "stream",
     "text": [
      "/usr/local/lib/python3.11/dist-packages/lightgbm/basic.py:2118: UserWarning: categorical_feature keyword has been found in `params` and will be ignored.\n",
      "Please use categorical_feature argument of the Dataset constructor to pass this parameter.\n",
      "  _log_warning(\n",
      "/usr/local/lib/python3.11/dist-packages/lightgbm/basic.py:2140: UserWarning: categorical_feature in param dict is overridden.\n",
      "  _log_warning(f\"{cat_alias} in param dict is overridden.\")\n",
      "/usr/local/lib/python3.11/dist-packages/lightgbm/basic.py:2118: UserWarning: categorical_feature keyword has been found in `params` and will be ignored.\n",
      "Please use categorical_feature argument of the Dataset constructor to pass this parameter.\n",
      "  _log_warning(\n",
      "/usr/local/lib/python3.11/dist-packages/lightgbm/basic.py:2140: UserWarning: categorical_feature in param dict is overridden.\n",
      "  _log_warning(f\"{cat_alias} in param dict is overridden.\")\n",
      "/usr/local/lib/python3.11/dist-packages/lightgbm/basic.py:2118: UserWarning: categorical_feature keyword has been found in `params` and will be ignored.\n",
      "Please use categorical_feature argument of the Dataset constructor to pass this parameter.\n",
      "  _log_warning(\n",
      "/usr/local/lib/python3.11/dist-packages/lightgbm/basic.py:2140: UserWarning: categorical_feature in param dict is overridden.\n",
      "  _log_warning(f\"{cat_alias} in param dict is overridden.\")\n",
      "/usr/local/lib/python3.11/dist-packages/lightgbm/basic.py:2118: UserWarning: categorical_feature keyword has been found in `params` and will be ignored.\n",
      "Please use categorical_feature argument of the Dataset constructor to pass this parameter.\n",
      "  _log_warning(\n",
      "/usr/local/lib/python3.11/dist-packages/lightgbm/basic.py:2140: UserWarning: categorical_feature in param dict is overridden.\n",
      "  _log_warning(f\"{cat_alias} in param dict is overridden.\")\n",
      "/usr/local/lib/python3.11/dist-packages/lightgbm/basic.py:2118: UserWarning: categorical_feature keyword has been found in `params` and will be ignored.\n",
      "Please use categorical_feature argument of the Dataset constructor to pass this parameter.\n",
      "  _log_warning(\n",
      "/usr/local/lib/python3.11/dist-packages/lightgbm/basic.py:2140: UserWarning: categorical_feature in param dict is overridden.\n",
      "  _log_warning(f\"{cat_alias} in param dict is overridden.\")\n",
      "/usr/local/lib/python3.11/dist-packages/lightgbm/basic.py:2118: UserWarning: categorical_feature keyword has been found in `params` and will be ignored.\n",
      "Please use categorical_feature argument of the Dataset constructor to pass this parameter.\n",
      "  _log_warning(\n",
      "/usr/local/lib/python3.11/dist-packages/lightgbm/basic.py:2140: UserWarning: categorical_feature in param dict is overridden.\n",
      "  _log_warning(f\"{cat_alias} in param dict is overridden.\")\n",
      "/usr/local/lib/python3.11/dist-packages/lightgbm/basic.py:2118: UserWarning: categorical_feature keyword has been found in `params` and will be ignored.\n",
      "Please use categorical_feature argument of the Dataset constructor to pass this parameter.\n",
      "  _log_warning(\n",
      "/usr/local/lib/python3.11/dist-packages/lightgbm/basic.py:2140: UserWarning: categorical_feature in param dict is overridden.\n",
      "  _log_warning(f\"{cat_alias} in param dict is overridden.\")\n",
      "/usr/local/lib/python3.11/dist-packages/lightgbm/basic.py:2118: UserWarning: categorical_feature keyword has been found in `params` and will be ignored.\n",
      "Please use categorical_feature argument of the Dataset constructor to pass this parameter.\n",
      "  _log_warning(\n",
      "/usr/local/lib/python3.11/dist-packages/lightgbm/basic.py:2140: UserWarning: categorical_feature in param dict is overridden.\n",
      "  _log_warning(f\"{cat_alias} in param dict is overridden.\")\n"
     ]
    }
   ],
   "source": [
    "clfs_trx = []\n",
    "for i, label in enumerate(trgt_names):\n",
    "    clf = LGBMClassifier(\n",
    "        objective='binary',\n",
    "        max_depth=4,\n",
    "        n_estimators=500,\n",
    "        early_stopping_rounds=10,\n",
    "        importance_type='gain',\n",
    "        random_state=42,\n",
    "        verbose=-1,\n",
    "        categorical_feature=cat_cols\n",
    "    )\n",
    "    clf.fit(\n",
    "        X_trx_train[trx_names], X_trx_train[label],\n",
    "        eval_set=(X_trx_valid[trx_names], X_trx_valid[label])\n",
    "    )\n",
    "\n",
    "    X_trx[f'pred_{i+1}'] = clf.predict_proba(X_trx[clf.feature_name_])[:, 1]\n",
    "    clfs_trx.append(clf)"
   ]
  },
  {
   "cell_type": "code",
   "execution_count": 192,
   "metadata": {
    "colab": {
     "base_uri": "https://localhost:8080/",
     "height": 427
    },
    "id": "hq-D_oCOjpul",
    "outputId": "4634dcf1-e135-46f0-afb5-57044c197831"
   },
   "outputs": [
    {
     "data": {
      "text/plain": [
       "<Axes: title={'center': 'Feature importance'}, xlabel='Feature importance', ylabel='Features'>"
      ]
     },
     "execution_count": 192,
     "metadata": {},
     "output_type": "execute_result"
    },
    {
     "data": {
      "image/png": "[encoded data removed]",
      "text/plain": [
       "<Figure size 600x400 with 1 Axes>"
      ]
     },
     "metadata": {},
     "output_type": "display_data"
    }
   ],
   "source": [
    "lgbm.plot_importance(clf)"
   ]
  },
  {
   "cell_type": "code",
   "execution_count": 156,
   "metadata": {
    "colab": {
     "base_uri": "https://localhost:8080/",
     "height": 229
    },
    "executionInfo": {
     "elapsed": 2174,
     "status": "ok",
     "timestamp": 1738091776117,
     "user": {
      "displayName": "Eugene O'Leary",
      "userId": "15546787906852777125"
     },
     "user_tz": -180
    },
    "id": "H5CZosJ0Vw7u",
    "outputId": "d6e8f664-5742-4513-f613-038f7e16a0b3"
   },
   "outputs": [
    {
     "name": "stderr",
     "output_type": "stream",
     "text": [
      "<ipython-input-156-2e8d91efeb84>:3: DeprecationWarning: DataFrameGroupBy.apply operated on the grouping columns. This behavior is deprecated, and in a future version of pandas the grouping columns will be excluded from the operation. Either pass `include_groups=False` to exclude the groupings or explicitly select the grouping columns after groupby to silence this warning.\n",
      "  .apply(multi_roc_auc)\\\n"
     ]
    },
    {
     "data": {
      "application/vnd.google.colaboratory.intrinsic+json": {
       "summary": "{\n  \"name\": \"    \",\n  \"rows\": 3,\n  \"fields\": [\n    {\n      \"column\": \"SET\",\n      \"properties\": {\n        \"dtype\": \"string\",\n        \"num_unique_values\": 3,\n        \"samples\": [\n          \"train\",\n          \"valid\",\n          \"test\"\n        ],\n        \"semantic_type\": \"\",\n        \"description\": \"\"\n      }\n    },\n    {\n      \"column\": \"target_1\",\n      \"properties\": {\n        \"dtype\": \"number\",\n        \"std\": 0.02011117546585804,\n        \"min\": 0.7755802968671952,\n        \"max\": 0.8141789629175531,\n        \"num_unique_values\": 3,\n        \"samples\": [\n          0.8141789629175531,\n          0.7755802968671952,\n          0.7850824175232712\n        ],\n        \"semantic_type\": \"\",\n        \"description\": \"\"\n      }\n    },\n    {\n      \"column\": \"target_2\",\n      \"properties\": {\n        \"dtype\": \"number\",\n        \"std\": 0.024526993912126923,\n        \"min\": 0.8191805777804118,\n        \"max\": 0.8676874659105023,\n        \"num_unique_values\": 3,\n        \"samples\": [\n          0.8676874659105023,\n          0.8191805777804118,\n          0.8371069653380678\n        ],\n        \"semantic_type\": \"\",\n        \"description\": \"\"\n      }\n    },\n    {\n      \"column\": \"target_3\",\n      \"properties\": {\n        \"dtype\": \"number\",\n        \"std\": 0.0137809258577729,\n        \"min\": 0.7979918323326688,\n        \"max\": 0.8225129591523218,\n        \"num_unique_values\": 3,\n        \"samples\": [\n          0.8225129591523218,\n          0.7993538863438128,\n          0.7979918323326688\n        ],\n        \"semantic_type\": \"\",\n        \"description\": \"\"\n      }\n    },\n    {\n      \"column\": \"target_4\",\n      \"properties\": {\n        \"dtype\": \"number\",\n        \"std\": 0.03668334294885813,\n        \"min\": 0.7537864941199734,\n        \"max\": 0.8181819811453034,\n        \"num_unique_values\": 3,\n        \"samples\": [\n          0.8181819811453034,\n          0.7555388950037807,\n          0.7537864941199734\n        ],\n        \"semantic_type\": \"\",\n        \"description\": \"\"\n      }\n    }\n  ]\n}",
       "type": "dataframe"
      },
      "text/html": [
       "\n",
       "  <div id=\"df-d8b63304-cb6c-493e-90e3-464aa42c06fa\" class=\"colab-df-container\">\n",
       "    <div>\n",
       "<style scoped>\n",
       "    .dataframe tbody tr th:only-of-type {\n",
       "        vertical-align: middle;\n",
       "    }\n",
       "\n",
       "    .dataframe tbody tr th {\n",
       "        vertical-align: top;\n",
       "    }\n",
       "\n",
       "    .dataframe thead th {\n",
       "        text-align: right;\n",
       "    }\n",
       "</style>\n",
       "<table border=\"1\" class=\"dataframe\">\n",
       "  <thead>\n",
       "    <tr style=\"text-align: right;\">\n",
       "      <th></th>\n",
       "      <th>target_1</th>\n",
       "      <th>target_2</th>\n",
       "      <th>target_3</th>\n",
       "      <th>target_4</th>\n",
       "    </tr>\n",
       "    <tr>\n",
       "      <th>SET</th>\n",
       "      <th></th>\n",
       "      <th></th>\n",
       "      <th></th>\n",
       "      <th></th>\n",
       "    </tr>\n",
       "  </thead>\n",
       "  <tbody>\n",
       "    <tr>\n",
       "      <th>train</th>\n",
       "      <td>0.814179</td>\n",
       "      <td>0.867687</td>\n",
       "      <td>0.822513</td>\n",
       "      <td>0.818182</td>\n",
       "    </tr>\n",
       "    <tr>\n",
       "      <th>valid</th>\n",
       "      <td>0.775580</td>\n",
       "      <td>0.819181</td>\n",
       "      <td>0.799354</td>\n",
       "      <td>0.755539</td>\n",
       "    </tr>\n",
       "    <tr>\n",
       "      <th>test</th>\n",
       "      <td>0.785082</td>\n",
       "      <td>0.837107</td>\n",
       "      <td>0.797992</td>\n",
       "      <td>0.753786</td>\n",
       "    </tr>\n",
       "  </tbody>\n",
       "</table>\n",
       "</div>\n",
       "    <div class=\"colab-df-buttons\">\n",
       "\n",
       "  <div class=\"colab-df-container\">\n",
       "    <button class=\"colab-df-convert\" onclick=\"convertToInteractive('df-d8b63304-cb6c-493e-90e3-464aa42c06fa')\"\n",
       "            title=\"Convert this dataframe to an interactive table.\"\n",
       "            style=\"display:none;\">\n",
       "\n",
       "  <svg xmlns=\"http://www.w3.org/2000/svg\" height=\"24px\" viewBox=\"0 -960 960 960\">\n",
       "    <path d=\"M120-120v-720h720v720H120Zm60-500h600v-160H180v160Zm220 220h160v-160H400v160Zm0 220h160v-160H400v160ZM180-400h160v-160H180v160Zm440 0h160v-160H620v160ZM180-180h160v-160H180v160Zm440 0h160v-160H620v160Z\"/>\n",
       "  </svg>\n",
       "    </button>\n",
       "\n",
       "  <style>\n",
       "    .colab-df-container {\n",
       "      display:flex;\n",
       "      gap: 12px;\n",
       "    }\n",
       "\n",
       "    .colab-df-convert {\n",
       "      background-color: #E8F0FE;\n",
       "      border: none;\n",
       "      border-radius: 50%;\n",
       "      cursor: pointer;\n",
       "      display: none;\n",
       "      fill: #1967D2;\n",
       "      height: 32px;\n",
       "      padding: 0 0 0 0;\n",
       "      width: 32px;\n",
       "    }\n",
       "\n",
       "    .colab-df-convert:hover {\n",
       "      background-color: #E2EBFA;\n",
       "      box-shadow: 0px 1px 2px rgba(60, 64, 67, 0.3), 0px 1px 3px 1px rgba(60, 64, 67, 0.15);\n",
       "      fill: #174EA6;\n",
       "    }\n",
       "\n",
       "    .colab-df-buttons div {\n",
       "      margin-bottom: 4px;\n",
       "    }\n",
       "\n",
       "    [theme=dark] .colab-df-convert {\n",
       "      background-color: #3B4455;\n",
       "      fill: #D2E3FC;\n",
       "    }\n",
       "\n",
       "    [theme=dark] .colab-df-convert:hover {\n",
       "      background-color: #434B5C;\n",
       "      box-shadow: 0px 1px 3px 1px rgba(0, 0, 0, 0.15);\n",
       "      filter: drop-shadow(0px 1px 2px rgba(0, 0, 0, 0.3));\n",
       "      fill: #FFFFFF;\n",
       "    }\n",
       "  </style>\n",
       "\n",
       "    <script>\n",
       "      const buttonEl =\n",
       "        document.querySelector('#df-d8b63304-cb6c-493e-90e3-464aa42c06fa button.colab-df-convert');\n",
       "      buttonEl.style.display =\n",
       "        google.colab.kernel.accessAllowed ? 'block' : 'none';\n",
       "\n",
       "      async function convertToInteractive(key) {\n",
       "        const element = document.querySelector('#df-d8b63304-cb6c-493e-90e3-464aa42c06fa');\n",
       "        const dataTable =\n",
       "          await google.colab.kernel.invokeFunction('convertToInteractive',\n",
       "                                                    [key], {});\n",
       "        if (!dataTable) return;\n",
       "\n",
       "        const docLinkHtml = 'Like what you see? Visit the ' +\n",
       "          '<a target=\"_blank\" href=https://colab.research.google.com/notebooks/data_table.ipynb>data table notebook</a>'\n",
       "          + ' to learn more about interactive tables.';\n",
       "        element.innerHTML = '';\n",
       "        dataTable['output_type'] = 'display_data';\n",
       "        await google.colab.output.renderOutput(dataTable, element);\n",
       "        const docLink = document.createElement('div');\n",
       "        docLink.innerHTML = docLinkHtml;\n",
       "        element.appendChild(docLink);\n",
       "      }\n",
       "    </script>\n",
       "  </div>\n",
       "\n",
       "\n",
       "<div id=\"df-4baf5b8e-5db4-4b97-a3fd-4002139b5e2d\">\n",
       "  <button class=\"colab-df-quickchart\" onclick=\"quickchart('df-4baf5b8e-5db4-4b97-a3fd-4002139b5e2d')\"\n",
       "            title=\"Suggest charts\"\n",
       "            style=\"display:none;\">\n",
       "\n",
       "<svg xmlns=\"http://www.w3.org/2000/svg\" height=\"24px\"viewBox=\"0 0 24 24\"\n",
       "     width=\"24px\">\n",
       "    <g>\n",
       "        <path d=\"M19 3H5c-1.1 0-2 .9-2 2v14c0 1.1.9 2 2 2h14c1.1 0 2-.9 2-2V5c0-1.1-.9-2-2-2zM9 17H7v-7h2v7zm4 0h-2V7h2v10zm4 0h-2v-4h2v4z\"/>\n",
       "    </g>\n",
       "</svg>\n",
       "  </button>\n",
       "\n",
       "<style>\n",
       "  .colab-df-quickchart {\n",
       "      --bg-color: #E8F0FE;\n",
       "      --fill-color: #1967D2;\n",
       "      --hover-bg-color: #E2EBFA;\n",
       "      --hover-fill-color: #174EA6;\n",
       "      --disabled-fill-color: #AAA;\n",
       "      --disabled-bg-color: #DDD;\n",
       "  }\n",
       "\n",
       "  [theme=dark] .colab-df-quickchart {\n",
       "      --bg-color: #3B4455;\n",
       "      --fill-color: #D2E3FC;\n",
       "      --hover-bg-color: #434B5C;\n",
       "      --hover-fill-color: #FFFFFF;\n",
       "      --disabled-bg-color: #3B4455;\n",
       "      --disabled-fill-color: #666;\n",
       "  }\n",
       "\n",
       "  .colab-df-quickchart {\n",
       "    background-color: var(--bg-color);\n",
       "    border: none;\n",
       "    border-radius: 50%;\n",
       "    cursor: pointer;\n",
       "    display: none;\n",
       "    fill: var(--fill-color);\n",
       "    height: 32px;\n",
       "    padding: 0;\n",
       "    width: 32px;\n",
       "  }\n",
       "\n",
       "  .colab-df-quickchart:hover {\n",
       "    background-color: var(--hover-bg-color);\n",
       "    box-shadow: 0 1px 2px rgba(60, 64, 67, 0.3), 0 1px 3px 1px rgba(60, 64, 67, 0.15);\n",
       "    fill: var(--button-hover-fill-color);\n",
       "  }\n",
       "\n",
       "  .colab-df-quickchart-complete:disabled,\n",
       "  .colab-df-quickchart-complete:disabled:hover {\n",
       "    background-color: var(--disabled-bg-color);\n",
       "    fill: var(--disabled-fill-color);\n",
       "    box-shadow: none;\n",
       "  }\n",
       "\n",
       "  .colab-df-spinner {\n",
       "    border: 2px solid var(--fill-color);\n",
       "    border-color: transparent;\n",
       "    border-bottom-color: var(--fill-color);\n",
       "    animation:\n",
       "      spin 1s steps(1) infinite;\n",
       "  }\n",
       "\n",
       "  @keyframes spin {\n",
       "    0% {\n",
       "      border-color: transparent;\n",
       "      border-bottom-color: var(--fill-color);\n",
       "      border-left-color: var(--fill-color);\n",
       "    }\n",
       "    20% {\n",
       "      border-color: transparent;\n",
       "      border-left-color: var(--fill-color);\n",
       "      border-top-color: var(--fill-color);\n",
       "    }\n",
       "    30% {\n",
       "      border-color: transparent;\n",
       "      border-left-color: var(--fill-color);\n",
       "      border-top-color: var(--fill-color);\n",
       "      border-right-color: var(--fill-color);\n",
       "    }\n",
       "    40% {\n",
       "      border-color: transparent;\n",
       "      border-right-color: var(--fill-color);\n",
       "      border-top-color: var(--fill-color);\n",
       "    }\n",
       "    60% {\n",
       "      border-color: transparent;\n",
       "      border-right-color: var(--fill-color);\n",
       "    }\n",
       "    80% {\n",
       "      border-color: transparent;\n",
       "      border-right-color: var(--fill-color);\n",
       "      border-bottom-color: var(--fill-color);\n",
       "    }\n",
       "    90% {\n",
       "      border-color: transparent;\n",
       "      border-bottom-color: var(--fill-color);\n",
       "    }\n",
       "  }\n",
       "</style>\n",
       "\n",
       "  <script>\n",
       "    async function quickchart(key) {\n",
       "      const quickchartButtonEl =\n",
       "        document.querySelector('#' + key + ' button');\n",
       "      quickchartButtonEl.disabled = true;  // To prevent multiple clicks.\n",
       "      quickchartButtonEl.classList.add('colab-df-spinner');\n",
       "      try {\n",
       "        const charts = await google.colab.kernel.invokeFunction(\n",
       "            'suggestCharts', [key], {});\n",
       "      } catch (error) {\n",
       "        console.error('Error during call to suggestCharts:', error);\n",
       "      }\n",
       "      quickchartButtonEl.classList.remove('colab-df-spinner');\n",
       "      quickchartButtonEl.classList.add('colab-df-quickchart-complete');\n",
       "    }\n",
       "    (() => {\n",
       "      let quickchartButtonEl =\n",
       "        document.querySelector('#df-4baf5b8e-5db4-4b97-a3fd-4002139b5e2d button');\n",
       "      quickchartButtonEl.style.display =\n",
       "        google.colab.kernel.accessAllowed ? 'block' : 'none';\n",
       "    })();\n",
       "  </script>\n",
       "</div>\n",
       "    </div>\n",
       "  </div>\n"
      ],
      "text/plain": [
       "       target_1  target_2  target_3  target_4\n",
       "SET                                          \n",
       "train  0.814179  0.867687  0.822513  0.818182\n",
       "valid  0.775580  0.819181  0.799354  0.755539\n",
       "test   0.785082  0.837107  0.797992  0.753786"
      ]
     },
     "execution_count": 156,
     "metadata": {},
     "output_type": "execute_result"
    }
   ],
   "source": [
    "X_trx\\\n",
    "    .groupby('SET')\\\n",
    "    .apply(multi_roc_auc)\\\n",
    "    .loc[['train', 'valid','test']]"
   ]
  },
  {
   "cell_type": "markdown",
   "metadata": {
    "id": "nKjBfUt6RyRU"
   },
   "source": [
    "Analyze ROC-AUC dynamics over months"
   ]
  },
  {
   "cell_type": "code",
   "execution_count": 157,
   "metadata": {
    "colab": {
     "base_uri": "https://localhost:8080/",
     "height": 546
    },
    "executionInfo": {
     "elapsed": 865,
     "status": "ok",
     "timestamp": 1738091776977,
     "user": {
      "displayName": "Eugene O'Leary",
      "userId": "15546787906852777125"
     },
     "user_tz": -180
    },
    "id": "F6Wd04mhAGiq",
    "outputId": "095edf7e-2096-488c-d62e-dd8b37a8a979"
   },
   "outputs": [
    {
     "name": "stderr",
     "output_type": "stream",
     "text": [
      "<ipython-input-157-fa316c3b4e6a>:3: DeprecationWarning: DataFrameGroupBy.apply operated on the grouping columns. This behavior is deprecated, and in a future version of pandas the grouping columns will be excluded from the operation. Either pass `include_groups=False` to exclude the groupings or explicitly select the grouping columns after groupby to silence this warning.\n",
      "  .apply(lambda x: roc_auc_score(x['target_1'], x['pred_1']))\n"
     ]
    },
    {
     "data": {
      "text/html": [
       "<div>\n",
       "<style scoped>\n",
       "    .dataframe tbody tr th:only-of-type {\n",
       "        vertical-align: middle;\n",
       "    }\n",
       "\n",
       "    .dataframe tbody tr th {\n",
       "        vertical-align: top;\n",
       "    }\n",
       "\n",
       "    .dataframe thead th {\n",
       "        text-align: right;\n",
       "    }\n",
       "</style>\n",
       "<table border=\"1\" class=\"dataframe\">\n",
       "  <thead>\n",
       "    <tr style=\"text-align: right;\">\n",
       "      <th></th>\n",
       "      <th>0</th>\n",
       "    </tr>\n",
       "    <tr>\n",
       "      <th>mon</th>\n",
       "      <th></th>\n",
       "    </tr>\n",
       "  </thead>\n",
       "  <tbody>\n",
       "    <tr>\n",
       "      <th>2022-02-28</th>\n",
       "      <td>0.779064</td>\n",
       "    </tr>\n",
       "    <tr>\n",
       "      <th>2022-03-31</th>\n",
       "      <td>0.787956</td>\n",
       "    </tr>\n",
       "    <tr>\n",
       "      <th>2022-04-30</th>\n",
       "      <td>0.804866</td>\n",
       "    </tr>\n",
       "    <tr>\n",
       "      <th>2022-05-31</th>\n",
       "      <td>0.789611</td>\n",
       "    </tr>\n",
       "    <tr>\n",
       "      <th>2022-06-30</th>\n",
       "      <td>0.820444</td>\n",
       "    </tr>\n",
       "    <tr>\n",
       "      <th>2022-07-31</th>\n",
       "      <td>0.819084</td>\n",
       "    </tr>\n",
       "    <tr>\n",
       "      <th>2022-08-31</th>\n",
       "      <td>0.797184</td>\n",
       "    </tr>\n",
       "    <tr>\n",
       "      <th>2022-09-30</th>\n",
       "      <td>0.778530</td>\n",
       "    </tr>\n",
       "    <tr>\n",
       "      <th>2022-10-31</th>\n",
       "      <td>0.801776</td>\n",
       "    </tr>\n",
       "    <tr>\n",
       "      <th>2022-11-30</th>\n",
       "      <td>0.832600</td>\n",
       "    </tr>\n",
       "    <tr>\n",
       "      <th>2022-12-31</th>\n",
       "      <td>0.787902</td>\n",
       "    </tr>\n",
       "    <tr>\n",
       "      <th>2023-01-31</th>\n",
       "      <td>0.709307</td>\n",
       "    </tr>\n",
       "  </tbody>\n",
       "</table>\n",
       "</div><br><label><b>dtype:</b> float64</label>"
      ],
      "text/plain": [
       "mon\n",
       "2022-02-28    0.779064\n",
       "2022-03-31    0.787956\n",
       "2022-04-30    0.804866\n",
       "2022-05-31    0.789611\n",
       "2022-06-30    0.820444\n",
       "2022-07-31    0.819084\n",
       "2022-08-31    0.797184\n",
       "2022-09-30    0.778530\n",
       "2022-10-31    0.801776\n",
       "2022-11-30    0.832600\n",
       "2022-12-31    0.787902\n",
       "2023-01-31    0.709307\n",
       "dtype: float64"
      ]
     },
     "execution_count": 157,
     "metadata": {},
     "output_type": "execute_result"
    }
   ],
   "source": [
    "X_trx\\\n",
    "    .groupby('mon')\\\n",
    "    .apply(lambda x: roc_auc_score(x['target_1'], x['pred_1']))"
   ]
  },
  {
   "cell_type": "markdown",
   "metadata": {
    "id": "ca5pTPbZR8jr"
   },
   "source": [
    "In 2023-01 less data is available => less is ROC-AUC"
   ]
  },
  {
   "cell_type": "code",
   "execution_count": 189,
   "metadata": {
    "colab": {
     "base_uri": "https://localhost:8080/",
     "height": 511
    },
    "id": "KsLQbETSiqMO",
    "outputId": "44ab70d0-247d-4c2f-cd26-23290164bd21"
   },
   "outputs": [
    {
     "name": "stderr",
     "output_type": "stream",
     "text": [
      "<ipython-input-189-39ce9f83811f>:4: DeprecationWarning: DataFrameGroupBy.apply operated on the grouping columns. This behavior is deprecated, and in a future version of pandas the grouping columns will be excluded from the operation. Either pass `include_groups=False` to exclude the groupings or explicitly select the grouping columns after groupby to silence this warning.\n",
      "  .apply(lambda x: x[['trx_sum_1m', 'trx_sum_3m', 'trx_sum_6m']].isna().mean())\n"
     ]
    },
    {
     "data": {
      "application/vnd.google.colaboratory.intrinsic+json": {
       "summary": "{\n  \"name\": \"    \",\n  \"rows\": 12,\n  \"fields\": [\n    {\n      \"column\": \"mon\",\n      \"properties\": {\n        \"dtype\": \"object\",\n        \"num_unique_values\": 12,\n        \"samples\": [\n          \"2022-12-31\",\n          \"2022-11-30\",\n          \"2022-02-28\"\n        ],\n        \"semantic_type\": \"\",\n        \"description\": \"\"\n      }\n    },\n    {\n      \"column\": \"trx_sum_1m\",\n      \"properties\": {\n        \"dtype\": \"number\",\n        \"std\": 0.23966469084339162,\n        \"min\": 0.1407901172777013,\n        \"max\": 1.0,\n        \"num_unique_values\": 12,\n        \"samples\": [\n          0.20727000111440932,\n          0.20218489801763467,\n          0.1407901172777013\n        ],\n        \"semantic_type\": \"\",\n        \"description\": \"\"\n      }\n    },\n    {\n      \"column\": \"trx_sum_3m\",\n      \"properties\": {\n        \"dtype\": \"number\",\n        \"std\": 0.027454068694114524,\n        \"min\": 0.06066362571236819,\n        \"max\": 0.15335136394485469,\n        \"num_unique_values\": 12,\n        \"samples\": [\n          0.12303078809000374,\n          0.11659949673697347,\n          0.06066362571236819\n        ],\n        \"semantic_type\": \"\",\n        \"description\": \"\"\n      }\n    },\n    {\n      \"column\": \"trx_sum_6m\",\n      \"properties\": {\n        \"dtype\": \"number\",\n        \"std\": 0.01774826402178728,\n        \"min\": 0.029370613461341583,\n        \"max\": 0.08426778496976327,\n        \"num_unique_values\": 12,\n        \"samples\": [\n          0.06615538918212488,\n          0.060790491192897034,\n          0.029370613461341583\n        ],\n        \"semantic_type\": \"\",\n        \"description\": \"\"\n      }\n    }\n  ]\n}",
       "type": "dataframe"
      },
      "text/html": [
       "\n",
       "  <div id=\"df-e86ddeb5-bbee-47ad-b329-590894837b6a\" class=\"colab-df-container\">\n",
       "    <div>\n",
       "<style scoped>\n",
       "    .dataframe tbody tr th:only-of-type {\n",
       "        vertical-align: middle;\n",
       "    }\n",
       "\n",
       "    .dataframe tbody tr th {\n",
       "        vertical-align: top;\n",
       "    }\n",
       "\n",
       "    .dataframe thead th {\n",
       "        text-align: right;\n",
       "    }\n",
       "</style>\n",
       "<table border=\"1\" class=\"dataframe\">\n",
       "  <thead>\n",
       "    <tr style=\"text-align: right;\">\n",
       "      <th></th>\n",
       "      <th>trx_sum_1m</th>\n",
       "      <th>trx_sum_3m</th>\n",
       "      <th>trx_sum_6m</th>\n",
       "    </tr>\n",
       "    <tr>\n",
       "      <th>mon</th>\n",
       "      <th></th>\n",
       "      <th></th>\n",
       "      <th></th>\n",
       "    </tr>\n",
       "  </thead>\n",
       "  <tbody>\n",
       "    <tr>\n",
       "      <th>2022-02-28</th>\n",
       "      <td>0.140790</td>\n",
       "      <td>0.060664</td>\n",
       "      <td>0.029371</td>\n",
       "    </tr>\n",
       "    <tr>\n",
       "      <th>2022-03-31</th>\n",
       "      <td>0.142774</td>\n",
       "      <td>0.065089</td>\n",
       "      <td>0.029865</td>\n",
       "    </tr>\n",
       "    <tr>\n",
       "      <th>2022-04-30</th>\n",
       "      <td>0.151713</td>\n",
       "      <td>0.070109</td>\n",
       "      <td>0.031207</td>\n",
       "    </tr>\n",
       "    <tr>\n",
       "      <th>2022-05-31</th>\n",
       "      <td>0.161589</td>\n",
       "      <td>0.074455</td>\n",
       "      <td>0.030816</td>\n",
       "    </tr>\n",
       "    <tr>\n",
       "      <th>2022-06-30</th>\n",
       "      <td>0.165154</td>\n",
       "      <td>0.081504</td>\n",
       "      <td>0.032430</td>\n",
       "    </tr>\n",
       "    <tr>\n",
       "      <th>2022-07-31</th>\n",
       "      <td>0.168669</td>\n",
       "      <td>0.089292</td>\n",
       "      <td>0.036075</td>\n",
       "    </tr>\n",
       "    <tr>\n",
       "      <th>2022-08-31</th>\n",
       "      <td>0.186679</td>\n",
       "      <td>0.095885</td>\n",
       "      <td>0.041824</td>\n",
       "    </tr>\n",
       "    <tr>\n",
       "      <th>2022-09-30</th>\n",
       "      <td>0.189430</td>\n",
       "      <td>0.100997</td>\n",
       "      <td>0.048253</td>\n",
       "    </tr>\n",
       "    <tr>\n",
       "      <th>2022-10-31</th>\n",
       "      <td>0.190402</td>\n",
       "      <td>0.111356</td>\n",
       "      <td>0.055316</td>\n",
       "    </tr>\n",
       "    <tr>\n",
       "      <th>2022-11-30</th>\n",
       "      <td>0.202185</td>\n",
       "      <td>0.116599</td>\n",
       "      <td>0.060790</td>\n",
       "    </tr>\n",
       "    <tr>\n",
       "      <th>2022-12-31</th>\n",
       "      <td>0.207270</td>\n",
       "      <td>0.123031</td>\n",
       "      <td>0.066155</td>\n",
       "    </tr>\n",
       "    <tr>\n",
       "      <th>2023-01-31</th>\n",
       "      <td>1.000000</td>\n",
       "      <td>0.153351</td>\n",
       "      <td>0.084268</td>\n",
       "    </tr>\n",
       "  </tbody>\n",
       "</table>\n",
       "</div>\n",
       "    <div class=\"colab-df-buttons\">\n",
       "\n",
       "  <div class=\"colab-df-container\">\n",
       "    <button class=\"colab-df-convert\" onclick=\"convertToInteractive('df-e86ddeb5-bbee-47ad-b329-590894837b6a')\"\n",
       "            title=\"Convert this dataframe to an interactive table.\"\n",
       "            style=\"display:none;\">\n",
       "\n",
       "  <svg xmlns=\"http://www.w3.org/2000/svg\" height=\"24px\" viewBox=\"0 -960 960 960\">\n",
       "    <path d=\"M120-120v-720h720v720H120Zm60-500h600v-160H180v160Zm220 220h160v-160H400v160Zm0 220h160v-160H400v160ZM180-400h160v-160H180v160Zm440 0h160v-160H620v160ZM180-180h160v-160H180v160Zm440 0h160v-160H620v160Z\"/>\n",
       "  </svg>\n",
       "    </button>\n",
       "\n",
       "  <style>\n",
       "    .colab-df-container {\n",
       "      display:flex;\n",
       "      gap: 12px;\n",
       "    }\n",
       "\n",
       "    .colab-df-convert {\n",
       "      background-color: #E8F0FE;\n",
       "      border: none;\n",
       "      border-radius: 50%;\n",
       "      cursor: pointer;\n",
       "      display: none;\n",
       "      fill: #1967D2;\n",
       "      height: 32px;\n",
       "      padding: 0 0 0 0;\n",
       "      width: 32px;\n",
       "    }\n",
       "\n",
       "    .colab-df-convert:hover {\n",
       "      background-color: #E2EBFA;\n",
       "      box-shadow: 0px 1px 2px rgba(60, 64, 67, 0.3), 0px 1px 3px 1px rgba(60, 64, 67, 0.15);\n",
       "      fill: #174EA6;\n",
       "    }\n",
       "\n",
       "    .colab-df-buttons div {\n",
       "      margin-bottom: 4px;\n",
       "    }\n",
       "\n",
       "    [theme=dark] .colab-df-convert {\n",
       "      background-color: #3B4455;\n",
       "      fill: #D2E3FC;\n",
       "    }\n",
       "\n",
       "    [theme=dark] .colab-df-convert:hover {\n",
       "      background-color: #434B5C;\n",
       "      box-shadow: 0px 1px 3px 1px rgba(0, 0, 0, 0.15);\n",
       "      filter: drop-shadow(0px 1px 2px rgba(0, 0, 0, 0.3));\n",
       "      fill: #FFFFFF;\n",
       "    }\n",
       "  </style>\n",
       "\n",
       "    <script>\n",
       "      const buttonEl =\n",
       "        document.querySelector('#df-e86ddeb5-bbee-47ad-b329-590894837b6a button.colab-df-convert');\n",
       "      buttonEl.style.display =\n",
       "        google.colab.kernel.accessAllowed ? 'block' : 'none';\n",
       "\n",
       "      async function convertToInteractive(key) {\n",
       "        const element = document.querySelector('#df-e86ddeb5-bbee-47ad-b329-590894837b6a');\n",
       "        const dataTable =\n",
       "          await google.colab.kernel.invokeFunction('convertToInteractive',\n",
       "                                                    [key], {});\n",
       "        if (!dataTable) return;\n",
       "\n",
       "        const docLinkHtml = 'Like what you see? Visit the ' +\n",
       "          '<a target=\"_blank\" href=https://colab.research.google.com/notebooks/data_table.ipynb>data table notebook</a>'\n",
       "          + ' to learn more about interactive tables.';\n",
       "        element.innerHTML = '';\n",
       "        dataTable['output_type'] = 'display_data';\n",
       "        await google.colab.output.renderOutput(dataTable, element);\n",
       "        const docLink = document.createElement('div');\n",
       "        docLink.innerHTML = docLinkHtml;\n",
       "        element.appendChild(docLink);\n",
       "      }\n",
       "    </script>\n",
       "  </div>\n",
       "\n",
       "\n",
       "<div id=\"df-47830319-9d37-488d-82e2-62d873df92cc\">\n",
       "  <button class=\"colab-df-quickchart\" onclick=\"quickchart('df-47830319-9d37-488d-82e2-62d873df92cc')\"\n",
       "            title=\"Suggest charts\"\n",
       "            style=\"display:none;\">\n",
       "\n",
       "<svg xmlns=\"http://www.w3.org/2000/svg\" height=\"24px\"viewBox=\"0 0 24 24\"\n",
       "     width=\"24px\">\n",
       "    <g>\n",
       "        <path d=\"M19 3H5c-1.1 0-2 .9-2 2v14c0 1.1.9 2 2 2h14c1.1 0 2-.9 2-2V5c0-1.1-.9-2-2-2zM9 17H7v-7h2v7zm4 0h-2V7h2v10zm4 0h-2v-4h2v4z\"/>\n",
       "    </g>\n",
       "</svg>\n",
       "  </button>\n",
       "\n",
       "<style>\n",
       "  .colab-df-quickchart {\n",
       "      --bg-color: #E8F0FE;\n",
       "      --fill-color: #1967D2;\n",
       "      --hover-bg-color: #E2EBFA;\n",
       "      --hover-fill-color: #174EA6;\n",
       "      --disabled-fill-color: #AAA;\n",
       "      --disabled-bg-color: #DDD;\n",
       "  }\n",
       "\n",
       "  [theme=dark] .colab-df-quickchart {\n",
       "      --bg-color: #3B4455;\n",
       "      --fill-color: #D2E3FC;\n",
       "      --hover-bg-color: #434B5C;\n",
       "      --hover-fill-color: #FFFFFF;\n",
       "      --disabled-bg-color: #3B4455;\n",
       "      --disabled-fill-color: #666;\n",
       "  }\n",
       "\n",
       "  .colab-df-quickchart {\n",
       "    background-color: var(--bg-color);\n",
       "    border: none;\n",
       "    border-radius: 50%;\n",
       "    cursor: pointer;\n",
       "    display: none;\n",
       "    fill: var(--fill-color);\n",
       "    height: 32px;\n",
       "    padding: 0;\n",
       "    width: 32px;\n",
       "  }\n",
       "\n",
       "  .colab-df-quickchart:hover {\n",
       "    background-color: var(--hover-bg-color);\n",
       "    box-shadow: 0 1px 2px rgba(60, 64, 67, 0.3), 0 1px 3px 1px rgba(60, 64, 67, 0.15);\n",
       "    fill: var(--button-hover-fill-color);\n",
       "  }\n",
       "\n",
       "  .colab-df-quickchart-complete:disabled,\n",
       "  .colab-df-quickchart-complete:disabled:hover {\n",
       "    background-color: var(--disabled-bg-color);\n",
       "    fill: var(--disabled-fill-color);\n",
       "    box-shadow: none;\n",
       "  }\n",
       "\n",
       "  .colab-df-spinner {\n",
       "    border: 2px solid var(--fill-color);\n",
       "    border-color: transparent;\n",
       "    border-bottom-color: var(--fill-color);\n",
       "    animation:\n",
       "      spin 1s steps(1) infinite;\n",
       "  }\n",
       "\n",
       "  @keyframes spin {\n",
       "    0% {\n",
       "      border-color: transparent;\n",
       "      border-bottom-color: var(--fill-color);\n",
       "      border-left-color: var(--fill-color);\n",
       "    }\n",
       "    20% {\n",
       "      border-color: transparent;\n",
       "      border-left-color: var(--fill-color);\n",
       "      border-top-color: var(--fill-color);\n",
       "    }\n",
       "    30% {\n",
       "      border-color: transparent;\n",
       "      border-left-color: var(--fill-color);\n",
       "      border-top-color: var(--fill-color);\n",
       "      border-right-color: var(--fill-color);\n",
       "    }\n",
       "    40% {\n",
       "      border-color: transparent;\n",
       "      border-right-color: var(--fill-color);\n",
       "      border-top-color: var(--fill-color);\n",
       "    }\n",
       "    60% {\n",
       "      border-color: transparent;\n",
       "      border-right-color: var(--fill-color);\n",
       "    }\n",
       "    80% {\n",
       "      border-color: transparent;\n",
       "      border-right-color: var(--fill-color);\n",
       "      border-bottom-color: var(--fill-color);\n",
       "    }\n",
       "    90% {\n",
       "      border-color: transparent;\n",
       "      border-bottom-color: var(--fill-color);\n",
       "    }\n",
       "  }\n",
       "</style>\n",
       "\n",
       "  <script>\n",
       "    async function quickchart(key) {\n",
       "      const quickchartButtonEl =\n",
       "        document.querySelector('#' + key + ' button');\n",
       "      quickchartButtonEl.disabled = true;  // To prevent multiple clicks.\n",
       "      quickchartButtonEl.classList.add('colab-df-spinner');\n",
       "      try {\n",
       "        const charts = await google.colab.kernel.invokeFunction(\n",
       "            'suggestCharts', [key], {});\n",
       "      } catch (error) {\n",
       "        console.error('Error during call to suggestCharts:', error);\n",
       "      }\n",
       "      quickchartButtonEl.classList.remove('colab-df-spinner');\n",
       "      quickchartButtonEl.classList.add('colab-df-quickchart-complete');\n",
       "    }\n",
       "    (() => {\n",
       "      let quickchartButtonEl =\n",
       "        document.querySelector('#df-47830319-9d37-488d-82e2-62d873df92cc button');\n",
       "      quickchartButtonEl.style.display =\n",
       "        google.colab.kernel.accessAllowed ? 'block' : 'none';\n",
       "    })();\n",
       "  </script>\n",
       "</div>\n",
       "    </div>\n",
       "  </div>\n"
      ],
      "text/plain": [
       "            trx_sum_1m  trx_sum_3m  trx_sum_6m\n",
       "mon                                           \n",
       "2022-02-28    0.140790    0.060664    0.029371\n",
       "2022-03-31    0.142774    0.065089    0.029865\n",
       "2022-04-30    0.151713    0.070109    0.031207\n",
       "2022-05-31    0.161589    0.074455    0.030816\n",
       "2022-06-30    0.165154    0.081504    0.032430\n",
       "2022-07-31    0.168669    0.089292    0.036075\n",
       "2022-08-31    0.186679    0.095885    0.041824\n",
       "2022-09-30    0.189430    0.100997    0.048253\n",
       "2022-10-31    0.190402    0.111356    0.055316\n",
       "2022-11-30    0.202185    0.116599    0.060790\n",
       "2022-12-31    0.207270    0.123031    0.066155\n",
       "2023-01-31    1.000000    0.153351    0.084268"
      ]
     },
     "execution_count": 189,
     "metadata": {},
     "output_type": "execute_result"
    }
   ],
   "source": [
    "trx_targets\\\n",
    "    .dropna(subset=trx_names, how='all')\\\n",
    "    .groupby('mon')\\\n",
    "    .apply(lambda x: x[['trx_sum_1m', 'trx_sum_3m', 'trx_sum_6m']].isna().mean())"
   ]
  },
  {
   "cell_type": "markdown",
   "metadata": {
    "id": "z5f1S6hQ-D5r"
   },
   "source": [
    "Scoring"
   ]
  },
  {
   "cell_type": "code",
   "execution_count": 159,
   "metadata": {
    "executionInfo": {
     "elapsed": 833,
     "status": "ok",
     "timestamp": 1738091781424,
     "user": {
      "displayName": "Eugene O'Leary",
      "userId": "15546787906852777125"
     },
     "user_tz": -180
    },
    "id": "U7uwFqqyHYZX"
   },
   "outputs": [],
   "source": [
    "X_trx_out = trx_targets.copy()\n",
    "X_trx_out[trx_names] = imp.transform(X_trx_out[trx_names])\n",
    "X_trx_out[cat_cols] = X_trx_out[cat_cols].astype('category')"
   ]
  },
  {
   "cell_type": "code",
   "execution_count": 160,
   "metadata": {
    "executionInfo": {
     "elapsed": 8029,
     "status": "ok",
     "timestamp": 1738091789452,
     "user": {
      "displayName": "Eugene O'Leary",
      "userId": "15546787906852777125"
     },
     "user_tz": -180
    },
    "id": "5JqJfL2UG-6o"
   },
   "outputs": [],
   "source": [
    "for i, label in enumerate(trgt_names):\n",
    "    X_trx_out[f'pred_trx_{i+1}'] = clf.predict_proba(X_trx_out[clf.feature_name_])[:, 1]"
   ]
  },
  {
   "cell_type": "code",
   "execution_count": 161,
   "metadata": {
    "colab": {
     "base_uri": "https://localhost:8080/",
     "height": 209
    },
    "executionInfo": {
     "elapsed": 1677,
     "status": "ok",
     "timestamp": 1738091791127,
     "user": {
      "displayName": "Eugene O'Leary",
      "userId": "15546787906852777125"
     },
     "user_tz": -180
    },
    "id": "1fxVa1h5Hzbo",
    "outputId": "c6f0918e-a4c8-4124-80a7-821d1ba8a2af"
   },
   "outputs": [
    {
     "data": {
      "text/html": [
       "<div>\n",
       "<style scoped>\n",
       "    .dataframe tbody tr th:only-of-type {\n",
       "        vertical-align: middle;\n",
       "    }\n",
       "\n",
       "    .dataframe tbody tr th {\n",
       "        vertical-align: top;\n",
       "    }\n",
       "\n",
       "    .dataframe thead th {\n",
       "        text-align: right;\n",
       "    }\n",
       "</style>\n",
       "<table border=\"1\" class=\"dataframe\">\n",
       "  <thead>\n",
       "    <tr style=\"text-align: right;\">\n",
       "      <th></th>\n",
       "      <th>0</th>\n",
       "    </tr>\n",
       "  </thead>\n",
       "  <tbody>\n",
       "    <tr>\n",
       "      <th>target_1</th>\n",
       "      <td>0.721359</td>\n",
       "    </tr>\n",
       "    <tr>\n",
       "      <th>target_2</th>\n",
       "      <td>0.768324</td>\n",
       "    </tr>\n",
       "    <tr>\n",
       "      <th>target_3</th>\n",
       "      <td>0.759974</td>\n",
       "    </tr>\n",
       "    <tr>\n",
       "      <th>target_4</th>\n",
       "      <td>0.789085</td>\n",
       "    </tr>\n",
       "  </tbody>\n",
       "</table>\n",
       "</div><br><label><b>dtype:</b> float64</label>"
      ],
      "text/plain": [
       "target_1    0.721359\n",
       "target_2    0.768324\n",
       "target_3    0.759974\n",
       "target_4    0.789085\n",
       "dtype: float64"
      ]
     },
     "execution_count": 161,
     "metadata": {},
     "output_type": "execute_result"
    }
   ],
   "source": [
    "multi_roc_auc(X_trx_out, pred_prefix='pred_trx')"
   ]
  },
  {
   "cell_type": "code",
   "execution_count": 162,
   "metadata": {
    "executionInfo": {
     "elapsed": 1179,
     "status": "ok",
     "timestamp": 1738091792302,
     "user": {
      "displayName": "Eugene O'Leary",
      "userId": "15546787906852777125"
     },
     "user_tz": -180
    },
    "id": "BiGqUTwNSZLb"
   },
   "outputs": [],
   "source": [
    "X_trx_out[['client_id', 'mon', 'pred_trx_1', 'pred_trx_2', 'pred_trx_3', 'pred_trx_4']].to_parquet('data_scored_trx.parquet')\n"
   ]
  },
  {
   "cell_type": "code",
   "execution_count": 162,
   "metadata": {
    "executionInfo": {
     "elapsed": 3,
     "status": "ok",
     "timestamp": 1738091792303,
     "user": {
      "displayName": "Eugene O'Leary",
      "userId": "15546787906852777125"
     },
     "user_tz": -180
    },
    "id": "XV5lBs1ASior"
   },
   "outputs": [],
   "source": []
  },
  {
   "cell_type": "markdown",
   "metadata": {
    "id": "3RqFI5KJHpwi"
   },
   "source": [
    "## Final calibration"
   ]
  },
  {
   "cell_type": "markdown",
   "metadata": {
    "id": "rWGxK41yHW-M"
   },
   "source": [
    "* Take predicted probabilities from both domain models\n",
    "* Map them into score space via inverse sigmoid\n",
    "* Train logreg on two scores\n",
    "* Repeat for each target"
   ]
  },
  {
   "cell_type": "code",
   "execution_count": 174,
   "metadata": {
    "executionInfo": {
     "elapsed": 897,
     "status": "ok",
     "timestamp": 1738092282346,
     "user": {
      "displayName": "Eugene O'Leary",
      "userId": "15546787906852777125"
     },
     "user_tz": -180
    },
    "id": "4Cqqjan-5tsV"
   },
   "outputs": [],
   "source": [
    "X_final = X_to_score[['client_id', 'mon', *trgt_names, 'pred_dial_1', 'pred_dial_2', 'pred_dial_3', 'pred_dial_4']]\\\n",
    "    .merge(X_trx_out[['client_id', 'mon', 'pred_trx_1', 'pred_trx_2', 'pred_trx_3', 'pred_trx_4']], on=['client_id', 'mon'])"
   ]
  },
  {
   "cell_type": "code",
   "execution_count": 175,
   "metadata": {
    "colab": {
     "base_uri": "https://localhost:8080/"
    },
    "executionInfo": {
     "elapsed": 946,
     "status": "ok",
     "timestamp": 1738092283291,
     "user": {
      "displayName": "Eugene O'Leary",
      "userId": "15546787906852777125"
     },
     "user_tz": -180
    },
    "id": "DWiy3lDtTiBG",
    "outputId": "8f7fee89-b973-450d-e510-8379d1d0f7d7"
   },
   "outputs": [
    {
     "name": "stdout",
     "output_type": "stream",
     "text": [
      "<class 'pandas.core.frame.DataFrame'>\n",
      "RangeIndex: 1202688 entries, 0 to 1202687\n",
      "Data columns (total 14 columns):\n",
      " #   Column       Non-Null Count    Dtype  \n",
      "---  ------       --------------    -----  \n",
      " 0   client_id    1202688 non-null  object \n",
      " 1   mon          1202688 non-null  object \n",
      " 2   target_1     1202688 non-null  int32  \n",
      " 3   target_2     1202688 non-null  int32  \n",
      " 4   target_3     1202688 non-null  int32  \n",
      " 5   target_4     1202688 non-null  int32  \n",
      " 6   pred_dial_1  1202688 non-null  float64\n",
      " 7   pred_dial_2  1202688 non-null  float64\n",
      " 8   pred_dial_3  1202688 non-null  float64\n",
      " 9   pred_dial_4  1202688 non-null  float64\n",
      " 10  pred_trx_1   1202688 non-null  float64\n",
      " 11  pred_trx_2   1202688 non-null  float64\n",
      " 12  pred_trx_3   1202688 non-null  float64\n",
      " 13  pred_trx_4   1202688 non-null  float64\n",
      "dtypes: float64(8), int32(4), object(2)\n",
      "memory usage: 110.1+ MB\n"
     ]
    }
   ],
   "source": [
    "X_final.info()"
   ]
  },
  {
   "cell_type": "code",
   "execution_count": 176,
   "metadata": {
    "executionInfo": {
     "elapsed": 3,
     "status": "ok",
     "timestamp": 1738092283291,
     "user": {
      "displayName": "Eugene O'Leary",
      "userId": "15546787906852777125"
     },
     "user_tz": -180
    },
    "id": "4yITzcTPWHna"
   },
   "outputs": [],
   "source": [
    "train_fin, test_fin = train_test_split(X_final, random_state=42, train_size=0.8)"
   ]
  },
  {
   "cell_type": "code",
   "execution_count": 177,
   "metadata": {
    "executionInfo": {
     "elapsed": 3,
     "status": "ok",
     "timestamp": 1738092283291,
     "user": {
      "displayName": "Eugene O'Leary",
      "userId": "15546787906852777125"
     },
     "user_tz": -180
    },
    "id": "UJM4I7ruWb_A"
   },
   "outputs": [],
   "source": [
    "def sigmoid_inv(x):\n",
    "    return np.log(x / (1 - x))"
   ]
  },
  {
   "cell_type": "code",
   "execution_count": 178,
   "metadata": {
    "executionInfo": {
     "elapsed": 2,
     "status": "ok",
     "timestamp": 1738092283665,
     "user": {
      "displayName": "Eugene O'Leary",
      "userId": "15546787906852777125"
     },
     "user_tz": -180
    },
    "id": "rvg5AzGoWz9t"
   },
   "outputs": [],
   "source": [
    "from sklearn.linear_model import LogisticRegression"
   ]
  },
  {
   "cell_type": "code",
   "execution_count": 179,
   "metadata": {
    "executionInfo": {
     "elapsed": 6821,
     "status": "ok",
     "timestamp": 1738092290794,
     "user": {
      "displayName": "Eugene O'Leary",
      "userId": "15546787906852777125"
     },
     "user_tz": -180
    },
    "id": "5vVN5dqcT06C"
   },
   "outputs": [],
   "source": [
    "for idx in range(1, 5):\n",
    "    pred_dial = f\"pred_dial_{i}\"\n",
    "    pred_trx = f\"pred_trx_{i}\"\n",
    "    trgt = f\"target_{i}\"\n",
    "\n",
    "    train_score = sigmoid_inv(train_fin[[pred_dial, pred_trx]])\n",
    "    X_score = sigmoid_inv(X_final[[pred_dial, pred_trx]])\n",
    "\n",
    "    lr = LogisticRegression(random_state=42)\n",
    "    lr.fit(train_score, train_fin[trgt])\n",
    "\n",
    "    X_final[f'pred_final_{idx}'] = lr.predict_proba(X_score)[:, 1]"
   ]
  },
  {
   "cell_type": "code",
   "execution_count": 181,
   "metadata": {
    "executionInfo": {
     "elapsed": 3571,
     "status": "ok",
     "timestamp": 1738092338969,
     "user": {
      "displayName": "Eugene O'Leary",
      "userId": "15546787906852777125"
     },
     "user_tz": -180
    },
    "id": "a2AWwmefXmRi"
   },
   "outputs": [],
   "source": [
    "roc_auc_final = multi_roc_auc(X_final, pred_prefix='pred_final')"
   ]
  },
  {
   "cell_type": "code",
   "execution_count": 183,
   "metadata": {
    "colab": {
     "base_uri": "https://localhost:8080/",
     "height": 209
    },
    "executionInfo": {
     "elapsed": 233,
     "status": "ok",
     "timestamp": 1738092379324,
     "user": {
      "displayName": "Eugene O'Leary",
      "userId": "15546787906852777125"
     },
     "user_tz": -180
    },
    "id": "z7Sc8KsJYPNO",
    "outputId": "397ba3c3-3fea-448b-a0f1-04b319734b66"
   },
   "outputs": [
    {
     "data": {
      "text/html": [
       "<div>\n",
       "<style scoped>\n",
       "    .dataframe tbody tr th:only-of-type {\n",
       "        vertical-align: middle;\n",
       "    }\n",
       "\n",
       "    .dataframe tbody tr th {\n",
       "        vertical-align: top;\n",
       "    }\n",
       "\n",
       "    .dataframe thead th {\n",
       "        text-align: right;\n",
       "    }\n",
       "</style>\n",
       "<table border=\"1\" class=\"dataframe\">\n",
       "  <thead>\n",
       "    <tr style=\"text-align: right;\">\n",
       "      <th></th>\n",
       "      <th>0</th>\n",
       "    </tr>\n",
       "  </thead>\n",
       "  <tbody>\n",
       "    <tr>\n",
       "      <th>target_1</th>\n",
       "      <td>0.723455</td>\n",
       "    </tr>\n",
       "    <tr>\n",
       "      <th>target_2</th>\n",
       "      <td>0.768693</td>\n",
       "    </tr>\n",
       "    <tr>\n",
       "      <th>target_3</th>\n",
       "      <td>0.763033</td>\n",
       "    </tr>\n",
       "    <tr>\n",
       "      <th>target_4</th>\n",
       "      <td>0.790122</td>\n",
       "    </tr>\n",
       "  </tbody>\n",
       "</table>\n",
       "</div><br><label><b>dtype:</b> float64</label>"
      ],
      "text/plain": [
       "target_1    0.723455\n",
       "target_2    0.768693\n",
       "target_3    0.763033\n",
       "target_4    0.790122\n",
       "dtype: float64"
      ]
     },
     "execution_count": 183,
     "metadata": {},
     "output_type": "execute_result"
    }
   ],
   "source": [
    "roc_auc_final"
   ]
  },
  {
   "cell_type": "code",
   "execution_count": 184,
   "metadata": {
    "executionInfo": {
     "elapsed": 284,
     "status": "ok",
     "timestamp": 1738092402888,
     "user": {
      "displayName": "Eugene O'Leary",
      "userId": "15546787906852777125"
     },
     "user_tz": -180
    },
    "id": "CWFtl-ZTYE_g"
   },
   "outputs": [],
   "source": [
    "l = roc_auc_final.std() / np.sqrt(4) * 1.96"
   ]
  },
  {
   "cell_type": "code",
   "execution_count": 186,
   "metadata": {
    "colab": {
     "base_uri": "https://localhost:8080/"
    },
    "executionInfo": {
     "elapsed": 372,
     "status": "ok",
     "timestamp": 1738092451625,
     "user": {
      "displayName": "Eugene O'Leary",
      "userId": "15546787906852777125"
     },
     "user_tz": -180
    },
    "id": "NWHBmQaMYB53",
    "outputId": "3c5b9d4c-e614-46ae-9fcf-fa874cb6db4e"
   },
   "outputs": [
    {
     "name": "stdout",
     "output_type": "stream",
     "text": [
      "Final ROC-AUC\n",
      "0.76+-0.027\n"
     ]
    }
   ],
   "source": [
    "print('Final ROC-AUC')\n",
    "print(f\"{roc_auc_final.mean():.2}+-{l:.2}\")"
   ]
  }
 ],
 "metadata": {
  "colab": {
   "authorship_tag": "ABX9TyPvtdmTOn7CX7q0IPdyH2Me",
   "provenance": [
    {
     "file_id": "1W2ZwRvYQdG05EXhFVatd_ZI97xj7vpp5",
     "timestamp": 1738085492768
    },
    {
     "file_id": "1WmQdgNsLwf8ELz1CblPQGC4eq3PPNHT9",
     "timestamp": 1737998927669
    }
   ],
   "toc_visible": true
  },
  "kernelspec": {
   "display_name": "Python 3 (ipykernel)",
   "language": "python",
   "name": "python3"
  },
  "language_info": {
   "codemirror_mode": {
    "name": "ipython",
    "version": 3
   },
   "file_extension": ".py",
   "mimetype": "text/x-python",
   "name": "python",
   "nbconvert_exporter": "python",
   "pygments_lexer": "ipython3",
   "version": "3.9.18"
  }
 },
 "nbformat": 4,
 "nbformat_minor": 4
}
